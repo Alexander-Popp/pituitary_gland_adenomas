{
 "cells": [
  {
   "cell_type": "markdown",
   "metadata": {},
   "source": [
    "# Imports"
   ]
  },
  {
   "cell_type": "code",
   "execution_count": 1,
   "metadata": {},
   "outputs": [],
   "source": [
    "%reload_ext autoreload\n",
    "%autoreload 2\n",
    "%matplotlib inline\n",
    "import sys\n",
    "###\n",
    "#!pip install openslide-python\n",
    "#https://github.com/deroneriksson/python-wsi-preprocessing/\n",
    "###\n",
    "sys.path.append('../python-wsi-preprocessing/')\n",
    "from deephistopath.wsi import slide, filter, tiles, util\n",
    "\n",
    "import pandas as pd\n",
    "import numpy as np\n",
    "import os\n",
    "from pathlib import Path\n",
    "from functools import partial, update_wrapper\n",
    "from tqdm import tqdm_notebook as tqdm\n",
    "\n",
    "PATH = Path('/home/Deep_Learner/work/network/datasets/Hypophysenadenome/')\n",
    "FONT_PATH=PATH/'1984-Happines-Regular.ttf'\n",
    "ROIS_CORTICOTROP = PATH/'rois_corticotrop'\n",
    "ROIS_CORTICOTROP_FILTERED = PATH/'rois_corticotrop_filtered'\n",
    "slide.BASE_DIR = PATH\n",
    "slide.TRAIN_PREFIX = 'hypophysen'\n",
    "slide.SRC_TRAIN_DIR = ROIS_CORTICOTROP\n",
    "\n",
    "def show(np):\n",
    "    return util.np_to_pil(np)\n",
    "\n",
    "Path.ls = lambda x: list(x.iterdir())"
   ]
  },
  {
   "cell_type": "markdown",
   "metadata": {},
   "source": [
    "# Overwrite parts of wsi lib"
   ]
  },
  {
   "cell_type": "code",
   "execution_count": 7,
   "metadata": {},
   "outputs": [],
   "source": [
    "slide.open_slide = slide.open_image\n",
    "\n",
    "##################################################################################################################\n",
    "\n",
    "def get_image_path(folder_path, slide_num):\n",
    "    return folder_path.ls()[slide_num]\n",
    "slide.get_filter_image_result = partial(get_image_path, ROIS_CORTICOTROP_FILTERED)\n",
    "slide.get_training_image_path = partial(get_image_path, ROIS_CORTICOTROP)\n",
    "slide.get_training_slide_path = partial(get_image_path, ROIS_CORTICOTROP)\n",
    "\n",
    "##################################################################################################################\n",
    "\n",
    "def parse_dimensions_from_image_filename(img_path):\n",
    "    shape = slide.open_image_np(img_path).shape\n",
    "    return shape[1], shape[0], shape[1], shape[0]\n",
    "slide.parse_dimensions_from_image_filename = parse_dimensions_from_image_filename\n",
    "\n",
    "##################################################################################################################\n",
    "\n",
    "def tile_to_pil_tile(tile):\n",
    "  \"\"\"\n",
    "  Convert tile information into the corresponding tile as a PIL image read from the whole-slide image file.\n",
    "\n",
    "  Args:\n",
    "    tile: Tile object.\n",
    "\n",
    "  Return:\n",
    "    Tile as a PIL image.\n",
    "  \"\"\"\n",
    "  t = tile\n",
    "  filepath = slide.get_training_image_path(t.slide_num)\n",
    "  img = slide.open_image_np(filepath)\n",
    "  x, y = t.o_c_s, t.o_r_s\n",
    "  w, h = t.o_c_e - t.o_c_s, t.o_r_e - t.o_r_s\n",
    "  tile = img[t.o_r_s:t.o_r_e, t.o_c_s:t.o_c_e,:]\n",
    "  tile_pil = util.np_to_pil(tile)\n",
    "  return tile_pil\n",
    "tiles.tile_to_pil_tile = tile_to_pil_tile\n",
    "\n",
    "##################################################################################################################\n",
    "\n",
    "slide.SCALE_FACTOR = 1\n",
    "slide.BASE_DIR = PATH/'data'\n",
    "tiles.SUMMARY_TITLE_FONT_PATH = str(FONT_PATH)\n",
    "tiles.FONT_PATH = str(FONT_PATH)\n",
    "tiles.DISPLAY_TILE_SUMMARY_LABELS = True\n",
    "tiles.LABEL_ALL_TILES_IN_TOP_TILE_SUMMARY = True\n",
    "tiles.BORDER_ALL_TILES_IN_TOP_TILE_SUMMARY = True"
   ]
  },
  {
   "cell_type": "markdown",
   "metadata": {},
   "source": [
    "# Filter images"
   ]
  },
  {
   "cell_type": "code",
   "execution_count": 3,
   "metadata": {
    "scrolled": false
   },
   "outputs": [
    {
     "data": {
      "application/vnd.jupyter.widget-view+json": {
       "model_id": "e85fa07274b84b01a6fc97f49d4c3419",
       "version_major": 2,
       "version_minor": 0
      },
      "text/plain": [
       "HBox(children=(IntProgress(value=0, max=3), HTML(value='')))"
      ]
     },
     "metadata": {},
     "output_type": "display_data"
    },
    {
     "name": "stdout",
     "output_type": "stream",
     "text": [
      "RGB                  | Time: 0:00:00.020648  Type: uint8   Shape: (1144, 3224, 3)\n",
      "Gray                 | Time: 0:00:00.122444  Type: uint8   Shape: (1144, 3224)\n",
      "Complement           | Time: 0:00:00.001316  Type: uint8   Shape: (1144, 3224)\n",
      "Otsu Threshold       | Time: 0:00:00.031543  Type: uint8   Shape: (1144, 3224)\n",
      "Mask RGB             | Time: 0:00:00.007056  Type: uint8   Shape: (1144, 3224, 3)\n",
      "RGB                  | Time: 0:00:00.045846  Type: uint8   Shape: (2995, 3041, 3)\n",
      "Gray                 | Time: 0:00:00.286562  Type: uint8   Shape: (2995, 3041)\n",
      "Complement           | Time: 0:00:00.001076  Type: uint8   Shape: (2995, 3041)\n",
      "Otsu Threshold       | Time: 0:00:00.084043  Type: uint8   Shape: (2995, 3041)\n",
      "Mask RGB             | Time: 0:00:00.031109  Type: uint8   Shape: (2995, 3041, 3)\n",
      "\n"
     ]
    }
   ],
   "source": [
    "for img_path in tqdm(ROIS_CORTICOTROP.ls()):\n",
    "    if img_path.suffix == '.tif':\n",
    "        img_pil = slide.open_image(img_path)\n",
    "        img_np = util.pil_to_np_rgb(img_pil)\n",
    "        grayscale_np = filter.filter_rgb_to_grayscale(img_np)\n",
    "        complement_np = filter.filter_complement(grayscale_np)\n",
    "        otsu_np = filter.filter_otsu_threshold(complement_np).astype(np.bool)\n",
    "        filtered_img_np = util.mask_rgb(img_np, otsu_np)\n",
    "        filtered_img_pil = util.np_to_pil(filtered_img_np)\n",
    "        filtered_path = ROIS_CORTICOTROP_FILTERED/img_path.name\n",
    "        filtered_img_pil.save(filtered_path)"
   ]
  },
  {
   "cell_type": "markdown",
   "metadata": {},
   "source": [
    "# Create tiles"
   ]
  },
  {
   "cell_type": "code",
   "execution_count": 5,
   "metadata": {
    "scrolled": true
   },
   "outputs": [
    {
     "data": {
      "application/vnd.jupyter.widget-view+json": {
       "model_id": "e3acc322c2b74335b97a1a233ec25d25",
       "version_major": 2,
       "version_minor": 0
      },
      "text/plain": [
       "HBox(children=(IntProgress(value=0, max=2), HTML(value='')))"
      ]
     },
     "metadata": {},
     "output_type": "display_data"
    },
    {
     "name": "stdout",
     "output_type": "stream",
     "text": [
      "RGB                  | Time: 0:00:00.013300  Type: uint8   Shape: (1144, 3224, 3)\n",
      "RGB                  | Time: 0:00:00.013248  Type: uint8   Shape: (1144, 3224, 3)\n",
      "RGB                  | Time: 0:00:00.013461  Type: uint8   Shape: (1144, 3224, 3)\n",
      "Save Tile Data       | Time: 0:00:00.014889  Name: ./data/tile_data/hypophysen001-1x-3224x1144-3224x1144-tile_data.csv\n",
      "RGB                  | Time: 0:00:00.011170  Type: uint8   Shape: (1144, 3224, 3)\n",
      "RGB                  | Time: 0:00:00.011212  Type: uint8   Shape: (1144, 3224, 3)\n",
      "Save Tile Sum        | Time: 0:00:00.946896  Name: ./data/tile_summary_png/hypophysen001-1x-3224x1144-3224x1144-tile_summary.png\n",
      "RGB                  | Time: 0:00:00.011144  Type: uint8   Shape: (1144, 3224, 3)\n",
      "Save Tile Sum Thumb  | Time: 0:00:00.041041  Name: ./data/tile_summary_thumbnail_jpg/hypophysen001-1x-3224x1144-3224x1144-tile_summary.jpg\n",
      "RGB                  | Time: 0:00:00.011158  Type: uint8   Shape: (1144, 3224, 3)\n",
      "Save Tile Sum Orig   | Time: 0:00:01.697358  Name: ./data/tile_summary_on_original_png/hypophysen001-1x-3224x1144-3224x1144-tile_summary.png\n",
      "RGB                  | Time: 0:00:00.010765  Type: uint8   Shape: (1144, 3224, 3)\n",
      "Save Tile Sum Orig T | Time: 0:00:00.041349  Name: ./data/tile_summary_on_original_thumbnail_jpg/hypophysen001-1x-3224x1144-3224x1144-tile_summary.jpg\n",
      "RGB                  | Time: 0:00:00.011150  Type: uint8   Shape: (1144, 3224, 3)\n",
      "RGB                  | Time: 0:00:00.016572  Type: uint8   Shape: (2348, 4096, 3)\n",
      "RGB                  | Time: 0:00:00.000069  Type: uint8   Shape: (68, 505, 3)\n",
      "RGB                  | Time: 0:00:00.016481  Type: uint8   Shape: (2348, 4096, 3)\n",
      "RGB                  | Time: 0:00:00.000070  Type: uint8   Shape: (68, 505, 3)\n",
      "RGB                  | Time: 0:00:00.011142  Type: uint8   Shape: (1144, 3224, 3)\n",
      "Save Top Tiles Image | Time: 0:00:00.988420  Name: ./data/top_tile_summary_png/hypophysen001-1x-3224x1144-3224x1144-top_tile_summary.png\n",
      "RGB                  | Time: 0:00:00.010784  Type: uint8   Shape: (1144, 3224, 3)\n",
      "Save Top Tiles Thumb | Time: 0:00:00.044225  Name: ./data/top_tile_summary_thumbnail_jpg/hypophysen001-1x-3224x1144-3224x1144-top_tile_summary.jpg\n",
      "RGB                  | Time: 0:00:00.011159  Type: uint8   Shape: (1144, 3224, 3)\n",
      "Save Top Orig        | Time: 0:00:01.711728  Name: ./data/top_tile_summary_on_original_png/hypophysen001-1x-3224x1144-3224x1144-top_tile_summary.png\n",
      "RGB                  | Time: 0:00:00.010752  Type: uint8   Shape: (1144, 3224, 3)\n",
      "Save Top Orig Thumb  | Time: 0:00:00.044580  Name: ./data/top_tile_summary_on_original_thumbnail_jpg/hypophysen001-1x-3224x1144-3224x1144-top_tile_summary.jpg\n",
      "RGB                  | Time: 0:00:00.011098  Type: uint8   Shape: (1144, 3224, 3)\n",
      "Save Tile            | Time: 0:00:00.051884  Name: ./data/tiles_png/001/hypophysen001-tile-r2-c2-x1024-y1024-w1024-h120.png\n",
      "RGB                  | Time: 0:00:00.010680  Type: uint8   Shape: (1144, 3224, 3)\n",
      "Save Tile            | Time: 0:00:00.056347  Name: ./data/tiles_png/001/hypophysen001-tile-r2-c3-x2048-y1024-w1024-h120.png\n",
      "RGB                  | Time: 0:00:00.011096  Type: uint8   Shape: (1144, 3224, 3)\n",
      "Save Tile            | Time: 0:00:00.053041  Name: ./data/tiles_png/001/hypophysen001-tile-r2-c1-x0-y1024-w1024-h120.png\n",
      "RGB                  | Time: 0:00:00.033638  Type: uint8   Shape: (2995, 3041, 3)\n",
      "RGB                  | Time: 0:00:00.033357  Type: uint8   Shape: (2995, 3041, 3)\n",
      "RGB                  | Time: 0:00:00.026958  Type: uint8   Shape: (2995, 3041, 3)\n",
      "Save Tile Data       | Time: 0:00:00.028333  Name: ./data/tile_data/hypophysen002-1x-3041x2995-3041x2995-tile_data.csv\n",
      "RGB                  | Time: 0:00:00.029112  Type: uint8   Shape: (2995, 3041, 3)\n",
      "RGB                  | Time: 0:00:00.034816  Type: uint8   Shape: (2995, 3041, 3)\n",
      "Save Tile Sum        | Time: 0:00:00.873516  Name: ./data/tile_summary_png/hypophysen002-1x-3041x2995-3041x2995-tile_summary.png\n",
      "RGB                  | Time: 0:00:00.026677  Type: uint8   Shape: (2995, 3041, 3)\n",
      "Save Tile Sum Thumb  | Time: 0:00:00.061711  Name: ./data/tile_summary_thumbnail_jpg/hypophysen002-1x-3041x2995-3041x2995-tile_summary.jpg\n",
      "RGB                  | Time: 0:00:00.026933  Type: uint8   Shape: (2995, 3041, 3)\n",
      "Save Tile Sum Orig   | Time: 0:00:03.871270  Name: ./data/tile_summary_on_original_png/hypophysen002-1x-3041x2995-3041x2995-tile_summary.png\n",
      "RGB                  | Time: 0:00:00.026614  Type: uint8   Shape: (2995, 3041, 3)\n",
      "Save Tile Sum Orig T | Time: 0:00:00.061940  Name: ./data/tile_summary_on_original_thumbnail_jpg/hypophysen002-1x-3041x2995-3041x2995-tile_summary.jpg\n",
      "RGB                  | Time: 0:00:00.033088  Type: uint8   Shape: (2995, 3041, 3)\n",
      "RGB                  | Time: 0:00:00.017972  Type: uint8   Shape: (3372, 3072, 3)\n",
      "RGB                  | Time: 0:00:00.000075  Type: uint8   Shape: (68, 496, 3)\n",
      "RGB                  | Time: 0:00:00.011308  Type: uint8   Shape: (3372, 3072, 3)\n",
      "RGB                  | Time: 0:00:00.000067  Type: uint8   Shape: (68, 496, 3)\n",
      "RGB                  | Time: 0:00:00.035312  Type: uint8   Shape: (2995, 3041, 3)\n",
      "Save Top Tiles Image | Time: 0:00:00.958940  Name: ./data/top_tile_summary_png/hypophysen002-1x-3041x2995-3041x2995-top_tile_summary.png\n",
      "RGB                  | Time: 0:00:00.027083  Type: uint8   Shape: (2995, 3041, 3)\n",
      "Save Top Tiles Thumb | Time: 0:00:00.065620  Name: ./data/top_tile_summary_thumbnail_jpg/hypophysen002-1x-3041x2995-3041x2995-top_tile_summary.jpg\n",
      "RGB                  | Time: 0:00:00.027261  Type: uint8   Shape: (2995, 3041, 3)\n",
      "Save Top Orig        | Time: 0:00:03.860155  Name: ./data/top_tile_summary_on_original_png/hypophysen002-1x-3041x2995-3041x2995-top_tile_summary.png\n",
      "RGB                  | Time: 0:00:00.026719  Type: uint8   Shape: (2995, 3041, 3)\n",
      "Save Top Orig Thumb  | Time: 0:00:00.065763  Name: ./data/top_tile_summary_on_original_thumbnail_jpg/hypophysen002-1x-3041x2995-3041x2995-top_tile_summary.jpg\n",
      "RGB                  | Time: 0:00:00.032360  Type: uint8   Shape: (2995, 3041, 3)\n",
      "Save Tile            | Time: 0:00:00.398111  Name: ./data/tiles_png/002/hypophysen002-tile-r2-c2-x1024-y1024-w1024-h1024.png\n",
      "RGB                  | Time: 0:00:00.027076  Type: uint8   Shape: (2995, 3041, 3)\n",
      "Save Tile            | Time: 0:00:00.342979  Name: ./data/tiles_png/002/hypophysen002-tile-r3-c1-x0-y2048-w1024-h947.png\n",
      "RGB                  | Time: 0:00:00.027119  Type: uint8   Shape: (2995, 3041, 3)\n",
      "Save Tile            | Time: 0:00:00.404904  Name: ./data/tiles_png/002/hypophysen002-tile-r1-c3-x2048-y0-w993-h1024.png\n",
      "\n"
     ]
    }
   ],
   "source": [
    "for n, p in tqdm(enumerate(ROIS_CORTICOTROP_FILTERED.ls()), total=len(ROIS_CORTICOTROP_FILTERED.ls())-1):\n",
    "    if p.suffix == '.tif':\n",
    "        tiles.summary_and_tiles(n, display=True, save_summary=True, save_data=True, save_top_tiles=True)"
   ]
  },
  {
   "cell_type": "code",
   "execution_count": null,
   "metadata": {},
   "outputs": [],
   "source": []
  },
  {
   "cell_type": "markdown",
   "metadata": {
    "heading_collapsed": true
   },
   "source": [
    "# obsolete"
   ]
  },
  {
   "cell_type": "markdown",
   "metadata": {
    "heading_collapsed": true,
    "hidden": true
   },
   "source": [
    "## constants "
   ]
  },
  {
   "cell_type": "code",
   "execution_count": null,
   "metadata": {
    "hidden": true
   },
   "outputs": [],
   "source": [
    "TISSUE_HIGH_THRESH = 80\n",
    "TISSUE_LOW_THRESH = 10\n",
    "\n",
    "ROW_TILE_SIZE = 1024\n",
    "COL_TILE_SIZE = 1024\n",
    "NUM_TOP_TILES = 50\n",
    "\n",
    "DISPLAY_TILE_SUMMARY_LABELS = False\n",
    "TILE_LABEL_TEXT_SIZE = 10\n",
    "LABEL_ALL_TILES_IN_TOP_TILE_SUMMARY = False\n",
    "BORDER_ALL_TILES_IN_TOP_TILE_SUMMARY = False\n",
    "\n",
    "TILE_BORDER_SIZE = 2  # The size of the colored rectangular border around summary tiles.\n",
    "\n",
    "HIGH_COLOR = (0, 255, 0)\n",
    "MEDIUM_COLOR = (255, 255, 0)\n",
    "LOW_COLOR = (255, 165, 0)\n",
    "NONE_COLOR = (255, 0, 0)\n",
    "\n",
    "FADED_THRESH_COLOR = (128, 255, 128)\n",
    "FADED_MEDIUM_COLOR = (255, 255, 128)\n",
    "FADED_LOW_COLOR = (255, 210, 128)\n",
    "FADED_NONE_COLOR = (255, 128, 128)\n",
    "\n",
    "FONT_PATH = \"/Library/Fonts/Arial Bold.ttf\"\n",
    "SUMMARY_TITLE_FONT_PATH = \"/Library/Fonts/Courier New Bold.ttf\"\n",
    "SUMMARY_TITLE_TEXT_COLOR = (0, 0, 0)\n",
    "SUMMARY_TITLE_TEXT_SIZE = 24\n",
    "SUMMARY_TILE_TEXT_COLOR = (255, 255, 255)\n",
    "TILE_TEXT_COLOR = (0, 0, 0)\n",
    "TILE_TEXT_SIZE = 36\n",
    "TILE_TEXT_BACKGROUND_COLOR = (255, 255, 255)\n",
    "TILE_TEXT_W_BORDER = 5\n",
    "TILE_TEXT_H_BORDER = 4\n",
    "\n",
    "HSV_PURPLE = 270\n",
    "HSV_PINK = 330"
   ]
  },
  {
   "cell_type": "markdown",
   "metadata": {
    "heading_collapsed": true,
    "hidden": true
   },
   "source": [
    "## score_tile"
   ]
  },
  {
   "cell_type": "code",
   "execution_count": null,
   "metadata": {
    "hidden": true
   },
   "outputs": [],
   "source": [
    "def score_tile(np_tile, tissue_percent, row, col):\n",
    "    \"\"\"\n",
    "    Score tile based on tissue percentage, color factor, saturation/value factor, and tissue quantity factor.  \n",
    "    \n",
    "    Args:\n",
    "    np_tile: Tile as NumPy array.\n",
    "    tissue_percent: The percentage of the tile judged to be tissue.\n",
    "    row: Tile row.\n",
    "    col: Tile column.\n",
    "    \n",
    "    Returns tuple consisting of score, color factor, saturation/value factor, and tissue quantity factor.\n",
    "    \"\"\"\n",
    "    color_factor = tiles.hsv_purple_pink_factor(np_tile)\n",
    "    s_and_v_factor = tiles.hsv_saturation_and_value_factor(np_tile)\n",
    "    amount = tiles.tissue_quantity(tissue_percent)\n",
    "    quantity_factor = tiles.tissue_quantity_factor(amount)\n",
    "    combined_factor = color_factor * s_and_v_factor * quantity_factor\n",
    "    score = (tissue_percent ** 2) * np.log(1 + combined_factor) / 1000.0\n",
    "    # scale score to between 0 and 1\n",
    "    score = 1.0 - (10.0 / (10.0 + score))\n",
    "    return score, color_factor, s_and_v_factor, quantity_factor"
   ]
  },
  {
   "cell_type": "markdown",
   "metadata": {
    "heading_collapsed": true,
    "hidden": true
   },
   "source": [
    "## score_tiles"
   ]
  },
  {
   "cell_type": "code",
   "execution_count": null,
   "metadata": {
    "hidden": true
   },
   "outputs": [],
   "source": [
    "def score_tiles(img_path, np_img=None, dimensions=None, small_tile_in_tile=False, tile_size=1024):\n",
    "    \"\"\"\n",
    "     Score all tiles for a slide and return the results in a TileSummary object.\n",
    "     Args:\n",
    "       img_path: \n",
    "       np_img: Optional image as a NumPy array.\n",
    "       dimensions: Optional tuple consisting of (original width, original height, new width, new height). Used for dynamic\n",
    "         tile retrieval.\n",
    "       small_tile_in_tile: If True, include the small NumPy image in the Tile objects.\n",
    "     Returns:\n",
    "       TileSummary object which includes a list of Tile objects containing information about each tile.\n",
    "     \"\"\"\n",
    "    if np_img is None:\n",
    "        np_img = slide.open_image_np(img_path)\n",
    "   \n",
    "    if dimensions is None:\n",
    "        h, w = slide.open_image_np(img_path).shape[:2]\n",
    "        o_h, o_w = h, w\n",
    "    else:\n",
    "        o_w, o_h, w, h = dimensions\n",
    "        \n",
    "    num_row_tiles, num_col_tiles = tiles.get_num_tiles(h, w, tile_size, tile_size)\n",
    "    tile_sum = tiles.TileSummary(slide_num=None,\n",
    "                        orig_w=o_w,\n",
    "                        orig_h=o_h,\n",
    "                        orig_tile_w=tile_size,\n",
    "                        orig_tile_h=tile_size,\n",
    "                        #scale_factor = None,                    \n",
    "                        scaled_w=w,\n",
    "                        scaled_h=h,\n",
    "                        scaled_tile_w=tile_size,\n",
    "                        scaled_tile_h=tile_size,\n",
    "                        tissue_percentage=filter.tissue_percent(np_img),\n",
    "                        num_col_tiles=num_col_tiles,\n",
    "                        num_row_tiles=num_row_tiles)\n",
    "    count = 0\n",
    "    high = 0\n",
    "    medium = 0\n",
    "    low = 0\n",
    "    none = 0\n",
    "    tile_indices = tiles.get_tile_indices(h, w, tile_size, tile_size)\n",
    "    for t in tile_indices:\n",
    "        count += 1  # tile_num\n",
    "        r_s, r_e, c_s, c_e, r, c = t\n",
    "        np_tile = np_img[r_s:r_e, c_s:c_e]\n",
    "        t_p = filter.tissue_percent(np_tile)\n",
    "        amount = tiles.tissue_quantity(t_p)\n",
    "        if amount == tiles.TissueQuantity.HIGH:\n",
    "            high += 1\n",
    "        elif amount == tiles.TissueQuantity.MEDIUM:\n",
    "            medium += 1\n",
    "        elif amount == tiles.TissueQuantity.LOW:\n",
    "            low += 1\n",
    "        elif amount == tiles.TissueQuantity.NONE:\n",
    "            none += 1\n",
    "        o_c_s, o_r_s = slide.small_to_large_mapping((c_s, r_s), (o_w, o_h))\n",
    "        o_c_e, o_r_e = slide.small_to_large_mapping((c_e, r_e), (o_w, o_h))\n",
    "        # pixel adjustment in case tile dimension too large (for example, 1025 instead of 1024)\n",
    "        if (o_c_e - o_c_s) > tile_size:\n",
    "            o_c_e -= 1\n",
    "        if (o_r_e - o_r_s) > tile_size:\n",
    "            o_r_e -= 1\n",
    "        score, color_factor, s_and_v_factor, quantity_factor = score_tile(np_tile, t_p, r, c)\n",
    "        np_scaled_tile = np_tile if small_tile_in_tile else None\n",
    "        tile = tiles.Tile(tile_sum, None, np_scaled_tile, count, r, c, r_s, r_e, c_s, c_e, o_r_s, o_r_e, o_c_s,\n",
    "               o_c_e, t_p, color_factor, s_and_v_factor, quantity_factor, score)\n",
    "        tile_sum.tiles.append(tile)\n",
    "        \n",
    "    tile_sum.count = count\n",
    "    tile_sum.high = high\n",
    "    tile_sum.medium = medium\n",
    "    tile_sum.low = low\n",
    "    tile_sum.none = none\n",
    "    tiles_by_score = tile_sum.tiles_by_score()\n",
    "    rank = 0\n",
    "    for t in tiles_by_score:\n",
    "        rank += 1\n",
    "        t.rank = rank\n",
    "    return tile_sum"
   ]
  },
  {
   "cell_type": "markdown",
   "metadata": {
    "heading_collapsed": true,
    "hidden": true
   },
   "source": [
    "## generate_tile_summaries"
   ]
  },
  {
   "cell_type": "code",
   "execution_count": 64,
   "metadata": {
    "hidden": true
   },
   "outputs": [],
   "source": [
    "def generate_tile_summaries(tile_sum, np_img, img_path, display=True, save_summary=False):\n",
    "  \"\"\"\n",
    "  Generate summary images/thumbnails showing a 'heatmap' representation of the tissue segmentation of all tiles.\n",
    "\n",
    "  Args:\n",
    "    tile_sum: TileSummary object.\n",
    "    np_img: Image as a NumPy array.\n",
    "    display: If True, display tile summary to screen.\n",
    "    save_summary: If True, save tile summary images.\n",
    "  \"\"\"\n",
    "  z = 300  # height of area at top of summary slide\n",
    "  slide_num = tile_sum.slide_num\n",
    "  rows = tile_sum.scaled_h\n",
    "  cols = tile_sum.scaled_w\n",
    "  row_tile_size = tile_sum.scaled_tile_h\n",
    "  col_tile_size = tile_sum.scaled_tile_w\n",
    "  num_row_tiles, num_col_tiles = tiles.get_num_tiles(rows, cols, row_tile_size, col_tile_size)\n",
    "  summary = tiles.create_summary_pil_img(np_img, z, row_tile_size, col_tile_size, num_row_tiles, num_col_tiles)\n",
    "  draw = ImageDraw.Draw(summary)\n",
    "\n",
    "  #original_img_path = slide.get_training_image_path(slide_num)\n",
    "  original_img_path = img_path\n",
    "  np_orig = slide.open_image_np(original_img_path)\n",
    "  summary_orig = tiles.create_summary_pil_img(np_orig, z, row_tile_size, col_tile_size, num_row_tiles, num_col_tiles)\n",
    "  draw_orig = ImageDraw.Draw(summary_orig)\n",
    "\n",
    "  for t in tile_sum.tiles:\n",
    "    border_color = tile_border_color(t.tissue_percentage)\n",
    "    tile_border(draw, t.r_s + z, t.r_e + z, t.c_s, t.c_e, border_color)\n",
    "    tile_border(draw_orig, t.r_s + z, t.r_e + z, t.c_s, t.c_e, border_color)\n",
    "\n",
    "  summary_txt = summary_title(tile_sum) + \"\\n\" + summary_stats(tile_sum)\n",
    "\n",
    "  summary_font = ImageFont.truetype(SUMMARY_TITLE_FONT_PATH, size=SUMMARY_TITLE_TEXT_SIZE)\n",
    "  draw.text((5, 5), summary_txt, SUMMARY_TITLE_TEXT_COLOR, font=summary_font)\n",
    "  draw_orig.text((5, 5), summary_txt, SUMMARY_TITLE_TEXT_COLOR, font=summary_font)\n",
    "\n",
    "  if DISPLAY_TILE_SUMMARY_LABELS:\n",
    "    count = 0\n",
    "    for t in tile_sum.tiles:\n",
    "      count += 1\n",
    "      label = \"R%d\\nC%d\" % (t.r, t.c)\n",
    "      font = ImageFont.truetype(FONT_PATH, size=TILE_LABEL_TEXT_SIZE)\n",
    "      # drop shadow behind text\n",
    "      draw.text(((t.c_s + 3), (t.r_s + 3 + z)), label, (0, 0, 0), font=font)\n",
    "      draw_orig.text(((t.c_s + 3), (t.r_s + 3 + z)), label, (0, 0, 0), font=font)\n",
    "\n",
    "      draw.text(((t.c_s + 2), (t.r_s + 2 + z)), label, SUMMARY_TILE_TEXT_COLOR, font=font)\n",
    "      draw_orig.text(((t.c_s + 2), (t.r_s + 2 + z)), label, SUMMARY_TILE_TEXT_COLOR, font=font)\n",
    "\n",
    "  if display:\n",
    "    summary.show()\n",
    "    summary_orig.show()\n",
    "  if save_summary:\n",
    "    save_tile_summary_image(summary, slide_num)\n",
    "    save_tile_summary_on_original_image(summary_orig, slide_num)"
   ]
  },
  {
   "cell_type": "markdown",
   "metadata": {
    "heading_collapsed": true,
    "hidden": true
   },
   "source": [
    "## generate_top_tile_summaries"
   ]
  },
  {
   "cell_type": "code",
   "execution_count": 65,
   "metadata": {
    "hidden": true
   },
   "outputs": [
    {
     "ename": "NameError",
     "evalue": "name 'LABEL_ALL_TILES_IN_TOP_TILE_SUMMARY' is not defined",
     "output_type": "error",
     "traceback": [
      "\u001b[0;31m---------------------------------------------------------------------------\u001b[0m",
      "\u001b[0;31mNameError\u001b[0m                                 Traceback (most recent call last)",
      "\u001b[0;32m<ipython-input-65-3da3cf559e95>\u001b[0m in \u001b[0;36m<module>\u001b[0;34m\u001b[0m\n\u001b[1;32m      1\u001b[0m def generate_top_tile_summaries(tile_sum, np_img, display=True, save_summary=False, show_top_stats=True,\n\u001b[0;32m----> 2\u001b[0;31m                                 \u001b[0mlabel_all_tiles\u001b[0m\u001b[0;34m=\u001b[0m\u001b[0mLABEL_ALL_TILES_IN_TOP_TILE_SUMMARY\u001b[0m\u001b[0;34m,\u001b[0m\u001b[0;34m\u001b[0m\u001b[0;34m\u001b[0m\u001b[0m\n\u001b[0m\u001b[1;32m      3\u001b[0m                                 border_all_tiles=BORDER_ALL_TILES_IN_TOP_TILE_SUMMARY):\n\u001b[1;32m      4\u001b[0m   \"\"\"\n\u001b[1;32m      5\u001b[0m   \u001b[0mGenerate\u001b[0m \u001b[0msummary\u001b[0m \u001b[0mimages\u001b[0m\u001b[0;34m/\u001b[0m\u001b[0mthumbnails\u001b[0m \u001b[0mshowing\u001b[0m \u001b[0mthe\u001b[0m \u001b[0mtop\u001b[0m \u001b[0mtiles\u001b[0m \u001b[0mranked\u001b[0m \u001b[0mby\u001b[0m \u001b[0mscore\u001b[0m\u001b[0;34m.\u001b[0m\u001b[0;34m\u001b[0m\u001b[0;34m\u001b[0m\u001b[0m\n",
      "\u001b[0;31mNameError\u001b[0m: name 'LABEL_ALL_TILES_IN_TOP_TILE_SUMMARY' is not defined"
     ]
    }
   ],
   "source": [
    "def generate_top_tile_summaries(tile_sum, np_img, display=True, save_summary=False, show_top_stats=True,\n",
    "                                label_all_tiles=LABEL_ALL_TILES_IN_TOP_TILE_SUMMARY,\n",
    "                                border_all_tiles=BORDER_ALL_TILES_IN_TOP_TILE_SUMMARY):\n",
    "  \"\"\"\n",
    "  Generate summary images/thumbnails showing the top tiles ranked by score.\n",
    "\n",
    "  Args:\n",
    "    tile_sum: TileSummary object.\n",
    "    np_img: Image as a NumPy array.\n",
    "    display: If True, display top tiles to screen.\n",
    "    save_summary: If True, save top tiles images.\n",
    "    show_top_stats: If True, append top tile score stats to image.\n",
    "    label_all_tiles: If True, label all tiles. If False, label only top tiles.\n",
    "  \"\"\"\n",
    "  z = 300  # height of area at top of summary slide\n",
    "  slide_num = tile_sum.slide_num\n",
    "  rows = tile_sum.scaled_h\n",
    "  cols = tile_sum.scaled_w\n",
    "  row_tile_size = tile_sum.scaled_tile_h\n",
    "  col_tile_size = tile_sum.scaled_tile_w\n",
    "  num_row_tiles, num_col_tiles = get_num_tiles(rows, cols, row_tile_size, col_tile_size)\n",
    "  summary = create_summary_pil_img(np_img, z, row_tile_size, col_tile_size, num_row_tiles, num_col_tiles)\n",
    "  draw = ImageDraw.Draw(summary)\n",
    "\n",
    "  original_img_path = slide.get_training_image_path(slide_num)\n",
    "  np_orig = slide.open_image_np(original_img_path)\n",
    "  summary_orig = create_summary_pil_img(np_orig, z, row_tile_size, col_tile_size, num_row_tiles, num_col_tiles)\n",
    "  draw_orig = ImageDraw.Draw(summary_orig)\n",
    "\n",
    "  if border_all_tiles:\n",
    "    for t in tile_sum.tiles:\n",
    "      border_color = faded_tile_border_color(t.tissue_percentage)\n",
    "      tile_border(draw, t.r_s + z, t.r_e + z, t.c_s, t.c_e, border_color, border_size=1)\n",
    "      tile_border(draw_orig, t.r_s + z, t.r_e + z, t.c_s, t.c_e, border_color, border_size=1)\n",
    "\n",
    "  tbs = TILE_BORDER_SIZE\n",
    "  top_tiles = tile_sum.top_tiles()\n",
    "  for t in top_tiles:\n",
    "    border_color = tile_border_color(t.tissue_percentage)\n",
    "    tile_border(draw, t.r_s + z, t.r_e + z, t.c_s, t.c_e, border_color)\n",
    "    tile_border(draw_orig, t.r_s + z, t.r_e + z, t.c_s, t.c_e, border_color)\n",
    "    if border_all_tiles:\n",
    "      tile_border(draw, t.r_s + z + tbs, t.r_e + z - tbs, t.c_s + tbs, t.c_e - tbs, (0, 0, 0))\n",
    "      tile_border(draw_orig, t.r_s + z + tbs, t.r_e + z - tbs, t.c_s + tbs, t.c_e - tbs, (0, 0, 0))\n",
    "\n",
    "  summary_title = \"Slide %03d Top Tile Summary:\" % slide_num\n",
    "  summary_txt = summary_title + \"\\n\" + summary_stats(tile_sum)\n",
    "\n",
    "  summary_font = ImageFont.truetype(SUMMARY_TITLE_FONT_PATH, size=SUMMARY_TITLE_TEXT_SIZE)\n",
    "  draw.text((5, 5), summary_txt, SUMMARY_TITLE_TEXT_COLOR, font=summary_font)\n",
    "  draw_orig.text((5, 5), summary_txt, SUMMARY_TITLE_TEXT_COLOR, font=summary_font)\n",
    "\n",
    "  tiles_to_label = tile_sum.tiles if label_all_tiles else top_tiles\n",
    "  h_offset = TILE_BORDER_SIZE + 2\n",
    "  v_offset = TILE_BORDER_SIZE\n",
    "  h_ds_offset = TILE_BORDER_SIZE + 3\n",
    "  v_ds_offset = TILE_BORDER_SIZE + 1\n",
    "  for t in tiles_to_label:\n",
    "    label = \"R%d\\nC%d\" % (t.r, t.c)\n",
    "    font = ImageFont.truetype(FONT_PATH, size=TILE_LABEL_TEXT_SIZE)\n",
    "    # drop shadow behind text\n",
    "    draw.text(((t.c_s + h_ds_offset), (t.r_s + v_ds_offset + z)), label, (0, 0, 0), font=font)\n",
    "    draw_orig.text(((t.c_s + h_ds_offset), (t.r_s + v_ds_offset + z)), label, (0, 0, 0), font=font)\n",
    "\n",
    "    draw.text(((t.c_s + h_offset), (t.r_s + v_offset + z)), label, SUMMARY_TILE_TEXT_COLOR, font=font)\n",
    "    draw_orig.text(((t.c_s + h_offset), (t.r_s + v_offset + z)), label, SUMMARY_TILE_TEXT_COLOR, font=font)\n",
    "\n",
    "  if show_top_stats:\n",
    "    summary = add_tile_stats_to_top_tile_summary(summary, top_tiles, z)\n",
    "    summary_orig = add_tile_stats_to_top_tile_summary(summary_orig, top_tiles, z)\n",
    "\n",
    "  if display:\n",
    "    summary.show()\n",
    "    summary_orig.show()\n",
    "  if save_summary:\n",
    "    save_top_tiles_image(summary, slide_num)\n",
    "    save_top_tiles_on_original_image(summary_orig, slide_num)"
   ]
  },
  {
   "cell_type": "markdown",
   "metadata": {
    "heading_collapsed": true,
    "hidden": true
   },
   "source": [
    "## summary_and_tiles"
   ]
  },
  {
   "cell_type": "code",
   "execution_count": 66,
   "metadata": {
    "hidden": true
   },
   "outputs": [],
   "source": [
    "def summary_and_tiles(img_path, display=True, save_summary=False, save_data=False, save_top_tiles=False):\n",
    "    \"\"\"\n",
    "    Generate tile summary and top tiles for slide.\n",
    "    Args:\n",
    "    img_path: \n",
    "    display: If True, display tile summary to screen.\n",
    "    save_summary: If True, save tile summary images.\n",
    "    save_data: If True, save tile data to csv file.\n",
    "    save_top_tiles: If True, save top tiles to files.\n",
    "    \"\"\"\n",
    "    np_img = slide.open_image_np(img_path)\n",
    "    tile_sum = score_tiles(img_path, np_img)\n",
    "    if save_data:\n",
    "        save_tile_data(tile_sum)\n",
    "    generate_tile_summaries(tile_sum, np_img, img_path, display=display, save_summary=save_summary)\n",
    "    generate_top_tile_summaries(tile_sum, np_img, display=display, save_summary=save_summary)\n",
    "    if save_top_tiles:\n",
    "        for tile in tile_sum.top_tiles():\n",
    "            tile.save_tile()\n",
    "    return tile_sum"
   ]
  }
 ],
 "metadata": {
  "kernelspec": {
   "display_name": "Python 3",
   "language": "python",
   "name": "python3"
  },
  "language_info": {
   "codemirror_mode": {
    "name": "ipython",
    "version": 3
   },
   "file_extension": ".py",
   "mimetype": "text/x-python",
   "name": "python",
   "nbconvert_exporter": "python",
   "pygments_lexer": "ipython3",
   "version": "3.6.7"
  },
  "toc": {
   "base_numbering": 1,
   "nav_menu": {},
   "number_sections": true,
   "sideBar": true,
   "skip_h1_title": false,
   "title_cell": "Table of Contents",
   "title_sidebar": "Contents",
   "toc_cell": false,
   "toc_position": {
    "height": "calc(100% - 180px)",
    "left": "10px",
    "top": "150px",
    "width": "165px"
   },
   "toc_section_display": true,
   "toc_window_display": true
  }
 },
 "nbformat": 4,
 "nbformat_minor": 2
}

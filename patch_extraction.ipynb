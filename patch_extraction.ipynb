{
 "cells": [
  {
   "cell_type": "markdown",
   "metadata": {},
   "source": [
    "# Imports"
   ]
  },
  {
   "cell_type": "code",
   "execution_count": 1,
   "metadata": {
    "scrolled": true
   },
   "outputs": [],
   "source": [
    "%reload_ext autoreload\n",
    "%autoreload 2\n",
    "%matplotlib inline\n",
    "import sys\n",
    "###\n",
    "#!pip install openslide-python\n",
    "#https://github.com/deroneriksson/python-wsi-preprocessing/\n",
    "###\n",
    "sys.path.append('../python-wsi-preprocessing/')\n",
    "from deephistopath.wsi import slide, filter, tiles, util\n",
    "\n",
    "import fastai\n",
    "from fastai.vision import *\n",
    "from fastai.core import parallel\n",
    "\n",
    "import pandas as pd\n",
    "import numpy as np\n",
    "import os\n",
    "from pathlib import Path\n",
    "from functools import partial, update_wrapper\n",
    "from tqdm import tqdm_notebook as tqdm\n",
    "from enum import Enum\n",
    "import matplotlib.pyplot as plt\n",
    "import matplotlib.image as mpimg\n",
    "from PIL import Image\n",
    "Image.MAX_IMAGE_PIXELS = 1000000000000\n",
    "\n",
    "PATH = Path('/home/Deep_Learner/private/network/datasets/Hypophysenadenome/')\n",
    "FONT_PATH=PATH/'1984-Happines-Regular.ttf'\n",
    "ROIS_CORTICOTROP = PATH/'rois_corticotrop'\n",
    "ROIS_CORTICOTROP_FILTERED = PATH/'rois_corticotrop_filtered'\n",
    "ROIS_GONADOTROP = PATH/'rois_gonadotrop'\n",
    "ROIS_GONADOTROP_FILTERED = PATH/'rois_gonadotrop_filtered'\n",
    "TILES_CORTICOTROP = PATH/'tiles_corticotrop'\n",
    "TILES_GONADOTROP = PATH/'tiles_gonadotrop'\n",
    "\n",
    "ROIS_EXPERIMENTING = PATH/'rois_experimenting'\n",
    "ROIS_EXPERIMENTING_FILTERED = PATH/'rois_experimenting_filtered'\n",
    "TILES_EXPERIMENTING = PATH/'tiles_experimenting'\n",
    "\n",
    "PATH_RELAPSE = Path('/home/Deep_Learner/private/network/datasets/Hypophysenadenome-Rezidive/')\n",
    "RELAPSE_WSIS_EXPERIMENTING = PATH_RELAPSE/'wsis_experimenting'\n",
    "RELAPSE_IMAGES_EXPERIMENTING = PATH_RELAPSE/'tiffs_experimenting'\n",
    "RELAPSE_IMAGES_FILTERED_EXPERIMENTING = PATH_RELAPSE/'tiffs_filtered_experimenting'\n",
    "RELAPSE_TILES_EXPERIMENTING = PATH_RELAPSE/'tiles_experimenting'\n",
    "\n",
    "NONE_RELAPSE_WSIS = PATH_RELAPSE/'wsis_nicht_rezidive'\n",
    "NONE_RELAPSE_IMAGES = PATH_RELAPSE/'tiffs_nicht_rezidive'\n",
    "NONE_RELAPSE_IMAGES_FILTERED = PATH_RELAPSE/'tiffs_filtered_nicht_rezidive'\n",
    "NONE_RELAPSE_TILES = PATH_RELAPSE/'tiles_nicht_rezidive'\n",
    "\n",
    "RELAPSE_WSIS = PATH_RELAPSE/'wsis_rezidive'\n",
    "RELAPSE_IMAGES = PATH_RELAPSE/'tiffs_rezidive'\n",
    "RELAPSE_IMAGES_FILTERED = PATH_RELAPSE/'tiffs_filtered_rezidive'\n",
    "RELAPSE_TILES = PATH_RELAPSE/'tiles_rezidive'\n",
    "\n",
    "\n",
    "def show(np):\n",
    "    return util.np_to_pil(np)\n",
    "\n",
    "Path.ls = lambda x: [p for p in list(x.iterdir()) if '.ipynb_checkpoints' not in p.name]\n",
    "\n",
    "def show_multiple_images(path, rows = 3, figsize=(128, 64)):\n",
    "    imgs = [open_image(p) for p in path.ls()]\n",
    "    show_all(imgs=imgs, r=rows, figsize=figsize)\n",
    "    \n",
    "def show_multiple_images_big(path:pathlib.Path):\n",
    "    for p in path.ls():\n",
    "        plt.imshow(mpimg.imread(str(p)))\n",
    "        plt.show()\n",
    "        \n",
    "class AdenomaType(Enum):\n",
    "    experimenting = 0\n",
    "    corticotrop = 1\n",
    "    gonadotrop = 2\n",
    "    relapse_experimenting = 3\n",
    "    relapse = 4\n",
    "    non_relapse = 5"
   ]
  },
  {
   "cell_type": "code",
   "execution_count": 2,
   "metadata": {},
   "outputs": [],
   "source": [
    "adenomaType = AdenomaType.relapse\n",
    "\n",
    "if adenomaType == AdenomaType.gonadotrop:\n",
    "    rois_filtered_path = ROIS_GONADOTROP_FILTERED\n",
    "    rois_path = ROIS_GONADOTROP\n",
    "    tiles_path = TILES_GONADOTROP\n",
    "    \n",
    "if adenomaType == AdenomaType.corticotrop:\n",
    "    rois_filtered_path = ROIS_CORTICOTROP_FILTERED\n",
    "    rois_path = ROIS_CORTICOTROP\n",
    "    tiles_path = TILES_CORTICOTROP\n",
    "    \n",
    "if adenomaType == AdenomaType.experimenting:\n",
    "    rois_filtered_path = ROIS_EXPERIMENTING_FILTERED\n",
    "    rois_path = ROIS_EXPERIMENTING\n",
    "    tiles_path = TILES_EXPERIMENTING\n",
    "    \n",
    "if adenomaType == AdenomaType.relapse_experimenting:\n",
    "    wsi_path = RELAPSE_WSIS_EXPERIMENTING\n",
    "    rois_filtered_path = RELAPSE_IMAGES_FILTERED_EXPERIMENTING\n",
    "    rois_path = RELAPSE_IMAGES_EXPERIMENTING\n",
    "    tiles_path = RELAPSE_TILES_EXPERIMENTING\n",
    "    \n",
    "if adenomaType == AdenomaType.relapse:\n",
    "    wsi_path = RELAPSE_WSIS\n",
    "    rois_path = RELAPSE_IMAGES\n",
    "    rois_filtered_path = RELAPSE_IMAGES_FILTERED\n",
    "    tiles_path = RELAPSE_TILES  \n",
    "    \n",
    "if adenomaType == AdenomaType.non_relapse:\n",
    "    wsi_path = NONE_RELAPSE_WSIS\n",
    "    rois_path = NONE_RELAPSE_IMAGES\n",
    "    rois_filtered_path = NONE_RELAPSE_IMAGES_FILTERED\n",
    "    tiles_path = NONE_RELAPSE_TILES"
   ]
  },
  {
   "cell_type": "code",
   "execution_count": 4,
   "metadata": {},
   "outputs": [],
   "source": [
    "rois_path.mkdir(exist_ok=True)\n",
    "rois_filtered_path.mkdir(exist_ok=True)\n",
    "tiles_path.mkdir(exist_ok=True)"
   ]
  },
  {
   "cell_type": "markdown",
   "metadata": {},
   "source": [
    "# Overwrite parts of wsi lib"
   ]
  },
  {
   "cell_type": "code",
   "execution_count": 5,
   "metadata": {},
   "outputs": [],
   "source": [
    "slide.SCALE_FACTOR = 1\n",
    "slide.BASE_DIR = PATH/'data'\n",
    "slide.SRC_TRAIN_EXT = \"ndpi\"\n",
    "tiles.SUMMARY_TITLE_FONT_PATH = str(FONT_PATH)\n",
    "tiles.FONT_PATH = str(FONT_PATH)\n",
    "tiles.DISPLAY_TILE_SUMMARY_LABELS = True\n",
    "tiles.LABEL_ALL_TILES_IN_TOP_TILE_SUMMARY = True\n",
    "tiles.BORDER_ALL_TILES_IN_TOP_TILE_SUMMARY = True\n",
    "tiles.TISSUE_LOW_THRESH = 20\n",
    "\n",
    "tiles.ROW_TILE_SIZE = 1024\n",
    "tiles.COL_TILE_SIZE = 1024\n",
    "\n",
    "##################################################################################################################\n",
    "\n",
    "slide.open_slide = slide.open_image\n",
    "\n",
    "##################################################################################################################\n",
    "\n",
    "def get_image_path(folder_path, slide_num):\n",
    "    return folder_path.ls()[slide_num]\n",
    "\n",
    "slide.get_filter_image_result = partial(get_image_path, rois_filtered_path)\n",
    "slide.get_training_image_path = partial(get_image_path, rois_path)\n",
    "slide.get_training_slide_path = partial(get_image_path, wsi_path)\n",
    "\n",
    "##################################################################################################################\n",
    "\n",
    "def parse_dimensions_from_image_filename(img_path):\n",
    "    shape = slide.open_image_np(img_path).shape\n",
    "    return shape[1], shape[0], shape[1], shape[0]\n",
    "\n",
    "slide.parse_dimensions_from_image_filename = parse_dimensions_from_image_filename\n",
    "\n",
    "##################################################################################################################\n",
    "\n",
    "def tile_to_pil_tile(tile):\n",
    "  \"\"\"\n",
    "  Convert tile information into the corresponding tile as a PIL image read from the whole-slide image file.\n",
    "\n",
    "  Args:\n",
    "    tile: Tile object.\n",
    "\n",
    "  Return:\n",
    "    Tile as a PIL image.\n",
    "  \"\"\"\n",
    "  t = tile\n",
    "  filepath = slide.get_training_image_path(t.slide_num)\n",
    "  img = slide.open_image_np(filepath)\n",
    "  #x, y = t.o_c_s, t.o_r_s\n",
    "  #w, h = t.o_c_e - t.o_c_s, t.o_r_e - t.o_r_s\n",
    "  tile = img[t.o_r_s:t.o_r_e, t.o_c_s:t.o_c_e,:]\n",
    "  tile_pil = util.np_to_pil(tile)\n",
    "  return tile_pil\n",
    "\n",
    "tiles.tile_to_pil_tile = tile_to_pil_tile\n",
    "\n",
    "##################################################################################################################\n",
    "def get_tile_image_path(tile):\n",
    "  \"\"\"\n",
    "  Obtain tile image path based on tile information such as row, column, row pixel position, column pixel position,\n",
    "  pixel width, and pixel height.\n",
    "\n",
    "  Args:\n",
    "    tile: Tile object.\n",
    "\n",
    "  Returns:\n",
    "    Path to image tile.\n",
    "  \"\"\"\n",
    "  t = tile\n",
    "  roi_name = slide.get_training_image_path(t.slide_num).stem\n",
    "  tile_path = os.path.join(PATH, tiles_path,\n",
    "                           roi_name + \"-\" + 'tile' + \"-r%d-c%d-x%d-y%d-w%d-h%d\" % (\n",
    "                             t.r, t.c, t.o_c_s, t.o_r_s, t.o_c_e - t.o_c_s, t.o_r_e - t.o_r_s) + \".\" + 'png')\n",
    "  return tile_path\n",
    "\n",
    "slide.get_tile_image_path = get_tile_image_path\n",
    "\n",
    "##################################################################################################################\n",
    "\n",
    "def top_tiles(self):\n",
    "    \"\"\"\n",
    "    Retrieve the top-scoring tiles.\n",
    "\n",
    "    Returns:\n",
    "       List of the top-scoring tiles.\n",
    "    \"\"\"\n",
    "    sorted_tiles = self.tiles_by_score()\n",
    "    top_tiles = [tile for tile in sorted_tiles\n",
    "                 if check_tile(tile)]\n",
    "    print(f'Number of top tiles/all tiles: {len(top_tiles)}/{len(sorted_tiles)}')\n",
    "    return top_tiles\n",
    "\n",
    "def check_tile(tile):\n",
    "    width = tile.o_c_e - tile.o_c_s\n",
    "    height = tile.o_r_e - tile.o_r_s\n",
    "    return tile.score > 0.55 and width >= 0.7*tiles.COL_TILE_SIZE and height >= 0.7*tiles.ROW_TILE_SIZE\n",
    "\n",
    "\n",
    "tiles.TileSummary.top_tiles = top_tiles\n",
    "\n",
    "##################################################################################################################\n",
    "from deephistopath.wsi.tiles import (hsv_saturation_and_value_factor, \n",
    "                                     hsv_purple_pink_factor, \n",
    "                                     tissue_quantity_factor, \n",
    "                                     tissue_quantity)\n",
    "\n",
    "def score_tile(np_tile, tissue_percent, slide_num, row, col):\n",
    "  \"\"\"\n",
    "  Score tile based on tissue percentage, color factor, saturation/value factor, and tissue quantity factor.\n",
    "\n",
    "  Args:\n",
    "    np_tile: Tile as NumPy array.\n",
    "    tissue_percent: The percentage of the tile judged to be tissue.\n",
    "    slide_num: Slide number.\n",
    "    row: Tile row.\n",
    "    col: Tile column.\n",
    "\n",
    "  Returns tuple consisting of score, color factor, saturation/value factor, and tissue quantity factor.\n",
    "  \"\"\"\n",
    "  color_factor = hsv_purple_pink_factor(np_tile)\n",
    "  s_and_v_factor = hsv_saturation_and_value_factor(np_tile)\n",
    "  amount = tissue_quantity(tissue_percent)\n",
    "  quantity_factor = tissue_quantity_factor(amount)\n",
    "  combined_factor = color_factor * s_and_v_factor\n",
    "  score = tissue_percent * combined_factor / 1000.0\n",
    "  # scale score to between 0 and 1\n",
    "  score = 1.0 - (10.0 / (10.0 + score))\n",
    "  #print(f'tp: {tissue_percent}')\n",
    "  #print(f'cf: {combined_factor}')\n",
    "  #print(f'score: {score}')  \n",
    "  return score, color_factor, s_and_v_factor, quantity_factor\n",
    "\n",
    "tiles.score_tile = score_tile\n",
    "#tiles.score_tile = tiles.score_tile\n",
    "#############################################################################################################\n",
    "\n",
    "def slide_to_scaled_pil_image(slide_number):\n",
    "  \"\"\"\n",
    "  Convert a WSI training slide to a scaled-down PIL image.\n",
    "\n",
    "  Args:\n",
    "    slide_number: The slide number.\n",
    "\n",
    "  Returns:\n",
    "    Tuple consisting of scaled-down PIL image, original width, original height, new width, and new height.\n",
    "  \"\"\"\n",
    "  slide_filepath = slide.get_training_slide_path(slide_number)\n",
    "  print(\"Opening Slide #%d: %s\" % (slide_number, slide_filepath))\n",
    "  sl = slide.open_slide(slide_filepath)\n",
    "  #\n",
    "  ar = np.array(sl)\n",
    "  large_w, large_h = ar.shape[:2]\n",
    "  #\n",
    "  new_w = math.floor(large_w / slide.SCALE_FACTOR)\n",
    "  new_h = math.floor(large_h / slide.SCALE_FACTOR)\n",
    "  level = sl.get_best_level_for_downsample(slide.SCALE_FACTOR)\n",
    "  whole_slide_image = slide.read_region((0, 0), level, slide.level_dimensions[level])\n",
    "  whole_slide_image = whole_slide_image.convert(\"RGB\")\n",
    "  img = whole_slide_image.resize((new_w, new_h), PIL.Image.BILINEAR)\n",
    "  return img, large_w, large_h, new_w, new_h\n",
    "\n",
    "slide.slide_to_scaled_pil_image = slide_to_scaled_pil_image\n",
    "#############################################################################################################"
   ]
  },
  {
   "cell_type": "markdown",
   "metadata": {},
   "source": [
    "# Convert WSIs"
   ]
  },
  {
   "cell_type": "code",
   "execution_count": 13,
   "metadata": {},
   "outputs": [],
   "source": [
    "class imageFormat(Enum):\n",
    "    png = 0\n",
    "    tiff = 1\n",
    "\n",
    "def convert_wsi(filepath:pathlib.Path,\n",
    "                index:int,\n",
    "                output_folder:pathlib.Path = rois_path, \n",
    "                output_format:imageFormat = imageFormat.png):\n",
    "    output_name = filepath.stem\n",
    "    if output_format is imageFormat.png:\n",
    "        output_name = output_name + '.png'\n",
    "    elif output_format is imageFormat.tiff:\n",
    "        output_name = output_name + '.tiff'\n",
    "    else:\n",
    "        raise ValueError('Output format not supported.')\n",
    "   \n",
    "    s = slide.open_slide(str(filepath))\n",
    "    s.save(fp=str(output_folder/output_name))"
   ]
  },
  {
   "cell_type": "code",
   "execution_count": 7,
   "metadata": {
    "scrolled": true
   },
   "outputs": [
    {
     "ename": "ValueError",
     "evalue": "Output format not supported.",
     "output_type": "error",
     "traceback": [
      "\u001b[0;31m---------------------------------------------------------------------------\u001b[0m",
      "\u001b[0;31m_RemoteTraceback\u001b[0m                          Traceback (most recent call last)",
      "\u001b[0;31m_RemoteTraceback\u001b[0m: \n\"\"\"\nTraceback (most recent call last):\n  File \"/opt/conda/lib/python3.7/concurrent/futures/process.py\", line 232, in _process_worker\n    r = call_item.fn(*call_item.args, **call_item.kwargs)\n  File \"<ipython-input-6-5d2ca6f49269>\", line 15, in convert_wsi\n    raise ValueError('Output format not supported.')\nValueError: Output format not supported.\n\"\"\"",
      "\nThe above exception was the direct cause of the following exception:\n",
      "\u001b[0;31mValueError\u001b[0m                                Traceback (most recent call last)",
      "\u001b[0;32m<ipython-input-7-4d355ca02cd9>\u001b[0m in \u001b[0;36m<module>\u001b[0;34m\u001b[0m\n\u001b[0;32m----> 1\u001b[0;31m \u001b[0mfastai\u001b[0m\u001b[0;34m.\u001b[0m\u001b[0mcore\u001b[0m\u001b[0;34m.\u001b[0m\u001b[0mparallel\u001b[0m\u001b[0;34m(\u001b[0m\u001b[0mconvert_wsi\u001b[0m\u001b[0;34m,\u001b[0m \u001b[0mwsi_path\u001b[0m\u001b[0;34m.\u001b[0m\u001b[0mls\u001b[0m\u001b[0;34m(\u001b[0m\u001b[0;34m)\u001b[0m\u001b[0;34m,\u001b[0m \u001b[0mmax_workers\u001b[0m\u001b[0;34m=\u001b[0m\u001b[0;36m30\u001b[0m\u001b[0;34m)\u001b[0m\u001b[0;34m\u001b[0m\u001b[0;34m\u001b[0m\u001b[0m\n\u001b[0m",
      "\u001b[0;32m/opt/conda/lib/python3.7/site-packages/fastai/core.py\u001b[0m in \u001b[0;36mparallel\u001b[0;34m(func, arr, max_workers, leave)\u001b[0m\n\u001b[1;32m    353\u001b[0m             \u001b[0mresults\u001b[0m \u001b[0;34m=\u001b[0m \u001b[0;34m[\u001b[0m\u001b[0;34m]\u001b[0m\u001b[0;34m\u001b[0m\u001b[0;34m\u001b[0m\u001b[0m\n\u001b[1;32m    354\u001b[0m             \u001b[0;32mfor\u001b[0m \u001b[0mf\u001b[0m \u001b[0;32min\u001b[0m \u001b[0mprogress_bar\u001b[0m\u001b[0;34m(\u001b[0m\u001b[0mconcurrent\u001b[0m\u001b[0;34m.\u001b[0m\u001b[0mfutures\u001b[0m\u001b[0;34m.\u001b[0m\u001b[0mas_completed\u001b[0m\u001b[0;34m(\u001b[0m\u001b[0mfutures\u001b[0m\u001b[0;34m)\u001b[0m\u001b[0;34m,\u001b[0m \u001b[0mtotal\u001b[0m\u001b[0;34m=\u001b[0m\u001b[0mlen\u001b[0m\u001b[0;34m(\u001b[0m\u001b[0marr\u001b[0m\u001b[0;34m)\u001b[0m\u001b[0;34m,\u001b[0m \u001b[0mleave\u001b[0m\u001b[0;34m=\u001b[0m\u001b[0mleave\u001b[0m\u001b[0;34m)\u001b[0m\u001b[0;34m:\u001b[0m\u001b[0;34m\u001b[0m\u001b[0;34m\u001b[0m\u001b[0m\n\u001b[0;32m--> 355\u001b[0;31m                 \u001b[0mresults\u001b[0m\u001b[0;34m.\u001b[0m\u001b[0mappend\u001b[0m\u001b[0;34m(\u001b[0m\u001b[0mf\u001b[0m\u001b[0;34m.\u001b[0m\u001b[0mresult\u001b[0m\u001b[0;34m(\u001b[0m\u001b[0;34m)\u001b[0m\u001b[0;34m)\u001b[0m\u001b[0;34m\u001b[0m\u001b[0;34m\u001b[0m\u001b[0m\n\u001b[0m\u001b[1;32m    356\u001b[0m     \u001b[0;32mif\u001b[0m \u001b[0many\u001b[0m\u001b[0;34m(\u001b[0m\u001b[0;34m[\u001b[0m\u001b[0mo\u001b[0m \u001b[0;32mis\u001b[0m \u001b[0;32mnot\u001b[0m \u001b[0;32mNone\u001b[0m \u001b[0;32mfor\u001b[0m \u001b[0mo\u001b[0m \u001b[0;32min\u001b[0m \u001b[0mresults\u001b[0m\u001b[0;34m]\u001b[0m\u001b[0;34m)\u001b[0m\u001b[0;34m:\u001b[0m \u001b[0;32mreturn\u001b[0m \u001b[0mresults\u001b[0m\u001b[0;34m\u001b[0m\u001b[0;34m\u001b[0m\u001b[0m\n\u001b[1;32m    357\u001b[0m \u001b[0;34m\u001b[0m\u001b[0m\n",
      "\u001b[0;32m/opt/conda/lib/python3.7/concurrent/futures/_base.py\u001b[0m in \u001b[0;36mresult\u001b[0;34m(self, timeout)\u001b[0m\n\u001b[1;32m    423\u001b[0m                 \u001b[0;32mraise\u001b[0m \u001b[0mCancelledError\u001b[0m\u001b[0;34m(\u001b[0m\u001b[0;34m)\u001b[0m\u001b[0;34m\u001b[0m\u001b[0;34m\u001b[0m\u001b[0m\n\u001b[1;32m    424\u001b[0m             \u001b[0;32melif\u001b[0m \u001b[0mself\u001b[0m\u001b[0;34m.\u001b[0m\u001b[0m_state\u001b[0m \u001b[0;34m==\u001b[0m \u001b[0mFINISHED\u001b[0m\u001b[0;34m:\u001b[0m\u001b[0;34m\u001b[0m\u001b[0;34m\u001b[0m\u001b[0m\n\u001b[0;32m--> 425\u001b[0;31m                 \u001b[0;32mreturn\u001b[0m \u001b[0mself\u001b[0m\u001b[0;34m.\u001b[0m\u001b[0m__get_result\u001b[0m\u001b[0;34m(\u001b[0m\u001b[0;34m)\u001b[0m\u001b[0;34m\u001b[0m\u001b[0;34m\u001b[0m\u001b[0m\n\u001b[0m\u001b[1;32m    426\u001b[0m \u001b[0;34m\u001b[0m\u001b[0m\n\u001b[1;32m    427\u001b[0m             \u001b[0mself\u001b[0m\u001b[0;34m.\u001b[0m\u001b[0m_condition\u001b[0m\u001b[0;34m.\u001b[0m\u001b[0mwait\u001b[0m\u001b[0;34m(\u001b[0m\u001b[0mtimeout\u001b[0m\u001b[0;34m)\u001b[0m\u001b[0;34m\u001b[0m\u001b[0;34m\u001b[0m\u001b[0m\n",
      "\u001b[0;32m/opt/conda/lib/python3.7/concurrent/futures/_base.py\u001b[0m in \u001b[0;36m__get_result\u001b[0;34m(self)\u001b[0m\n\u001b[1;32m    382\u001b[0m     \u001b[0;32mdef\u001b[0m \u001b[0m__get_result\u001b[0m\u001b[0;34m(\u001b[0m\u001b[0mself\u001b[0m\u001b[0;34m)\u001b[0m\u001b[0;34m:\u001b[0m\u001b[0;34m\u001b[0m\u001b[0;34m\u001b[0m\u001b[0m\n\u001b[1;32m    383\u001b[0m         \u001b[0;32mif\u001b[0m \u001b[0mself\u001b[0m\u001b[0;34m.\u001b[0m\u001b[0m_exception\u001b[0m\u001b[0;34m:\u001b[0m\u001b[0;34m\u001b[0m\u001b[0;34m\u001b[0m\u001b[0m\n\u001b[0;32m--> 384\u001b[0;31m             \u001b[0;32mraise\u001b[0m \u001b[0mself\u001b[0m\u001b[0;34m.\u001b[0m\u001b[0m_exception\u001b[0m\u001b[0;34m\u001b[0m\u001b[0;34m\u001b[0m\u001b[0m\n\u001b[0m\u001b[1;32m    385\u001b[0m         \u001b[0;32melse\u001b[0m\u001b[0;34m:\u001b[0m\u001b[0;34m\u001b[0m\u001b[0;34m\u001b[0m\u001b[0m\n\u001b[1;32m    386\u001b[0m             \u001b[0;32mreturn\u001b[0m \u001b[0mself\u001b[0m\u001b[0;34m.\u001b[0m\u001b[0m_result\u001b[0m\u001b[0;34m\u001b[0m\u001b[0;34m\u001b[0m\u001b[0m\n",
      "\u001b[0;31mValueError\u001b[0m: Output format not supported."
     ]
    }
   ],
   "source": [
    "fastai.core.parallel(convert_wsi, wsi_path.ls(), max_workers=30)"
   ]
  },
  {
   "cell_type": "code",
   "execution_count": 14,
   "metadata": {},
   "outputs": [
    {
     "data": {
      "text/plain": [
       "PosixPath('/home/Deep_Learner/private/network/datasets/Hypophysenadenome-Rezidive/wsis_rezidive/197-16-III-HE.ndpi')"
      ]
     },
     "execution_count": 14,
     "metadata": {},
     "output_type": "execute_result"
    }
   ],
   "source": [
    "pa = wsi_path.ls()[1];pa"
   ]
  },
  {
   "cell_type": "code",
   "execution_count": 15,
   "metadata": {},
   "outputs": [
    {
     "ename": "OSError",
     "evalue": "-9",
     "output_type": "error",
     "traceback": [
      "\u001b[0;31m---------------------------------------------------------------------------\u001b[0m",
      "\u001b[0;31mOSError\u001b[0m                                   Traceback (most recent call last)",
      "\u001b[0;32m<ipython-input-15-591bb4081dc5>\u001b[0m in \u001b[0;36m<module>\u001b[0;34m\u001b[0m\n\u001b[0;32m----> 1\u001b[0;31m \u001b[0mconvert_wsi\u001b[0m\u001b[0;34m(\u001b[0m\u001b[0mpa\u001b[0m\u001b[0;34m,\u001b[0m\u001b[0;36m0\u001b[0m\u001b[0;34m,\u001b[0m\u001b[0moutput_format\u001b[0m\u001b[0;34m=\u001b[0m\u001b[0mimageFormat\u001b[0m\u001b[0;34m.\u001b[0m\u001b[0mpng\u001b[0m\u001b[0;34m)\u001b[0m\u001b[0;34m\u001b[0m\u001b[0;34m\u001b[0m\u001b[0m\n\u001b[0m",
      "\u001b[0;32m<ipython-input-13-1e9f27c923bb>\u001b[0m in \u001b[0;36mconvert_wsi\u001b[0;34m(filepath, index, output_folder, output_format)\u001b[0m\n\u001b[1;32m     16\u001b[0m \u001b[0;34m\u001b[0m\u001b[0m\n\u001b[1;32m     17\u001b[0m     \u001b[0ms\u001b[0m \u001b[0;34m=\u001b[0m \u001b[0mslide\u001b[0m\u001b[0;34m.\u001b[0m\u001b[0mopen_slide\u001b[0m\u001b[0;34m(\u001b[0m\u001b[0mstr\u001b[0m\u001b[0;34m(\u001b[0m\u001b[0mfilepath\u001b[0m\u001b[0;34m)\u001b[0m\u001b[0;34m)\u001b[0m\u001b[0;34m\u001b[0m\u001b[0;34m\u001b[0m\u001b[0m\n\u001b[0;32m---> 18\u001b[0;31m     \u001b[0ms\u001b[0m\u001b[0;34m.\u001b[0m\u001b[0msave\u001b[0m\u001b[0;34m(\u001b[0m\u001b[0mfp\u001b[0m\u001b[0;34m=\u001b[0m\u001b[0mstr\u001b[0m\u001b[0;34m(\u001b[0m\u001b[0moutput_folder\u001b[0m\u001b[0;34m/\u001b[0m\u001b[0moutput_name\u001b[0m\u001b[0;34m)\u001b[0m\u001b[0;34m)\u001b[0m\u001b[0;34m\u001b[0m\u001b[0;34m\u001b[0m\u001b[0m\n\u001b[0m",
      "\u001b[0;32m/opt/conda/lib/python3.7/site-packages/PIL/Image.py\u001b[0m in \u001b[0;36msave\u001b[0;34m(self, fp, format, **params)\u001b[0m\n\u001b[1;32m   1971\u001b[0m \u001b[0;34m\u001b[0m\u001b[0m\n\u001b[1;32m   1972\u001b[0m         \u001b[0;31m# may mutate self!\u001b[0m\u001b[0;34m\u001b[0m\u001b[0;34m\u001b[0m\u001b[0;34m\u001b[0m\u001b[0m\n\u001b[0;32m-> 1973\u001b[0;31m         \u001b[0mself\u001b[0m\u001b[0;34m.\u001b[0m\u001b[0m_ensure_mutable\u001b[0m\u001b[0;34m(\u001b[0m\u001b[0;34m)\u001b[0m\u001b[0;34m\u001b[0m\u001b[0;34m\u001b[0m\u001b[0m\n\u001b[0m\u001b[1;32m   1974\u001b[0m \u001b[0;34m\u001b[0m\u001b[0m\n\u001b[1;32m   1975\u001b[0m         \u001b[0msave_all\u001b[0m \u001b[0;34m=\u001b[0m \u001b[0mparams\u001b[0m\u001b[0;34m.\u001b[0m\u001b[0mpop\u001b[0m\u001b[0;34m(\u001b[0m\u001b[0;34m'save_all'\u001b[0m\u001b[0;34m,\u001b[0m \u001b[0;32mFalse\u001b[0m\u001b[0;34m)\u001b[0m\u001b[0;34m\u001b[0m\u001b[0;34m\u001b[0m\u001b[0m\n",
      "\u001b[0;32m/opt/conda/lib/python3.7/site-packages/PIL/Image.py\u001b[0m in \u001b[0;36m_ensure_mutable\u001b[0;34m(self)\u001b[0m\n\u001b[1;32m    626\u001b[0m     \u001b[0;32mdef\u001b[0m \u001b[0m_ensure_mutable\u001b[0m\u001b[0;34m(\u001b[0m\u001b[0mself\u001b[0m\u001b[0;34m)\u001b[0m\u001b[0;34m:\u001b[0m\u001b[0;34m\u001b[0m\u001b[0;34m\u001b[0m\u001b[0m\n\u001b[1;32m    627\u001b[0m         \u001b[0;32mif\u001b[0m \u001b[0mself\u001b[0m\u001b[0;34m.\u001b[0m\u001b[0mreadonly\u001b[0m\u001b[0;34m:\u001b[0m\u001b[0;34m\u001b[0m\u001b[0;34m\u001b[0m\u001b[0m\n\u001b[0;32m--> 628\u001b[0;31m             \u001b[0mself\u001b[0m\u001b[0;34m.\u001b[0m\u001b[0m_copy\u001b[0m\u001b[0;34m(\u001b[0m\u001b[0;34m)\u001b[0m\u001b[0;34m\u001b[0m\u001b[0;34m\u001b[0m\u001b[0m\n\u001b[0m\u001b[1;32m    629\u001b[0m         \u001b[0;32melse\u001b[0m\u001b[0;34m:\u001b[0m\u001b[0;34m\u001b[0m\u001b[0;34m\u001b[0m\u001b[0m\n\u001b[1;32m    630\u001b[0m             \u001b[0mself\u001b[0m\u001b[0;34m.\u001b[0m\u001b[0mload\u001b[0m\u001b[0;34m(\u001b[0m\u001b[0;34m)\u001b[0m\u001b[0;34m\u001b[0m\u001b[0;34m\u001b[0m\u001b[0m\n",
      "\u001b[0;32m/opt/conda/lib/python3.7/site-packages/PIL/Image.py\u001b[0m in \u001b[0;36m_copy\u001b[0;34m(self)\u001b[0m\n\u001b[1;32m    619\u001b[0m \u001b[0;34m\u001b[0m\u001b[0m\n\u001b[1;32m    620\u001b[0m     \u001b[0;32mdef\u001b[0m \u001b[0m_copy\u001b[0m\u001b[0;34m(\u001b[0m\u001b[0mself\u001b[0m\u001b[0;34m)\u001b[0m\u001b[0;34m:\u001b[0m\u001b[0;34m\u001b[0m\u001b[0;34m\u001b[0m\u001b[0m\n\u001b[0;32m--> 621\u001b[0;31m         \u001b[0mself\u001b[0m\u001b[0;34m.\u001b[0m\u001b[0mload\u001b[0m\u001b[0;34m(\u001b[0m\u001b[0;34m)\u001b[0m\u001b[0;34m\u001b[0m\u001b[0;34m\u001b[0m\u001b[0m\n\u001b[0m\u001b[1;32m    622\u001b[0m         \u001b[0mself\u001b[0m\u001b[0;34m.\u001b[0m\u001b[0mim\u001b[0m \u001b[0;34m=\u001b[0m \u001b[0mself\u001b[0m\u001b[0;34m.\u001b[0m\u001b[0mim\u001b[0m\u001b[0;34m.\u001b[0m\u001b[0mcopy\u001b[0m\u001b[0;34m(\u001b[0m\u001b[0;34m)\u001b[0m\u001b[0;34m\u001b[0m\u001b[0;34m\u001b[0m\u001b[0m\n\u001b[1;32m    623\u001b[0m         \u001b[0mself\u001b[0m\u001b[0;34m.\u001b[0m\u001b[0mpyaccess\u001b[0m \u001b[0;34m=\u001b[0m \u001b[0;32mNone\u001b[0m\u001b[0;34m\u001b[0m\u001b[0;34m\u001b[0m\u001b[0m\n",
      "\u001b[0;32m/opt/conda/lib/python3.7/site-packages/PIL/TiffImagePlugin.py\u001b[0m in \u001b[0;36mload\u001b[0;34m(self)\u001b[0m\n\u001b[1;32m   1075\u001b[0m     \u001b[0;32mdef\u001b[0m \u001b[0mload\u001b[0m\u001b[0;34m(\u001b[0m\u001b[0mself\u001b[0m\u001b[0;34m)\u001b[0m\u001b[0;34m:\u001b[0m\u001b[0;34m\u001b[0m\u001b[0;34m\u001b[0m\u001b[0m\n\u001b[1;32m   1076\u001b[0m         \u001b[0;32mif\u001b[0m \u001b[0mself\u001b[0m\u001b[0;34m.\u001b[0m\u001b[0muse_load_libtiff\u001b[0m\u001b[0;34m:\u001b[0m\u001b[0;34m\u001b[0m\u001b[0;34m\u001b[0m\u001b[0m\n\u001b[0;32m-> 1077\u001b[0;31m             \u001b[0;32mreturn\u001b[0m \u001b[0mself\u001b[0m\u001b[0;34m.\u001b[0m\u001b[0m_load_libtiff\u001b[0m\u001b[0;34m(\u001b[0m\u001b[0;34m)\u001b[0m\u001b[0;34m\u001b[0m\u001b[0;34m\u001b[0m\u001b[0m\n\u001b[0m\u001b[1;32m   1078\u001b[0m         \u001b[0;32mreturn\u001b[0m \u001b[0msuper\u001b[0m\u001b[0;34m(\u001b[0m\u001b[0mTiffImageFile\u001b[0m\u001b[0;34m,\u001b[0m \u001b[0mself\u001b[0m\u001b[0;34m)\u001b[0m\u001b[0;34m.\u001b[0m\u001b[0mload\u001b[0m\u001b[0;34m(\u001b[0m\u001b[0;34m)\u001b[0m\u001b[0;34m\u001b[0m\u001b[0;34m\u001b[0m\u001b[0m\n\u001b[1;32m   1079\u001b[0m \u001b[0;34m\u001b[0m\u001b[0m\n",
      "\u001b[0;32m/opt/conda/lib/python3.7/site-packages/PIL/TiffImagePlugin.py\u001b[0m in \u001b[0;36m_load_libtiff\u001b[0;34m(self)\u001b[0m\n\u001b[1;32m   1166\u001b[0m \u001b[0;34m\u001b[0m\u001b[0m\n\u001b[1;32m   1167\u001b[0m         \u001b[0;32mif\u001b[0m \u001b[0merr\u001b[0m \u001b[0;34m<\u001b[0m \u001b[0;36m0\u001b[0m\u001b[0;34m:\u001b[0m\u001b[0;34m\u001b[0m\u001b[0;34m\u001b[0m\u001b[0m\n\u001b[0;32m-> 1168\u001b[0;31m             \u001b[0;32mraise\u001b[0m \u001b[0mIOError\u001b[0m\u001b[0;34m(\u001b[0m\u001b[0merr\u001b[0m\u001b[0;34m)\u001b[0m\u001b[0;34m\u001b[0m\u001b[0;34m\u001b[0m\u001b[0m\n\u001b[0m\u001b[1;32m   1169\u001b[0m \u001b[0;34m\u001b[0m\u001b[0m\n\u001b[1;32m   1170\u001b[0m         \u001b[0;32mreturn\u001b[0m \u001b[0mImage\u001b[0m\u001b[0;34m.\u001b[0m\u001b[0mImage\u001b[0m\u001b[0;34m.\u001b[0m\u001b[0mload\u001b[0m\u001b[0;34m(\u001b[0m\u001b[0mself\u001b[0m\u001b[0;34m)\u001b[0m\u001b[0;34m\u001b[0m\u001b[0;34m\u001b[0m\u001b[0m\n",
      "\u001b[0;31mOSError\u001b[0m: -9"
     ]
    }
   ],
   "source": [
    "convert_wsi(pa,0,output_format=imageFormat.png)"
   ]
  },
  {
   "cell_type": "markdown",
   "metadata": {},
   "source": [
    "# Filter images"
   ]
  },
  {
   "cell_type": "code",
   "execution_count": null,
   "metadata": {},
   "outputs": [],
   "source": [
    "##\n",
    "# for 'normal' img formats like .png\n",
    "##\n",
    "\n",
    "def filter_roi(img_path:pathlib.Path, index:int):\n",
    "    if img_path.suffix == '.tiff':\n",
    "        try:\n",
    "            img_pil = slide.open_image(img_path)\n",
    "            img_np = util.pil_to_np_rgb(img_pil)\n",
    "            grayscale_np = filter.filter_rgb_to_grayscale(img_np)\n",
    "            complement_np = filter.filter_complement(grayscale_np)\n",
    "            otsu_np = filter.filter_otsu_threshold(complement_np).astype(np.bool)\n",
    "            filtered_img_np = util.mask_rgb(img_np, otsu_np)\n",
    "            filtered_img_pil = util.np_to_pil(filtered_img_np)\n",
    "            #filtered_path = rois_filtered_path/f'{img_path.stem}-filtered{img_path.suffix}'\n",
    "            filtered_path = rois_filtered_path/f'{img_path.stem}{img_path.suffix}'\n",
    "            filtered_img_pil.save(filtered_path)\n",
    "        except:\n",
    "            print(img_path)\n",
    "            \n",
    "failed = []\n",
    "try:\n",
    "    parallel(filter_roi, rois_path.ls(), max_workers=25)\n",
    "except:\n",
    "    failed.append(img_path)\n",
    "    \n",
    "print(failed)"
   ]
  },
  {
   "cell_type": "code",
   "execution_count": null,
   "metadata": {},
   "outputs": [],
   "source": [
    "show_multiple_images_big(rois_filtered_path)"
   ]
  },
  {
   "cell_type": "markdown",
   "metadata": {},
   "source": [
    "# Create tiles"
   ]
  },
  {
   "cell_type": "markdown",
   "metadata": {},
   "source": [
    "## multi process"
   ]
  },
  {
   "cell_type": "code",
   "execution_count": null,
   "metadata": {},
   "outputs": [],
   "source": [
    "tiles.multiprocess_filtered_images_to_tiles(display=False, \n",
    "                                            save_summary=False, \n",
    "                                            save_data=False, \n",
    "                                            save_top_tiles=True,\n",
    "                                            html=False, \n",
    "                                            image_num_list=list(range(0, len(rois_filtered_path.ls()))))"
   ]
  },
  {
   "cell_type": "code",
   "execution_count": null,
   "metadata": {},
   "outputs": [],
   "source": [
    "len(tiles_path.ls())"
   ]
  },
  {
   "cell_type": "code",
   "execution_count": null,
   "metadata": {},
   "outputs": [],
   "source": [
    "show_multiple_images_big(tiles_path)"
   ]
  },
  {
   "cell_type": "code",
   "execution_count": null,
   "metadata": {},
   "outputs": [],
   "source": [
    "#!rm -r {rois_filtered_path/'*'}\n",
    "#!rm -r {tiles_path/'*'}"
   ]
  },
  {
   "cell_type": "markdown",
   "metadata": {
    "heading_collapsed": true
   },
   "source": [
    "## single process"
   ]
  },
  {
   "cell_type": "code",
   "execution_count": null,
   "metadata": {
    "hidden": true
   },
   "outputs": [],
   "source": [
    "#!rm -r {tiles_path/'*'}"
   ]
  },
  {
   "cell_type": "code",
   "execution_count": null,
   "metadata": {
    "hidden": true
   },
   "outputs": [],
   "source": [
    "failed = []\n",
    "for n, p in tqdm(enumerate(rois_filtered_path.ls()[:1]), total=len(rois_filtered_path.ls())-1):\n",
    "    if p.suffix == '.png':\n",
    "        try:\n",
    "            print(p)\n",
    "            tiles.summary_and_tiles(n, display=False, save_summary=False, save_data=False, save_top_tiles=True)\n",
    "        except:\n",
    "            failed.append(p)\n",
    "            \n",
    "print(failed)"
   ]
  },
  {
   "cell_type": "markdown",
   "metadata": {
    "heading_collapsed": true
   },
   "source": [
    "# exp"
   ]
  },
  {
   "cell_type": "code",
   "execution_count": null,
   "metadata": {
    "hidden": true
   },
   "outputs": [],
   "source": [
    "import PIL\n",
    "p = '/home/Deep_Learner/work/network/datasets/Hypophysenadenome/rois_corticotrop/1000-13-III-HE-ROI_1-ACTH.png'\n",
    "\n",
    "img_pil = slide.open_image(p)\n",
    "img_np = util.pil_to_np_rgb(img_pil)\n",
    "grayscale_np = filter.filter_rgb_to_grayscale(img_np)\n",
    "complement_np = filter.filter_complement(grayscale_np)\n",
    "otsu_np = filter.filter_otsu_threshold(complement_np).astype(np.bool)\n",
    "filtered_img_np = util.mask_rgb(img_np, otsu_np)\n",
    "\n",
    "plt.imshow(filtered_img_np)\n",
    "\n",
    "tiles = []\n",
    "sz = 512\n",
    "for i in range(int(filtered_img_np.shape[0]/sz)):\n",
    "    for j in range(int(filtered_img_np.shape[1]/sz)):\n",
    "         tiles.append(filtered_img_np[i*sz:(i+1)*sz,j*sz:(j+1)*sz])\n",
    "        \n",
    "\n",
    "for t in tiles:\n",
    "    print(t.shape)\n",
    "    nz = np.count_nonzero(t)// 3\n",
    "    print(f'tissue percentage:{(nz/(t.shape[0]*t.shape[1]))*100}')\n",
    "    plt.imshow(t)\n",
    "    plt.show()"
   ]
  },
  {
   "cell_type": "code",
   "execution_count": null,
   "metadata": {
    "hidden": true
   },
   "outputs": [],
   "source": []
  }
 ],
 "metadata": {
  "kernelspec": {
   "display_name": "DLM Py3",
   "language": "python",
   "name": "python3"
  },
  "language_info": {
   "codemirror_mode": {
    "name": "ipython",
    "version": 3
   },
   "file_extension": ".py",
   "mimetype": "text/x-python",
   "name": "python",
   "nbconvert_exporter": "python",
   "pygments_lexer": "ipython3",
   "version": "3.7.3"
  },
  "toc": {
   "base_numbering": 1,
   "nav_menu": {},
   "number_sections": true,
   "sideBar": true,
   "skip_h1_title": false,
   "title_cell": "Table of Contents",
   "title_sidebar": "Contents",
   "toc_cell": false,
   "toc_position": {},
   "toc_section_display": true,
   "toc_window_display": true
  }
 },
 "nbformat": 4,
 "nbformat_minor": 2
}

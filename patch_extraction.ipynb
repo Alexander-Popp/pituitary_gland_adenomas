{
 "cells": [
  {
   "cell_type": "markdown",
   "metadata": {},
   "source": [
    "# Imports"
   ]
  },
  {
   "cell_type": "code",
   "execution_count": 1,
   "metadata": {
    "scrolled": true
   },
   "outputs": [],
   "source": [
    "%reload_ext autoreload\n",
    "%autoreload 2\n",
    "%matplotlib inline\n",
    "#%matplotlib notebook\n",
    "import sys\n",
    "###\n",
    "#!pip install openslide-python\n",
    "#https://github.com/deroneriksson/python-wsi-preprocessing/\n",
    "###\n",
    "sys.path.append('../python-wsi-preprocessing/')\n",
    "from deephistopath.wsi import slide, filter, tiles, util\n",
    "\n",
    "import fastai\n",
    "from fastai.vision import *\n",
    "from fastai.core import parallel\n",
    "\n",
    "import pandas as pd\n",
    "import numpy as np\n",
    "import os\n",
    "from pathlib import Path\n",
    "from functools import partial, update_wrapper\n",
    "from tqdm import tqdm_notebook as tqdm\n",
    "from enum import Enum\n",
    "import matplotlib.pyplot as plt\n",
    "import matplotlib.image as mpimg\n",
    "from PIL import Image\n",
    "import cv2\n",
    "import openslide\n",
    "from openslide.lowlevel import *\n",
    "Image.MAX_IMAGE_PIXELS = 10000000000\n",
    "\n",
    "PATH = Path('/home/Deep_Learner/private/network/datasets/Hypophysenadenome/')\n",
    "FONT_PATH=PATH/'1984-Happines-Regular.ttf'\n",
    "ROIS_CORTICOTROP = PATH/'rois_corticotrop'\n",
    "ROIS_CORTICOTROP_FILTERED = PATH/'rois_corticotrop_filtered'\n",
    "ROIS_GONADOTROP = PATH/'rois_gonadotrop'\n",
    "ROIS_GONADOTROP_FILTERED = PATH/'rois_gonadotrop_filtered'\n",
    "TILES_CORTICOTROP = PATH/'tiles_corticotrop'\n",
    "TILES_GONADOTROP = PATH/'tiles_gonadotrop'\n",
    "\n",
    "ROIS_EXPERIMENTING = PATH/'rois_experimenting'\n",
    "ROIS_EXPERIMENTING_FILTERED = PATH/'rois_experimenting_filtered'\n",
    "TILES_EXPERIMENTING = PATH/'tiles_experimenting'\n",
    "\n",
    "PATH_RELAPSE = Path('/home/Deep_Learner/private/network/datasets/Hypophysenadenome-Rezidive/')\n",
    "RELAPSE_WSIS_EXPERIMENTING = PATH_RELAPSE/'wsis_experimenting'\n",
    "RELAPSE_IMAGES_EXPERIMENTING = PATH_RELAPSE/'imgs_experimenting'\n",
    "RELAPSE_IMAGES_FILTERED_EXPERIMENTING = PATH_RELAPSE/'imgs_filtered_experimenting'\n",
    "RELAPSE_TILES_EXPERIMENTING = PATH_RELAPSE/'tiles_experimenting'\n",
    "\n",
    "NONE_RELAPSE_WSIS = PATH_RELAPSE/'wsis_non_relapse'\n",
    "NONE_RELAPSE_IMAGES = PATH_RELAPSE/'imgs_non_relapse'\n",
    "NONE_RELAPSE_IMAGES_FILTERED = PATH_RELAPSE/'imgs_filtered_non_relapse'\n",
    "NONE_RELAPSE_TILES = PATH_RELAPSE/'tiles_non_relapse'\n",
    "\n",
    "RELAPSE_WSIS = PATH_RELAPSE/'wsis_relapse'\n",
    "RELAPSE_IMAGES = PATH_RELAPSE/'imgs_relapse'\n",
    "RELAPSE_IMAGES_FILTERED = PATH_RELAPSE/'imgs_filtered_relapse'\n",
    "RELAPSE_TILES = PATH_RELAPSE/'tiles_relapse'\n",
    "\n",
    "\n",
    "def show(np):\n",
    "    return util.np_to_pil(np)\n",
    "\n",
    "Path.ls = lambda x: [p for p in list(x.iterdir()) if '.ipynb_checkpoints' not in p.name]\n",
    "\n",
    "def show_multiple_images(path, rows = 3, figsize=(128, 64)):\n",
    "    imgs = [open_image(p) for p in path.ls()]\n",
    "    show_all(imgs=imgs, r=rows, figsize=figsize)\n",
    "    \n",
    "def show_multiple_images_big(path:pathlib.Path):\n",
    "    for p in path.ls():\n",
    "        plt.imshow(mpimg.imread(str(p)))\n",
    "        plt.show()\n",
    "        \n",
    "class AdenomaType(Enum):\n",
    "    experimenting = 0\n",
    "    corticotrop = 1\n",
    "    gonadotrop = 2\n",
    "    relapse_experimenting = 3\n",
    "    relapse = 4\n",
    "    non_relapse = 5"
   ]
  },
  {
   "cell_type": "code",
   "execution_count": 2,
   "metadata": {},
   "outputs": [],
   "source": [
    "adenomaType = AdenomaType.relapse\n",
    "\n",
    "if adenomaType == AdenomaType.gonadotrop:\n",
    "    rois_filtered_path = ROIS_GONADOTROP_FILTERED\n",
    "    rois_path = ROIS_GONADOTROP\n",
    "    tiles_path = TILES_GONADOTROP\n",
    "    \n",
    "if adenomaType == AdenomaType.corticotrop:\n",
    "    rois_filtered_path = ROIS_CORTICOTROP_FILTERED\n",
    "    rois_path = ROIS_CORTICOTROP\n",
    "    tiles_path = TILES_CORTICOTROP\n",
    "    \n",
    "if adenomaType == AdenomaType.experimenting:\n",
    "    wsi_path = ROIS_EXPERIMENTING\n",
    "    rois_filtered_path = ROIS_EXPERIMENTING_FILTERED\n",
    "    rois_path = ROIS_EXPERIMENTING\n",
    "    tiles_path = TILES_EXPERIMENTING\n",
    "    \n",
    "if adenomaType == AdenomaType.relapse_experimenting:\n",
    "    wsi_path = RELAPSE_WSIS_EXPERIMENTING\n",
    "    rois_filtered_path = RELAPSE_IMAGES_FILTERED_EXPERIMENTING\n",
    "    rois_path = RELAPSE_IMAGES_EXPERIMENTING\n",
    "    tiles_path = RELAPSE_TILES_EXPERIMENTING\n",
    "    \n",
    "if adenomaType == AdenomaType.relapse:\n",
    "    wsi_path = RELAPSE_WSIS\n",
    "    rois_path = RELAPSE_IMAGES\n",
    "    rois_filtered_path = RELAPSE_IMAGES_FILTERED\n",
    "    tiles_path = RELAPSE_TILES  \n",
    "    \n",
    "if adenomaType == AdenomaType.non_relapse:\n",
    "    wsi_path = NONE_RELAPSE_WSIS\n",
    "    rois_path = NONE_RELAPSE_IMAGES\n",
    "    rois_filtered_path = NONE_RELAPSE_IMAGES_FILTERED\n",
    "    tiles_path = NONE_RELAPSE_TILES"
   ]
  },
  {
   "cell_type": "code",
   "execution_count": 3,
   "metadata": {},
   "outputs": [],
   "source": [
    "rois_path.mkdir(exist_ok=True)\n",
    "rois_filtered_path.mkdir(exist_ok=True)\n",
    "tiles_path.mkdir(exist_ok=True)"
   ]
  },
  {
   "cell_type": "markdown",
   "metadata": {},
   "source": [
    "# Overwrite parts of wsi lib"
   ]
  },
  {
   "cell_type": "code",
   "execution_count": 5,
   "metadata": {},
   "outputs": [],
   "source": [
    "def score_t(tissue_percent, combined_factor):\n",
    "    \n",
    "    #use this, if you only care that there is any tissue in the tile\n",
    "    return (tissue_percent ** 2) * np.log(1 + combined_factor) / 1000.0\n",
    "\n",
    "    #use this, if you want tissue with lots of cells\n",
    "    #return tissue_percent * combined_factor / 1000.0"
   ]
  },
  {
   "cell_type": "code",
   "execution_count": 6,
   "metadata": {},
   "outputs": [],
   "source": [
    "slide.SCALE_FACTOR = 2\n",
    "\n",
    "\n",
    "slide.BASE_DIR = PATH/'data'\n",
    "slide.SRC_TRAIN_EXT = \"ndpi\"\n",
    "tiles.SUMMARY_TITLE_FONT_PATH = str(FONT_PATH)\n",
    "tiles.FONT_PATH = str(FONT_PATH)\n",
    "tiles.DISPLAY_TILE_SUMMARY_LABELS = True\n",
    "tiles.LABEL_ALL_TILES_IN_TOP_TILE_SUMMARY = True\n",
    "tiles.BORDER_ALL_TILES_IN_TOP_TILE_SUMMARY = True\n",
    "tiles.TISSUE_LOW_THRESH = 20\n",
    "\n",
    "tiles.ROW_TILE_SIZE = 1024\n",
    "tiles.COL_TILE_SIZE = 1024\n",
    "\n",
    "##################################################################################################################\n",
    "\n",
    "slide.open_slide = slide.open_image\n",
    "\n",
    "##################################################################################################################\n",
    "\n",
    "def get_image_path(folder_path, slide_num):\n",
    "    return folder_path.ls()[slide_num]\n",
    "\n",
    "slide.get_filter_image_result = partial(get_image_path, rois_filtered_path)\n",
    "slide.get_training_image_path = partial(get_image_path, rois_path)\n",
    "slide.get_training_slide_path = partial(get_image_path, wsi_path)\n",
    "\n",
    "##################################################################################################################\n",
    "\n",
    "def parse_dimensions_from_image_filename(img_path):\n",
    "    shape = slide.open_image_np(img_path).shape\n",
    "    return shape[1], shape[0], shape[1], shape[0]\n",
    "\n",
    "slide.parse_dimensions_from_image_filename = parse_dimensions_from_image_filename\n",
    "\n",
    "##################################################################################################################\n",
    "\n",
    "def tile_to_pil_tile(tile):\n",
    "  \"\"\"\n",
    "  Convert tile information into the corresponding tile as a PIL image read from the whole-slide image file.\n",
    "\n",
    "  Args:\n",
    "    tile: Tile object.\n",
    "\n",
    "  Return:\n",
    "    Tile as a PIL image.\n",
    "  \"\"\"\n",
    "  t = tile\n",
    "  filepath = slide.get_training_image_path(t.slide_num)\n",
    "  img = slide.open_image_np(filepath)\n",
    "  #x, y = t.o_c_s, t.o_r_s\n",
    "  #w, h = t.o_c_e - t.o_c_s, t.o_r_e - t.o_r_s\n",
    "  tile = img[int(t.o_r_s/slide.SCALE_FACTOR):int(t.o_r_e/slide.SCALE_FACTOR), int(t.o_c_s/slide.SCALE_FACTOR):int(t.o_c_e/slide.SCALE_FACTOR),:]\n",
    "  tile_pil = util.np_to_pil(tile)\n",
    "  return tile_pil\n",
    "\n",
    "tiles.tile_to_pil_tile = tile_to_pil_tile\n",
    "\n",
    "##################################################################################################################\n",
    "def get_tile_image_path(tile):\n",
    "  \"\"\"\n",
    "  Obtain tile image path based on tile information such as row, column, row pixel position, column pixel position,\n",
    "  pixel width, and pixel height.\n",
    "\n",
    "  Args:\n",
    "    tile: Tile object.\n",
    "\n",
    "  Returns:\n",
    "    Path to image tile.\n",
    "  \"\"\"\n",
    "  t = tile\n",
    "  roi_name = slide.get_training_image_path(t.slide_num).stem\n",
    "  tile_path = os.path.join(PATH, tiles_path,\n",
    "                           roi_name + \"-\" + 'tile' + \"-r%d-c%d-x%d-y%d-w%d-h%d\" % (\n",
    "                             t.r, t.c, t.o_c_s, t.o_r_s, t.o_c_e - t.o_c_s, t.o_r_e - t.o_r_s) + \".\" + 'png')\n",
    "  return tile_path\n",
    "\n",
    "slide.get_tile_image_path = get_tile_image_path\n",
    "\n",
    "##################################################################################################################\n",
    "\n",
    "def top_tiles(self):\n",
    "    \"\"\"\n",
    "    Retrieve the top-scoring tiles.\n",
    "\n",
    "    Returns:\n",
    "       List of the top-scoring tiles.\n",
    "    \"\"\"\n",
    "    sorted_tiles = self.tiles_by_score()\n",
    "    top_tiles = [tile for tile in sorted_tiles\n",
    "                 if check_tile(tile)]\n",
    "    print(f'Number of top tiles/all tiles: {len(top_tiles)}/{len(sorted_tiles)}')\n",
    "    return top_tiles\n",
    "\n",
    "def check_tile(tile):\n",
    "    width = tile.o_c_e - tile.o_c_s\n",
    "    height = tile.o_r_e - tile.o_r_s\n",
    "    return tile.score > 0.55 and width >= 0.7*tiles.COL_TILE_SIZE and height >= 0.7*tiles.ROW_TILE_SIZE\n",
    "\n",
    "\n",
    "tiles.TileSummary.top_tiles = top_tiles\n",
    "\n",
    "##################################################################################################################\n",
    "from deephistopath.wsi.tiles import (hsv_saturation_and_value_factor, \n",
    "                                     hsv_purple_pink_factor, \n",
    "                                     tissue_quantity_factor, \n",
    "                                     tissue_quantity)\n",
    "\n",
    "def score_tile(np_tile, tissue_percent, slide_num, row, col):\n",
    "  \"\"\"\n",
    "  Score tile based on tissue percentage, color factor, saturation/value factor, and tissue quantity factor.\n",
    "\n",
    "  Args:\n",
    "    np_tile: Tile as NumPy array.\n",
    "    tissue_percent: The percentage of the tile judged to be tissue.\n",
    "    slide_num: Slide number.\n",
    "    row: Tile row.\n",
    "    col: Tile column.\n",
    "\n",
    "  Returns tuple consisting of score, color factor, saturation/value factor, and tissue quantity factor.\n",
    "  \"\"\"\n",
    "  color_factor = hsv_purple_pink_factor(np_tile)\n",
    "  s_and_v_factor = hsv_saturation_and_value_factor(np_tile)\n",
    "  amount = tissue_quantity(tissue_percent)\n",
    "  quantity_factor = tissue_quantity_factor(amount)\n",
    "  combined_factor = color_factor * s_and_v_factor\n",
    "  score = score_t(tissue_percent, combined_factor)\n",
    "  # scale score to between 0 and 1\n",
    "  score = 1.0 - (10.0 / (10.0 + score))\n",
    "  #print(f'tp: {tissue_percent}')\n",
    "  #print(f'cf: {combined_factor}')\n",
    "  #print(f'score: {score}')  \n",
    "  return score, color_factor, s_and_v_factor, quantity_factor\n",
    "\n",
    "tiles.score_tile = score_tile\n",
    "#tiles.score_tile = tiles.score_tile\n",
    "#############################################################################################################\n",
    "\n",
    "def _load_image(buf, size):\n",
    "        '''buf must be a buffer.'''\n",
    "\n",
    "        # Load entire buffer at once if possible\n",
    "        MAX_PIXELS_PER_LOAD = (1 << 29) - 1\n",
    "        # Otherwise, use chunks smaller than the maximum to reduce memory\n",
    "        # requirements\n",
    "        PIXELS_PER_LOAD = 1 << 26\n",
    "\n",
    "        def do_load(buf, size):\n",
    "            '''buf can be a string, but should be a ctypes buffer to avoid an\n",
    "            extra copy in the caller.'''\n",
    "            # First reorder the bytes in a pixel from native-endian aRGB to\n",
    "            # big-endian RGBa to work around limitations in RGBa loader\n",
    "            rawmode = (sys.byteorder == 'little') and 'BGRA' or 'ARGB'\n",
    "            buf = PIL.Image.frombuffer('RGBA', size, buf, 'raw', rawmode, 0, 1)\n",
    "            # Image.tobytes() is named tostring() in Pillow 1.x and PIL\n",
    "            buf = (getattr(buf, 'tobytes', None) or buf.tostring)()\n",
    "            # Now load the image as RGBA, undoing premultiplication\n",
    "            return PIL.Image.frombuffer('RGBA', size, buf, 'raw', 'RGBa', 0, 1)\n",
    "\n",
    "        # Fast path for small buffers\n",
    "        w, h = size\n",
    "        if w * h <= MAX_PIXELS_PER_LOAD:\n",
    "            return do_load(buf, size)\n",
    "\n",
    "        # Load in chunks to avoid OverflowError in PIL.Image.frombuffer()\n",
    "        # https://github.com/python-pillow/Pillow/issues/1475\n",
    "        if w > PIXELS_PER_LOAD:\n",
    "            # We could support this, but it seems like overkill\n",
    "            raise ValueError('Width %d is too large (maximum %d)' %\n",
    "                    (w, PIXELS_PER_LOAD))\n",
    "        rows_per_load = PIXELS_PER_LOAD // w\n",
    "        img = PIL.Image.new('RGBA', (w, h))\n",
    "        for y in range(0, h, rows_per_load):\n",
    "            rows = min(h - y, rows_per_load)\n",
    "            if sys.version[0] == '2':\n",
    "                chunk = buffer(buf, 4 * y * w, 4 * rows * w)\n",
    "            else:\n",
    "                # PIL.Image.frombuffer() won't take a memoryview or\n",
    "                # bytearray, so we can't avoid copying\n",
    "                chunk = memoryview(buf)[y * w:(y + rows) * w].tobytes()\n",
    "            img.paste(do_load(chunk, (w, rows)), (0, y))\n",
    "        return img\n",
    "\n",
    "openslide.lowlevel._load_image = _load_image\n",
    "\n",
    "\n",
    "def slide_to_scaled_pil_image(slide_filepath):\n",
    "  \"\"\"\n",
    "  Convert a WSI training slide to a scaled-down PIL image.\n",
    "\n",
    "  Args:\n",
    "    slide_number: The slide number.\n",
    "\n",
    "  Returns:\n",
    "    Tuple consisting of scaled-down PIL image, original width, original height, new width, and new height.\n",
    "  \"\"\"\n",
    "  sl = openslide.open_slide(str(slide_filepath))\n",
    "\n",
    "  large_w, large_h = sl.dimensions\n",
    "  new_w = math.floor(large_w / slide.SCALE_FACTOR)\n",
    "  new_h = math.floor(large_h / slide.SCALE_FACTOR)\n",
    "  level = sl.get_best_level_for_downsample(slide.SCALE_FACTOR)\n",
    "  whole_slide_image = sl.read_region((0, 0), level, sl.level_dimensions[level])\n",
    "  whole_slide_image = whole_slide_image.convert(\"RGB\")\n",
    "  img = whole_slide_image.resize((new_w, new_h), PIL.Image.BILINEAR)\n",
    "  return img, large_w, large_h, new_w, new_h\n",
    "\n",
    "slide.slide_to_scaled_pil_image = slide_to_scaled_pil_image\n",
    "\n",
    "\n",
    "def training_slide_to_image(slide_filepath):\n",
    "  \"\"\"\n",
    "  Convert a WSI training slide to a saved scaled-down image in a format such as jpg or png.\n",
    "\n",
    "  Args:\n",
    "    slide_number: The slide number.\n",
    "  \"\"\"\n",
    "  img, large_w, large_h, new_w, new_h = slide_to_scaled_pil_image(slide_filepath)\n",
    "  img_path = f'{rois_path}/{slide_filepath.stem}-scale_factor_{slide.SCALE_FACTOR}.png'\n",
    "  print(\"Saving image to: \" + img_path)\n",
    "  img.save(img_path)\n",
    "\n",
    "slide.training_slide_to_image = training_slide_to_image\n",
    "\n",
    "##############################################################################################\n",
    "\n",
    "def summary_and_tiles(slide_num, display=True, save_summary=False, save_data=True, save_top_tiles=True):\n",
    "  \"\"\"\n",
    "  Generate tile summary and top tiles for slide.\n",
    "\n",
    "  Args:\n",
    "    slide_num: The slide number.\n",
    "    display: If True, display tile summary to screen.\n",
    "    save_summary: If True, save tile summary images.\n",
    "    save_data: If True, save tile data to csv file.\n",
    "    save_top_tiles: If True, save top tiles to files.\n",
    "\n",
    "  \"\"\"\n",
    "  img_path = slide.get_filter_image_result(slide_num)\n",
    "  np_img = slide.open_image_np(img_path)\n",
    "\n",
    "  tile_sum = tiles.score_tiles(slide_num, np_img)\n",
    "  if save_data:\n",
    "    tiles.save_tile_data(tile_sum)\n",
    "  #generate_tile_summaries(tile_sum, np_img, display=display, save_summary=save_summary)\n",
    "  #generate_top_tile_summaries(tile_sum, np_img, display=display, save_summary=save_summary)\n",
    "  if save_top_tiles:\n",
    "    for tile in tile_sum.top_tiles():\n",
    "      tile.save_tile()\n",
    "  return tile_sum\n",
    "\n",
    "tiles.summary_and_tiles = summary_and_tiles"
   ]
  },
  {
   "cell_type": "markdown",
   "metadata": {
    "heading_collapsed": true
   },
   "source": [
    "# Convert WSIs"
   ]
  },
  {
   "cell_type": "code",
   "execution_count": 5,
   "metadata": {
    "hidden": true
   },
   "outputs": [],
   "source": [
    "#def convert_wsi_to_png(path:pathlib.Path, index:int):\n",
    "#    #try:\n",
    "#        slide.training_slide_to_image(path)\n",
    "#        print(f'Saved {path.stem}.png')\n",
    "#    #except:\n",
    "#        #print(path)\n",
    "#        \n",
    "#fastai.core.parallel(convert_wsi_to_png, wsi_path.ls(), max_workers=20)"
   ]
  },
  {
   "cell_type": "code",
   "execution_count": null,
   "metadata": {
    "hidden": true
   },
   "outputs": [],
   "source": [
    "for p in tqdm(wsi_path.ls()):\n",
    "    for b in rois_path.ls():\n",
    "        if p.stem == b.stem:\n",
    "            break\n",
    "    else:\n",
    "        slide.training_slide_to_image(p)"
   ]
  },
  {
   "cell_type": "markdown",
   "metadata": {
    "heading_collapsed": true
   },
   "source": [
    "# Filter images"
   ]
  },
  {
   "cell_type": "code",
   "execution_count": 5,
   "metadata": {
    "hidden": true
   },
   "outputs": [
    {
     "data": {
      "application/vnd.jupyter.widget-view+json": {
       "model_id": "624bae61961b429bbb19b59a1b03bed9",
       "version_major": 2,
       "version_minor": 0
      },
      "text/plain": [
       "HBox(children=(IntProgress(value=0, max=39), HTML(value='')))"
      ]
     },
     "metadata": {},
     "output_type": "display_data"
    },
    {
     "name": "stdout",
     "output_type": "stream",
     "text": [
      "RGB                  | Time: 0:00:07.352323  Type: uint8   Shape: (16128, 14336, 3)\n",
      "Gray                 | Time: 0:00:11.113000  Type: uint8   Shape: (16128, 14336)\n",
      "Complement           | Time: 0:00:00.070322  Type: uint8   Shape: (16128, 14336)\n",
      "Otsu Threshold       | Time: 0:00:02.144515  Type: uint8   Shape: (16128, 14336)\n",
      "Mask RGB             | Time: 0:00:00.794553  Type: uint8   Shape: (16128, 14336, 3)\n",
      "RGB                  | Time: 0:00:12.326676  Type: uint8   Shape: (21504, 17920, 3)\n",
      "Gray                 | Time: 0:00:18.222186  Type: uint8   Shape: (21504, 17920)\n",
      "Complement           | Time: 0:00:00.111731  Type: uint8   Shape: (21504, 17920)\n",
      "Otsu Threshold       | Time: 0:00:03.484084  Type: uint8   Shape: (21504, 17920)\n",
      "Mask RGB             | Time: 0:00:01.300631  Type: uint8   Shape: (21504, 17920, 3)\n",
      "RGB                  | Time: 0:01:26.960319  Type: uint8   Shape: (45696, 59136, 3)\n",
      "Gray                 | Time: 0:02:08.530854  Type: uint8   Shape: (45696, 59136)\n",
      "Complement           | Time: 0:00:00.812570  Type: uint8   Shape: (45696, 59136)\n",
      "Otsu Threshold       | Time: 0:00:24.188575  Type: uint8   Shape: (45696, 59136)\n",
      "Mask RGB             | Time: 0:00:08.872619  Type: uint8   Shape: (45696, 59136, 3)\n",
      "PIL failed, using cv2 instead. /home/Deep_Learner/private/network/datasets/Hypophysenadenome-Rezidive/imgs_non_relapse/1314-12-Z-HE-scale_factor_2.png\n",
      "RGB                  | Time: 0:00:25.780100  Type: uint8   Shape: (21504, 32256, 3)\n",
      "Gray                 | Time: 0:00:32.697312  Type: uint8   Shape: (21504, 32256)\n",
      "Complement           | Time: 0:00:00.208057  Type: uint8   Shape: (21504, 32256)\n",
      "Otsu Threshold       | Time: 0:00:06.241749  Type: uint8   Shape: (21504, 32256)\n",
      "Mask RGB             | Time: 0:00:02.295321  Type: uint8   Shape: (21504, 32256, 3)\n",
      "RGB                  | Time: 0:01:09.574205  Type: uint8   Shape: (43008, 48384, 3)\n",
      "Gray                 | Time: 0:01:41.374707  Type: uint8   Shape: (43008, 48384)\n",
      "Complement           | Time: 0:00:00.595825  Type: uint8   Shape: (43008, 48384)\n",
      "Otsu Threshold       | Time: 0:00:18.500469  Type: uint8   Shape: (43008, 48384)\n",
      "Mask RGB             | Time: 0:00:06.813571  Type: uint8   Shape: (43008, 48384, 3)\n",
      "PIL failed, using cv2 instead. /home/Deep_Learner/private/network/datasets/Hypophysenadenome-Rezidive/imgs_non_relapse/261-12-IV-HE-scale_factor_2.png\n",
      "RGB                  | Time: 0:00:41.548609  Type: uint8   Shape: (32256, 35840, 3)\n",
      "Gray                 | Time: 0:00:54.144087  Type: uint8   Shape: (32256, 35840)\n",
      "Complement           | Time: 0:00:00.330997  Type: uint8   Shape: (32256, 35840)\n",
      "Otsu Threshold       | Time: 0:00:10.537456  Type: uint8   Shape: (32256, 35840)\n",
      "Mask RGB             | Time: 0:00:03.937260  Type: uint8   Shape: (32256, 35840, 3)\n",
      "PIL failed, using cv2 instead. /home/Deep_Learner/private/network/datasets/Hypophysenadenome-Rezidive/imgs_non_relapse/841-12-III-HE-scale_factor_2.png\n",
      "RGB                  | Time: 0:01:18.130534  Type: uint8   Shape: (48384, 48384, 3)\n",
      "Gray                 | Time: 0:01:49.258785  Type: uint8   Shape: (48384, 48384)\n",
      "Complement           | Time: 0:00:00.658811  Type: uint8   Shape: (48384, 48384)\n",
      "Otsu Threshold       | Time: 0:00:20.754759  Type: uint8   Shape: (48384, 48384)\n",
      "Mask RGB             | Time: 0:00:07.592884  Type: uint8   Shape: (48384, 48384, 3)\n",
      "PIL failed, using cv2 instead. /home/Deep_Learner/private/network/datasets/Hypophysenadenome-Rezidive/imgs_non_relapse/131-12-III-HE-scale_factor_2.png\n",
      "RGB                  | Time: 0:00:02.996174  Type: uint8   Shape: (13440, 5376, 3)\n",
      "Gray                 | Time: 0:00:03.505604  Type: uint8   Shape: (13440, 5376)\n",
      "Complement           | Time: 0:00:00.024382  Type: uint8   Shape: (13440, 5376)\n",
      "Otsu Threshold       | Time: 0:00:00.697801  Type: uint8   Shape: (13440, 5376)\n",
      "Mask RGB             | Time: 0:00:00.255634  Type: uint8   Shape: (13440, 5376, 3)\n",
      "RGB                  | Time: 0:01:32.052762  Type: uint8   Shape: (45696, 60928, 3)\n",
      "Gray                 | Time: 0:02:10.687363  Type: uint8   Shape: (45696, 60928)\n",
      "Complement           | Time: 0:00:00.857978  Type: uint8   Shape: (45696, 60928)\n",
      "Otsu Threshold       | Time: 0:00:24.696589  Type: uint8   Shape: (45696, 60928)\n",
      "Mask RGB             | Time: 0:00:09.027697  Type: uint8   Shape: (45696, 60928, 3)\n",
      "PIL failed, using cv2 instead. /home/Deep_Learner/private/network/datasets/Hypophysenadenome-Rezidive/imgs_non_relapse/1668-13-III-HE-scale_factor_2.png\n",
      "RGB                  | Time: 0:00:33.355600  Type: uint8   Shape: (26880, 35840, 3)\n",
      "Gray                 | Time: 0:00:46.004338  Type: uint8   Shape: (26880, 35840)\n",
      "Complement           | Time: 0:00:00.281987  Type: uint8   Shape: (26880, 35840)\n",
      "Otsu Threshold       | Time: 0:00:08.772744  Type: uint8   Shape: (26880, 35840)\n",
      "Mask RGB             | Time: 0:00:03.263705  Type: uint8   Shape: (26880, 35840, 3)\n",
      "PIL failed, using cv2 instead. /home/Deep_Learner/private/network/datasets/Hypophysenadenome-Rezidive/imgs_non_relapse/84-13-III-HE-scale_factor_2.png\n",
      "RGB                  | Time: 0:00:05.038927  Type: uint8   Shape: (10752, 14336, 3)\n",
      "Gray                 | Time: 0:00:07.358786  Type: uint8   Shape: (10752, 14336)\n",
      "Complement           | Time: 0:00:00.048537  Type: uint8   Shape: (10752, 14336)\n",
      "Otsu Threshold       | Time: 0:00:01.472941  Type: uint8   Shape: (10752, 14336)\n",
      "Mask RGB             | Time: 0:00:00.577544  Type: uint8   Shape: (10752, 14336, 3)\n",
      "RGB                  | Time: 0:00:20.157210  Type: uint8   Shape: (24192, 21504, 3)\n",
      "Gray                 | Time: 0:00:24.793564  Type: uint8   Shape: (24192, 21504)\n",
      "Complement           | Time: 0:00:00.172232  Type: uint8   Shape: (24192, 21504)\n",
      "Otsu Threshold       | Time: 0:00:04.836653  Type: uint8   Shape: (24192, 21504)\n",
      "Mask RGB             | Time: 0:00:01.813338  Type: uint8   Shape: (24192, 21504, 3)\n",
      "RGB                  | Time: 0:00:29.033055  Type: uint8   Shape: (18816, 37632, 3)\n",
      "Gray                 | Time: 0:00:37.456003  Type: uint8   Shape: (18816, 37632)\n",
      "Complement           | Time: 0:00:00.231810  Type: uint8   Shape: (18816, 37632)\n",
      "Otsu Threshold       | Time: 0:00:06.499987  Type: uint8   Shape: (18816, 37632)\n",
      "Mask RGB             | Time: 0:00:02.393774  Type: uint8   Shape: (18816, 37632, 3)\n",
      "RGB                  | Time: 0:00:11.750774  Type: uint8   Shape: (18816, 19712, 3)\n",
      "Gray                 | Time: 0:00:17.588113  Type: uint8   Shape: (18816, 19712)\n",
      "Complement           | Time: 0:00:00.109166  Type: uint8   Shape: (18816, 19712)\n",
      "Otsu Threshold       | Time: 0:00:03.388731  Type: uint8   Shape: (18816, 19712)\n",
      "Mask RGB             | Time: 0:00:01.287001  Type: uint8   Shape: (18816, 19712, 3)\n",
      "RGB                  | Time: 0:01:10.798236  Type: uint8   Shape: (45696, 46592, 3)\n",
      "Gray                 | Time: 0:01:46.837452  Type: uint8   Shape: (45696, 46592)\n",
      "Complement           | Time: 0:00:00.609042  Type: uint8   Shape: (45696, 46592)\n",
      "Otsu Threshold       | Time: 0:00:19.121780  Type: uint8   Shape: (45696, 46592)\n",
      "Mask RGB             | Time: 0:00:07.154482  Type: uint8   Shape: (45696, 46592, 3)\n",
      "PIL failed, using cv2 instead. /home/Deep_Learner/private/network/datasets/Hypophysenadenome-Rezidive/imgs_non_relapse/510-13-III-HE-scale_factor_2.png\n",
      "RGB                  | Time: 0:01:46.198479  Type: uint8   Shape: (48384, 57344, 3)\n",
      "Gray                 | Time: 0:02:40.846314  Type: uint8   Shape: (48384, 57344)\n",
      "Complement           | Time: 0:00:01.126879  Type: uint8   Shape: (48384, 57344)\n",
      "Otsu Threshold       | Time: 0:00:27.749288  Type: uint8   Shape: (48384, 57344)\n",
      "Mask RGB             | Time: 0:00:11.162253  Type: uint8   Shape: (48384, 57344, 3)\n",
      "PIL failed, using cv2 instead. /home/Deep_Learner/private/network/datasets/Hypophysenadenome-Rezidive/imgs_non_relapse/1340-12-III-HE-scale_factor_2.png\n",
      "RGB                  | Time: 0:00:59.193391  Type: uint8   Shape: (32256, 46592, 3)\n",
      "Gray                 | Time: 0:01:26.678395  Type: uint8   Shape: (32256, 46592)\n",
      "Complement           | Time: 0:00:00.633033  Type: uint8   Shape: (32256, 46592)\n",
      "Otsu Threshold       | Time: 0:00:14.937054  Type: uint8   Shape: (32256, 46592)\n",
      "Mask RGB             | Time: 0:00:05.891219  Type: uint8   Shape: (32256, 46592, 3)\n"
     ]
    },
    {
     "name": "stdout",
     "output_type": "stream",
     "text": [
      "PIL failed, using cv2 instead. /home/Deep_Learner/private/network/datasets/Hypophysenadenome-Rezidive/imgs_non_relapse/711-12-III-HE-scale_factor_2.png\n",
      "RGB                  | Time: 0:00:14.969793  Type: uint8   Shape: (18816, 17920, 3)\n",
      "Gray                 | Time: 0:00:19.668405  Type: uint8   Shape: (18816, 17920)\n",
      "Complement           | Time: 0:00:00.137808  Type: uint8   Shape: (18816, 17920)\n",
      "Otsu Threshold       | Time: 0:00:03.390516  Type: uint8   Shape: (18816, 17920)\n",
      "Mask RGB             | Time: 0:00:01.335997  Type: uint8   Shape: (18816, 17920, 3)\n",
      "RGB                  | Time: 0:00:17.707281  Type: uint8   Shape: (18816, 25088, 3)\n",
      "Gray                 | Time: 0:00:27.483334  Type: uint8   Shape: (18816, 25088)\n",
      "Complement           | Time: 0:00:00.180145  Type: uint8   Shape: (18816, 25088)\n",
      "Otsu Threshold       | Time: 0:00:04.677538  Type: uint8   Shape: (18816, 25088)\n",
      "Mask RGB             | Time: 0:00:01.870887  Type: uint8   Shape: (18816, 25088, 3)\n",
      "RGB                  | Time: 0:01:20.184969  Type: uint8   Shape: (37632, 55552, 3)\n",
      "Gray                 | Time: 0:02:00.705280  Type: uint8   Shape: (37632, 55552)\n",
      "Complement           | Time: 0:00:00.818709  Type: uint8   Shape: (37632, 55552)\n",
      "Otsu Threshold       | Time: 0:00:21.031528  Type: uint8   Shape: (37632, 55552)\n",
      "Mask RGB             | Time: 0:00:08.444487  Type: uint8   Shape: (37632, 55552, 3)\n",
      "PIL failed, using cv2 instead. /home/Deep_Learner/private/network/datasets/Hypophysenadenome-Rezidive/imgs_non_relapse/671-12-III-HE-scale_factor_2.png\n",
      "RGB                  | Time: 0:00:17.744043  Type: uint8   Shape: (21504, 17920, 3)\n",
      "Gray                 | Time: 0:00:22.665578  Type: uint8   Shape: (21504, 17920)\n",
      "Complement           | Time: 0:00:00.154484  Type: uint8   Shape: (21504, 17920)\n",
      "Otsu Threshold       | Time: 0:00:03.921833  Type: uint8   Shape: (21504, 17920)\n",
      "Mask RGB             | Time: 0:00:01.588310  Type: uint8   Shape: (21504, 17920, 3)\n",
      "RGB                  | Time: 0:00:10.790354  Type: uint8   Shape: (13440, 21504, 3)\n",
      "Gray                 | Time: 0:00:16.779841  Type: uint8   Shape: (13440, 21504)\n",
      "Complement           | Time: 0:00:00.095276  Type: uint8   Shape: (13440, 21504)\n",
      "Otsu Threshold       | Time: 0:00:02.905843  Type: uint8   Shape: (13440, 21504)\n",
      "Mask RGB             | Time: 0:00:01.196538  Type: uint8   Shape: (13440, 21504, 3)\n",
      "RGB                  | Time: 0:00:19.045519  Type: uint8   Shape: (18816, 26880, 3)\n",
      "Gray                 | Time: 0:00:29.248316  Type: uint8   Shape: (18816, 26880)\n",
      "Complement           | Time: 0:00:00.195427  Type: uint8   Shape: (18816, 26880)\n",
      "Otsu Threshold       | Time: 0:00:05.002906  Type: uint8   Shape: (18816, 26880)\n",
      "Mask RGB             | Time: 0:00:01.977665  Type: uint8   Shape: (18816, 26880, 3)\n",
      "RGB                  | Time: 0:00:34.853289  Type: uint8   Shape: (32256, 26880, 3)\n",
      "Gray                 | Time: 0:00:49.914855  Type: uint8   Shape: (32256, 26880)\n",
      "Complement           | Time: 0:00:00.314451  Type: uint8   Shape: (32256, 26880)\n",
      "Otsu Threshold       | Time: 0:00:08.688126  Type: uint8   Shape: (32256, 26880)\n",
      "Mask RGB             | Time: 0:00:03.487947  Type: uint8   Shape: (32256, 26880, 3)\n",
      "PIL failed, using cv2 instead. /home/Deep_Learner/private/network/datasets/Hypophysenadenome-Rezidive/imgs_non_relapse/772-12-III-HE-scale_factor_2.png\n",
      "RGB                  | Time: 0:01:56.490293  Type: uint8   Shape: (48384, 62720, 3)\n",
      "Gray                 | Time: 0:02:57.757801  Type: uint8   Shape: (48384, 62720)\n",
      "Complement           | Time: 0:00:01.188231  Type: uint8   Shape: (48384, 62720)\n",
      "Otsu Threshold       | Time: 0:00:30.360068  Type: uint8   Shape: (48384, 62720)\n",
      "Mask RGB             | Time: 0:00:12.084023  Type: uint8   Shape: (48384, 62720, 3)\n",
      "PIL failed, using cv2 instead. /home/Deep_Learner/private/network/datasets/Hypophysenadenome-Rezidive/imgs_non_relapse/206-12-III-HE-scale_factor_2.png\n",
      "RGB                  | Time: 0:00:53.233405  Type: uint8   Shape: (32256, 41216, 3)\n",
      "Gray                 | Time: 0:01:16.930111  Type: uint8   Shape: (32256, 41216)\n",
      "Complement           | Time: 0:00:00.494133  Type: uint8   Shape: (32256, 41216)\n",
      "Otsu Threshold       | Time: 0:00:13.185161  Type: uint8   Shape: (32256, 41216)\n",
      "Mask RGB             | Time: 0:00:05.206929  Type: uint8   Shape: (32256, 41216, 3)\n",
      "PIL failed, using cv2 instead. /home/Deep_Learner/private/network/datasets/Hypophysenadenome-Rezidive/imgs_non_relapse/670-12-III-HE-scale_factor_2.png\n",
      "RGB                  | Time: 0:00:19.826902  Type: uint8   Shape: (21504, 23296, 3)\n",
      "Gray                 | Time: 0:00:29.141557  Type: uint8   Shape: (21504, 23296)\n",
      "Complement           | Time: 0:00:00.201064  Type: uint8   Shape: (21504, 23296)\n",
      "Otsu Threshold       | Time: 0:00:05.006456  Type: uint8   Shape: (21504, 23296)\n",
      "Mask RGB             | Time: 0:00:02.047717  Type: uint8   Shape: (21504, 23296, 3)\n",
      "RGB                  | Time: 0:00:16.750184  Type: uint8   Shape: (16128, 26880, 3)\n",
      "Gray                 | Time: 0:00:25.221710  Type: uint8   Shape: (16128, 26880)\n",
      "Complement           | Time: 0:00:00.167077  Type: uint8   Shape: (16128, 26880)\n",
      "Otsu Threshold       | Time: 0:00:04.363780  Type: uint8   Shape: (16128, 26880)\n",
      "Mask RGB             | Time: 0:00:01.731831  Type: uint8   Shape: (16128, 26880, 3)\n",
      "RGB                  | Time: 0:01:23.608755  Type: uint8   Shape: (40320, 53760, 3)\n",
      "Gray                 | Time: 0:02:04.892007  Type: uint8   Shape: (40320, 53760)\n",
      "Complement           | Time: 0:00:00.824365  Type: uint8   Shape: (40320, 53760)\n",
      "Otsu Threshold       | Time: 0:00:21.479642  Type: uint8   Shape: (40320, 53760)\n",
      "Mask RGB             | Time: 0:00:08.697607  Type: uint8   Shape: (40320, 53760, 3)\n",
      "PIL failed, using cv2 instead. /home/Deep_Learner/private/network/datasets/Hypophysenadenome-Rezidive/imgs_non_relapse/630-12-IV-HE-scale_factor_2.png\n",
      "RGB                  | Time: 0:01:01.817264  Type: uint8   Shape: (32256, 48384, 3)\n",
      "Gray                 | Time: 0:01:29.387347  Type: uint8   Shape: (32256, 48384)\n",
      "Complement           | Time: 0:00:00.551561  Type: uint8   Shape: (32256, 48384)\n",
      "Otsu Threshold       | Time: 0:00:15.296307  Type: uint8   Shape: (32256, 48384)\n",
      "Mask RGB             | Time: 0:00:06.075015  Type: uint8   Shape: (32256, 48384, 3)\n",
      "PIL failed, using cv2 instead. /home/Deep_Learner/private/network/datasets/Hypophysenadenome-Rezidive/imgs_non_relapse/1048-12-III-HE-scale_factor_2.png\n",
      "RGB                  | Time: 0:01:33.612180  Type: uint8   Shape: (40320, 59136, 3)\n",
      "Gray                 | Time: 0:02:19.005802  Type: uint8   Shape: (40320, 59136)\n",
      "Complement           | Time: 0:00:00.981155  Type: uint8   Shape: (40320, 59136)\n",
      "Otsu Threshold       | Time: 0:00:23.914263  Type: uint8   Shape: (40320, 59136)\n",
      "Mask RGB             | Time: 0:00:09.722005  Type: uint8   Shape: (40320, 59136, 3)\n",
      "PIL failed, using cv2 instead. /home/Deep_Learner/private/network/datasets/Hypophysenadenome-Rezidive/imgs_non_relapse/1006-12-IV-HE-scale_factor_2.png\n",
      "RGB                  | Time: 0:00:02.182960  Type: uint8   Shape: (8064, 7168, 3)\n",
      "Gray                 | Time: 0:00:03.575970  Type: uint8   Shape: (8064, 7168)\n",
      "Complement           | Time: 0:00:00.027586  Type: uint8   Shape: (8064, 7168)\n",
      "Otsu Threshold       | Time: 0:00:00.692700  Type: uint8   Shape: (8064, 7168)\n",
      "Mask RGB             | Time: 0:00:00.257814  Type: uint8   Shape: (8064, 7168, 3)\n",
      "RGB                  | Time: 0:00:21.981818  Type: uint8   Shape: (13440, 43008, 3)\n",
      "Gray                 | Time: 0:00:33.883959  Type: uint8   Shape: (13440, 43008)\n",
      "Complement           | Time: 0:00:00.231443  Type: uint8   Shape: (13440, 43008)\n",
      "Otsu Threshold       | Time: 0:00:05.873944  Type: uint8   Shape: (13440, 43008)\n",
      "Mask RGB             | Time: 0:00:02.347350  Type: uint8   Shape: (13440, 43008, 3)\n",
      "RGB                  | Time: 0:00:24.447637  Type: uint8   Shape: (21504, 30464, 3)\n",
      "Gray                 | Time: 0:00:38.173694  Type: uint8   Shape: (21504, 30464)\n",
      "Complement           | Time: 0:00:00.259909  Type: uint8   Shape: (21504, 30464)\n",
      "Otsu Threshold       | Time: 0:00:06.504749  Type: uint8   Shape: (21504, 30464)\n",
      "Mask RGB             | Time: 0:00:02.600437  Type: uint8   Shape: (21504, 30464, 3)\n"
     ]
    },
    {
     "name": "stdout",
     "output_type": "stream",
     "text": [
      "RGB                  | Time: 0:00:08.874318  Type: uint8   Shape: (13440, 16128, 3)\n",
      "Gray                 | Time: 0:00:12.714951  Type: uint8   Shape: (13440, 16128)\n",
      "Complement           | Time: 0:00:00.085190  Type: uint8   Shape: (13440, 16128)\n",
      "Otsu Threshold       | Time: 0:00:02.205660  Type: uint8   Shape: (13440, 16128)\n",
      "Mask RGB             | Time: 0:00:00.898730  Type: uint8   Shape: (13440, 16128, 3)\n",
      "RGB                  | Time: 0:00:19.893420  Type: uint8   Shape: (21504, 23296, 3)\n",
      "Gray                 | Time: 0:00:29.104551  Type: uint8   Shape: (21504, 23296)\n",
      "Complement           | Time: 0:00:00.185045  Type: uint8   Shape: (21504, 23296)\n",
      "Otsu Threshold       | Time: 0:00:05.045240  Type: uint8   Shape: (21504, 23296)\n",
      "Mask RGB             | Time: 0:00:02.055000  Type: uint8   Shape: (21504, 23296, 3)\n",
      "RGB                  | Time: 0:00:35.988558  Type: uint8   Shape: (26880, 34048, 3)\n",
      "Gray                 | Time: 0:00:53.081588  Type: uint8   Shape: (26880, 34048)\n",
      "Complement           | Time: 0:00:00.312069  Type: uint8   Shape: (26880, 34048)\n",
      "Otsu Threshold       | Time: 0:00:09.003278  Type: uint8   Shape: (26880, 34048)\n",
      "Mask RGB             | Time: 0:00:03.648876  Type: uint8   Shape: (26880, 34048, 3)\n",
      "PIL failed, using cv2 instead. /home/Deep_Learner/private/network/datasets/Hypophysenadenome-Rezidive/imgs_non_relapse/678-12-III-HE-scale_factor_2.png\n",
      "RGB                  | Time: 0:00:28.492684  Type: uint8   Shape: (24192, 30464, 3)\n",
      "Gray                 | Time: 0:00:42.369697  Type: uint8   Shape: (24192, 30464)\n",
      "Complement           | Time: 0:00:00.243629  Type: uint8   Shape: (24192, 30464)\n",
      "Otsu Threshold       | Time: 0:00:07.394626  Type: uint8   Shape: (24192, 30464)\n",
      "Mask RGB             | Time: 0:00:02.873125  Type: uint8   Shape: (24192, 30464, 3)\n",
      "PIL failed, using cv2 instead. /home/Deep_Learner/private/network/datasets/Hypophysenadenome-Rezidive/imgs_non_relapse/788-13-III-HE-scale_factor_2.png\n",
      "RGB                  | Time: 0:00:44.380732  Type: uint8   Shape: (37632, 28672, 3)\n",
      "Gray                 | Time: 0:01:02.048549  Type: uint8   Shape: (37632, 28672)\n",
      "Complement           | Time: 0:00:00.398258  Type: uint8   Shape: (37632, 28672)\n",
      "Otsu Threshold       | Time: 0:00:10.566402  Type: uint8   Shape: (37632, 28672)\n",
      "Mask RGB             | Time: 0:00:04.179793  Type: uint8   Shape: (37632, 28672, 3)\n",
      "PIL failed, using cv2 instead. /home/Deep_Learner/private/network/datasets/Hypophysenadenome-Rezidive/imgs_non_relapse/31-12-III-HE-scale_factor_2.png\n",
      "\n"
     ]
    }
   ],
   "source": [
    "##\n",
    "# for 'normal' img formats like .png\n",
    "# fastai's parallel function expects a function that takes a value and an index, for that reason \n",
    "# filter_roi accepts the 'index' parameter, it can be ignored\n",
    "##\n",
    "\n",
    "def filter_roi(img_path:pathlib.Path, index:int = 0):\n",
    "    if img_path.suffix == '.png':\n",
    "        try:\n",
    "            img_pil = slide.open_image(img_path)\n",
    "            img_np = util.pil_to_np_rgb(img_pil)\n",
    "            grayscale_np = filter.filter_rgb_to_grayscale(img_np)\n",
    "            complement_np = filter.filter_complement(grayscale_np)\n",
    "            otsu_np = filter.filter_otsu_threshold(complement_np).astype(np.bool)\n",
    "            filtered_img_np = util.mask_rgb(img_np, otsu_np)\n",
    "            #filtered_path = rois_filtered_path/f'{img_path.stem}-filtered{img_path.suffix}'\n",
    "            filtered_path = rois_filtered_path/f'{img_path.stem}{img_path.suffix}'\n",
    "            try:\n",
    "                filtered_img_pil = util.np_to_pil(filtered_img_np)\n",
    "                filtered_img_pil.save(filtered_path)\n",
    "            except ValueError as e:\n",
    "                print(f'PIL failed, using cv2 instead. {img_path}')\n",
    "                #cv2 expects the array to have bgr as channel order\n",
    "                bgr = filtered_img_np[...,[2,1,0]]\n",
    "                cv2.imwrite(str(filtered_path), bgr)\n",
    "        except:\n",
    "            print(f'The error occured during the filtering process or PIL and cv2 failed to save it. {img_path}')\n",
    "            raise\n",
    "###\n",
    "# use this line instead of the following for loop to do the filtering in parallel with mutiple threads\n",
    "###\n",
    "#parallel(filter_roi, rois_path.ls(), max_workers=25)\n",
    "\n",
    "#failed = []\n",
    "for p in tqdm(rois_path.ls()):\n",
    "    #try:\n",
    "        filter_roi(p)\n",
    "    #except:\n",
    "        #failed.append(p)\n",
    "    \n",
    "#print(failed)"
   ]
  },
  {
   "cell_type": "markdown",
   "metadata": {
    "heading_collapsed": true,
    "hidden": true
   },
   "source": [
    "## Fix for PIL Value Error\n",
    "PIL raises an ValueEerror, when using Image.fromarray() with very big numpy arrays.\n",
    "In this case use cv2. Beware that you have to switch rgb to bgr in numpy array before saving."
   ]
  },
  {
   "cell_type": "code",
   "execution_count": null,
   "metadata": {
    "hidden": true
   },
   "outputs": [],
   "source": [
    "pa = Path('/home/Deep_Learner/private/network/datasets/Hypophysenadenome-Rezidive/imgs_relapse/495-09-III-HE-scale_factor_2.png')"
   ]
  },
  {
   "cell_type": "code",
   "execution_count": null,
   "metadata": {
    "hidden": true
   },
   "outputs": [],
   "source": [
    "img_pil = slide.open_image(pa)\n",
    "img_np = util.pil_to_np_rgb(img_pil)\n",
    "grayscale_np = filter.filter_rgb_to_grayscale(img_np)\n",
    "complement_np = filter.filter_complement(grayscale_np)\n",
    "otsu_np = filter.filter_otsu_threshold(complement_np).astype(np.bool)\n",
    "filtered_img_np = util.mask_rgb(img_np, otsu_np)"
   ]
  },
  {
   "cell_type": "code",
   "execution_count": null,
   "metadata": {
    "hidden": true,
    "scrolled": true
   },
   "outputs": [],
   "source": [
    "plt.imshow(filtered_img_np)"
   ]
  },
  {
   "cell_type": "code",
   "execution_count": null,
   "metadata": {
    "hidden": true
   },
   "outputs": [],
   "source": [
    "filtered_path = rois_filtered_path/f'{pa.stem}{pa.suffix}'"
   ]
  },
  {
   "cell_type": "code",
   "execution_count": null,
   "metadata": {
    "hidden": true
   },
   "outputs": [],
   "source": [
    "try:\n",
    "    filtered_img_pil = util.np_to_pil(filtered_img_np)\n",
    "    filtered_img_pil.save(filtered_path)\n",
    "except ValueError as e:\n",
    "    bgr = filtered_img_np[...,[2,1,0]]\n",
    "    cv2.imwrite(str(filtered_path), bgr)"
   ]
  },
  {
   "cell_type": "code",
   "execution_count": null,
   "metadata": {
    "hidden": true
   },
   "outputs": [],
   "source": []
  },
  {
   "cell_type": "code",
   "execution_count": null,
   "metadata": {
    "hidden": true
   },
   "outputs": [],
   "source": [
    "ü = filtered_img_np[10000:12000,3500:5000,:]"
   ]
  },
  {
   "cell_type": "code",
   "execution_count": null,
   "metadata": {
    "hidden": true,
    "scrolled": true
   },
   "outputs": [],
   "source": [
    "plt.imshow(ü)"
   ]
  },
  {
   "cell_type": "code",
   "execution_count": null,
   "metadata": {
    "hidden": true
   },
   "outputs": [],
   "source": [
    "path_pil = rois_filtered_path/f'{pa.stem}-pil-{pa.suffix}'\n",
    "filtered_img_pil = util.np_to_pil(ü)"
   ]
  },
  {
   "cell_type": "code",
   "execution_count": null,
   "metadata": {
    "hidden": true
   },
   "outputs": [],
   "source": []
  },
  {
   "cell_type": "code",
   "execution_count": null,
   "metadata": {
    "hidden": true
   },
   "outputs": [],
   "source": [
    "path_cv = rois_filtered_path/f'{pa.stem}-cv2-{pa.suffix}'\n",
    "bgr = ü[...,[2,1,0]]\n",
    "cv2.imwrite(str(path_cv), bgr)"
   ]
  },
  {
   "cell_type": "code",
   "execution_count": null,
   "metadata": {
    "hidden": true
   },
   "outputs": [],
   "source": [
    "open_image(path_cv)"
   ]
  },
  {
   "cell_type": "code",
   "execution_count": null,
   "metadata": {
    "hidden": true
   },
   "outputs": [],
   "source": [
    "open_image(path_pil)"
   ]
  },
  {
   "cell_type": "markdown",
   "metadata": {},
   "source": [
    "# Create tiles"
   ]
  },
  {
   "cell_type": "markdown",
   "metadata": {},
   "source": [
    "## multi process"
   ]
  },
  {
   "cell_type": "code",
   "execution_count": 7,
   "metadata": {},
   "outputs": [
    {
     "name": "stdout",
     "output_type": "stream",
     "text": [
      "Generating tile summaries (multiprocess)\n",
      "\n",
      "Number of processes: 32\n",
      "Number of training images: 49\n",
      "Task #1: Process slides [0]\n",
      "Task #2: Process slides [1, 2]\n",
      "Task #3: Process slides [3]\n",
      "Task #4: Process slides [4, 5]\n",
      "Task #5: Process slides [6]\n",
      "Task #6: Process slides [7, 8]\n",
      "Task #7: Process slides [9]\n",
      "Task #8: Process slides [10, 11]\n",
      "Task #9: Process slides [12]\n",
      "Task #10: Process slides [13, 14]\n",
      "Task #11: Process slides [15]\n",
      "Task #12: Process slides [16, 17]\n",
      "Task #13: Process slides [18]\n",
      "Task #14: Process slides [19, 20]\n",
      "Task #15: Process slides [21]\n",
      "Task #16: Process slides [22, 23]\n",
      "Task #17: Process slides [24, 25]\n",
      "Task #18: Process slides [26]\n",
      "Task #19: Process slides [27, 28]\n",
      "Task #20: Process slides [29]\n",
      "Task #21: Process slides [30, 31]\n",
      "Task #22: Process slides [32]\n",
      "Task #23: Process slides [33, 34]\n",
      "Task #24: Process slides [35]\n",
      "Task #25: Process slides [36, 37]\n",
      "Task #26: Process slides [38]\n",
      "Task #27: Process slides [39, 40]\n",
      "Task #28: Process slides [41]\n",
      "Task #29: Process slides [42, 43]\n",
      "Task #30: Process slides [44]\n",
      "Task #31: Process slides [45, 46]\n",
      "Task #32: Process slides [47, 48]\n",
      "RGB                  | Time: 0:00:13.481049  Type: uint8   Shape: (21504, 23296, 3)\n",
      "RGB                  | Time: 0:00:12.793087  Type: uint8   Shape: (21504, 23296, 3)\n"
     ]
    },
    {
     "name": "stderr",
     "output_type": "stream",
     "text": [
      "/opt/conda/lib/python3.7/site-packages/skimage/color/colorconv.py:265: RuntimeWarning: divide by zero encountered in true_divide\n",
      "  out_s = delta / out_v\n",
      "/opt/conda/lib/python3.7/site-packages/skimage/color/colorconv.py:271: RuntimeWarning: divide by zero encountered in true_divide\n",
      "  out[idx, 0] = (arr[idx, 1] - arr[idx, 2]) / delta[idx]\n",
      "/opt/conda/lib/python3.7/site-packages/skimage/color/colorconv.py:275: RuntimeWarning: divide by zero encountered in true_divide\n",
      "  out[idx, 0] = 2. + (arr[idx, 2] - arr[idx, 0]) / delta[idx]\n",
      "/opt/conda/lib/python3.7/site-packages/skimage/color/colorconv.py:279: RuntimeWarning: divide by zero encountered in true_divide\n",
      "  out[idx, 0] = 4. + (arr[idx, 0] - arr[idx, 1]) / delta[idx]\n"
     ]
    },
    {
     "name": "stdout",
     "output_type": "stream",
     "text": [
      "RGB                  | Time: 0:00:32.382544  Type: uint8   Shape: (16128, 19712, 3)\n",
      "RGB                  | Time: 0:00:38.184672  Type: uint8   Shape: (37632, 43008, 3)\n",
      "RGB                  | Time: 0:00:07.804894  Type: uint8   Shape: (16128, 19712, 3)\n"
     ]
    },
    {
     "name": "stderr",
     "output_type": "stream",
     "text": [
      "/opt/conda/lib/python3.7/site-packages/skimage/color/colorconv.py:265: RuntimeWarning: divide by zero encountered in true_divide\n",
      "  out_s = delta / out_v\n",
      "/opt/conda/lib/python3.7/site-packages/skimage/color/colorconv.py:271: RuntimeWarning: divide by zero encountered in true_divide\n",
      "  out[idx, 0] = (arr[idx, 1] - arr[idx, 2]) / delta[idx]\n",
      "/opt/conda/lib/python3.7/site-packages/skimage/color/colorconv.py:275: RuntimeWarning: divide by zero encountered in true_divide\n",
      "  out[idx, 0] = 2. + (arr[idx, 2] - arr[idx, 0]) / delta[idx]\n",
      "/opt/conda/lib/python3.7/site-packages/skimage/color/colorconv.py:279: RuntimeWarning: divide by zero encountered in true_divide\n",
      "  out[idx, 0] = 4. + (arr[idx, 0] - arr[idx, 1]) / delta[idx]\n"
     ]
    },
    {
     "name": "stdout",
     "output_type": "stream",
     "text": [
      "RGB                  | Time: 0:00:52.494177  Type: uint8   Shape: (16128, 17920, 3)\n",
      "RGB                  | Time: 0:00:06.100772  Type: uint8   Shape: (16128, 17920, 3)\n"
     ]
    },
    {
     "name": "stderr",
     "output_type": "stream",
     "text": [
      "/opt/conda/lib/python3.7/site-packages/skimage/color/colorconv.py:265: RuntimeWarning: divide by zero encountered in true_divide\n",
      "  out_s = delta / out_v\n",
      "/opt/conda/lib/python3.7/site-packages/skimage/color/colorconv.py:271: RuntimeWarning: divide by zero encountered in true_divide\n",
      "  out[idx, 0] = (arr[idx, 1] - arr[idx, 2]) / delta[idx]\n",
      "/opt/conda/lib/python3.7/site-packages/skimage/color/colorconv.py:275: RuntimeWarning: divide by zero encountered in true_divide\n",
      "  out[idx, 0] = 2. + (arr[idx, 2] - arr[idx, 0]) / delta[idx]\n",
      "/opt/conda/lib/python3.7/site-packages/skimage/color/colorconv.py:279: RuntimeWarning: divide by zero encountered in true_divide\n",
      "  out[idx, 0] = 4. + (arr[idx, 0] - arr[idx, 1]) / delta[idx]\n"
     ]
    },
    {
     "name": "stdout",
     "output_type": "stream",
     "text": [
      "RGB                  | Time: 0:01:02.494941  Type: uint8   Shape: (16128, 14336, 3)\n",
      "RGB                  | Time: 0:00:05.681821  Type: uint8   Shape: (16128, 14336, 3)\n"
     ]
    },
    {
     "name": "stderr",
     "output_type": "stream",
     "text": [
      "/opt/conda/lib/python3.7/site-packages/skimage/color/colorconv.py:265: RuntimeWarning: divide by zero encountered in true_divide\n",
      "  out_s = delta / out_v\n",
      "/opt/conda/lib/python3.7/site-packages/skimage/color/colorconv.py:271: RuntimeWarning: divide by zero encountered in true_divide\n",
      "  out[idx, 0] = (arr[idx, 1] - arr[idx, 2]) / delta[idx]\n",
      "/opt/conda/lib/python3.7/site-packages/skimage/color/colorconv.py:275: RuntimeWarning: divide by zero encountered in true_divide\n",
      "  out[idx, 0] = 2. + (arr[idx, 2] - arr[idx, 0]) / delta[idx]\n",
      "/opt/conda/lib/python3.7/site-packages/skimage/color/colorconv.py:279: RuntimeWarning: divide by zero encountered in true_divide\n",
      "  out[idx, 0] = 4. + (arr[idx, 0] - arr[idx, 1]) / delta[idx]\n"
     ]
    },
    {
     "name": "stdout",
     "output_type": "stream",
     "text": [
      "RGB                  | Time: 0:01:15.156444  Type: uint8   Shape: (18816, 23296, 3)\n",
      "RGB                  | Time: 0:00:37.426357  Type: uint8   Shape: (37632, 43008, 3)\n",
      "RGB                  | Time: 0:01:17.092588  Type: uint8   Shape: (56448, 53760, 3)\n",
      "RGB                  | Time: 0:01:19.348976  Type: uint8   Shape: (21504, 23296, 3)\n"
     ]
    },
    {
     "name": "stderr",
     "output_type": "stream",
     "text": [
      "/opt/conda/lib/python3.7/site-packages/skimage/color/colorconv.py:265: RuntimeWarning: divide by zero encountered in true_divide\n",
      "  out_s = delta / out_v\n",
      "/opt/conda/lib/python3.7/site-packages/skimage/color/colorconv.py:271: RuntimeWarning: divide by zero encountered in true_divide\n",
      "  out[idx, 0] = (arr[idx, 1] - arr[idx, 2]) / delta[idx]\n",
      "/opt/conda/lib/python3.7/site-packages/skimage/color/colorconv.py:275: RuntimeWarning: divide by zero encountered in true_divide\n",
      "  out[idx, 0] = 2. + (arr[idx, 2] - arr[idx, 0]) / delta[idx]\n",
      "/opt/conda/lib/python3.7/site-packages/skimage/color/colorconv.py:279: RuntimeWarning: divide by zero encountered in true_divide\n",
      "  out[idx, 0] = 4. + (arr[idx, 0] - arr[idx, 1]) / delta[idx]\n"
     ]
    },
    {
     "ename": "NameError",
     "evalue": "name 'tissue_percent' is not defined",
     "output_type": "error",
     "traceback": [
      "\u001b[0;31m---------------------------------------------------------------------------\u001b[0m",
      "\u001b[0;31mRemoteTraceback\u001b[0m                           Traceback (most recent call last)",
      "\u001b[0;31mRemoteTraceback\u001b[0m: \n\"\"\"\nTraceback (most recent call last):\n  File \"/opt/conda/lib/python3.7/multiprocessing/pool.py\", line 121, in worker\n    result = (True, func(*args, **kwds))\n  File \"../python-wsi-preprocessing/deephistopath/wsi/tiles.py\", line 788, in image_list_to_tiles\n    tile_summary = summary_and_tiles(slide_num, display, save_summary, save_data, save_top_tiles)\n  File \"<ipython-input-6-9844c5b1e58d>\", line 243, in summary_and_tiles\n    tile_sum = tiles.score_tiles(slide_num, np_img)\n  File \"../python-wsi-preprocessing/deephistopath/wsi/tiles.py\", line 688, in score_tiles\n    score, color_factor, s_and_v_factor, quantity_factor = score_tile(np_tile, t_p, slide_num, r, c)\n  File \"<ipython-input-6-9844c5b1e58d>\", line 128, in score_tile\n    score = score_t(tissue_percent, combined_factor)\n  File \"<ipython-input-5-1db9be0e70c6>\", line 6, in score_t\n    return (tissue_percent ** 2) * np.log(1 + combined_factor) / 1000.0\nNameError: name 'tissue_percent' is not defined\n\"\"\"",
      "\nThe above exception was the direct cause of the following exception:\n",
      "\u001b[0;31mNameError\u001b[0m                                 Traceback (most recent call last)",
      "\u001b[0;32m<ipython-input-7-021a1b49236c>\u001b[0m in \u001b[0;36m<module>\u001b[0;34m\u001b[0m\n\u001b[1;32m      4\u001b[0m                                             \u001b[0msave_top_tiles\u001b[0m\u001b[0;34m=\u001b[0m\u001b[0;32mTrue\u001b[0m\u001b[0;34m,\u001b[0m\u001b[0;34m\u001b[0m\u001b[0;34m\u001b[0m\u001b[0m\n\u001b[1;32m      5\u001b[0m                                             \u001b[0mhtml\u001b[0m\u001b[0;34m=\u001b[0m\u001b[0;32mFalse\u001b[0m\u001b[0;34m,\u001b[0m\u001b[0;34m\u001b[0m\u001b[0;34m\u001b[0m\u001b[0m\n\u001b[0;32m----> 6\u001b[0;31m                                             image_num_list=list(range(0, len(rois_filtered_path.ls()))))\n\u001b[0m",
      "\u001b[0;32m~/private/network/python-wsi-preprocessing/deephistopath/wsi/tiles.py\u001b[0m in \u001b[0;36mmultiprocess_filtered_images_to_tiles\u001b[0;34m(display, save_summary, save_data, save_top_tiles, html, image_num_list)\u001b[0m\n\u001b[1;32m    904\u001b[0m   \u001b[0mtile_summaries_dict\u001b[0m \u001b[0;34m=\u001b[0m \u001b[0mdict\u001b[0m\u001b[0;34m(\u001b[0m\u001b[0;34m)\u001b[0m\u001b[0;34m\u001b[0m\u001b[0;34m\u001b[0m\u001b[0m\n\u001b[1;32m    905\u001b[0m   \u001b[0;32mfor\u001b[0m \u001b[0mresult\u001b[0m \u001b[0;32min\u001b[0m \u001b[0mresults\u001b[0m\u001b[0;34m:\u001b[0m\u001b[0;34m\u001b[0m\u001b[0;34m\u001b[0m\u001b[0m\n\u001b[0;32m--> 906\u001b[0;31m     \u001b[0mimage_nums\u001b[0m\u001b[0;34m,\u001b[0m \u001b[0mtile_summaries\u001b[0m \u001b[0;34m=\u001b[0m \u001b[0mresult\u001b[0m\u001b[0;34m.\u001b[0m\u001b[0mget\u001b[0m\u001b[0;34m(\u001b[0m\u001b[0;34m)\u001b[0m\u001b[0;34m\u001b[0m\u001b[0;34m\u001b[0m\u001b[0m\n\u001b[0m\u001b[1;32m    907\u001b[0m     \u001b[0mslide_nums\u001b[0m\u001b[0;34m.\u001b[0m\u001b[0mextend\u001b[0m\u001b[0;34m(\u001b[0m\u001b[0mimage_nums\u001b[0m\u001b[0;34m)\u001b[0m\u001b[0;34m\u001b[0m\u001b[0;34m\u001b[0m\u001b[0m\n\u001b[1;32m    908\u001b[0m     \u001b[0mtile_summaries_dict\u001b[0m\u001b[0;34m.\u001b[0m\u001b[0mupdate\u001b[0m\u001b[0;34m(\u001b[0m\u001b[0mtile_summaries\u001b[0m\u001b[0;34m)\u001b[0m\u001b[0;34m\u001b[0m\u001b[0;34m\u001b[0m\u001b[0m\n",
      "\u001b[0;32m/opt/conda/lib/python3.7/multiprocessing/pool.py\u001b[0m in \u001b[0;36mget\u001b[0;34m(self, timeout)\u001b[0m\n\u001b[1;32m    655\u001b[0m             \u001b[0;32mreturn\u001b[0m \u001b[0mself\u001b[0m\u001b[0;34m.\u001b[0m\u001b[0m_value\u001b[0m\u001b[0;34m\u001b[0m\u001b[0;34m\u001b[0m\u001b[0m\n\u001b[1;32m    656\u001b[0m         \u001b[0;32melse\u001b[0m\u001b[0;34m:\u001b[0m\u001b[0;34m\u001b[0m\u001b[0;34m\u001b[0m\u001b[0m\n\u001b[0;32m--> 657\u001b[0;31m             \u001b[0;32mraise\u001b[0m \u001b[0mself\u001b[0m\u001b[0;34m.\u001b[0m\u001b[0m_value\u001b[0m\u001b[0;34m\u001b[0m\u001b[0;34m\u001b[0m\u001b[0m\n\u001b[0m\u001b[1;32m    658\u001b[0m \u001b[0;34m\u001b[0m\u001b[0m\n\u001b[1;32m    659\u001b[0m     \u001b[0;32mdef\u001b[0m \u001b[0m_set\u001b[0m\u001b[0;34m(\u001b[0m\u001b[0mself\u001b[0m\u001b[0;34m,\u001b[0m \u001b[0mi\u001b[0m\u001b[0;34m,\u001b[0m \u001b[0mobj\u001b[0m\u001b[0;34m)\u001b[0m\u001b[0;34m:\u001b[0m\u001b[0;34m\u001b[0m\u001b[0;34m\u001b[0m\u001b[0m\n",
      "\u001b[0;31mNameError\u001b[0m: name 'tissue_percent' is not defined"
     ]
    },
    {
     "name": "stdout",
     "output_type": "stream",
     "text": [
      "RGB                  | Time: 0:00:10.624076  Type: uint8   Shape: (18816, 23296, 3)\n"
     ]
    },
    {
     "name": "stderr",
     "output_type": "stream",
     "text": [
      "/opt/conda/lib/python3.7/site-packages/skimage/color/colorconv.py:265: RuntimeWarning: divide by zero encountered in true_divide\n",
      "  out_s = delta / out_v\n",
      "/opt/conda/lib/python3.7/site-packages/skimage/color/colorconv.py:271: RuntimeWarning: divide by zero encountered in true_divide\n",
      "  out[idx, 0] = (arr[idx, 1] - arr[idx, 2]) / delta[idx]\n",
      "/opt/conda/lib/python3.7/site-packages/skimage/color/colorconv.py:275: RuntimeWarning: divide by zero encountered in true_divide\n",
      "  out[idx, 0] = 2. + (arr[idx, 2] - arr[idx, 0]) / delta[idx]\n",
      "/opt/conda/lib/python3.7/site-packages/skimage/color/colorconv.py:279: RuntimeWarning: divide by zero encountered in true_divide\n",
      "  out[idx, 0] = 4. + (arr[idx, 0] - arr[idx, 1]) / delta[idx]\n"
     ]
    },
    {
     "name": "stdout",
     "output_type": "stream",
     "text": [
      "RGB                  | Time: 0:00:12.167431  Type: uint8   Shape: (21504, 23296, 3)\n"
     ]
    },
    {
     "name": "stderr",
     "output_type": "stream",
     "text": [
      "/opt/conda/lib/python3.7/site-packages/skimage/color/colorconv.py:265: RuntimeWarning: divide by zero encountered in true_divide\n",
      "  out_s = delta / out_v\n",
      "/opt/conda/lib/python3.7/site-packages/skimage/color/colorconv.py:271: RuntimeWarning: divide by zero encountered in true_divide\n",
      "  out[idx, 0] = (arr[idx, 1] - arr[idx, 2]) / delta[idx]\n",
      "/opt/conda/lib/python3.7/site-packages/skimage/color/colorconv.py:275: RuntimeWarning: divide by zero encountered in true_divide\n",
      "  out[idx, 0] = 2. + (arr[idx, 2] - arr[idx, 0]) / delta[idx]\n",
      "/opt/conda/lib/python3.7/site-packages/skimage/color/colorconv.py:279: RuntimeWarning: divide by zero encountered in true_divide\n",
      "  out[idx, 0] = 4. + (arr[idx, 0] - arr[idx, 1]) / delta[idx]\n"
     ]
    },
    {
     "name": "stdout",
     "output_type": "stream",
     "text": [
      "RGB                  | Time: 0:01:34.809902  Type: uint8   Shape: (16128, 25088, 3)\n",
      "RGB                  | Time: 0:01:34.980400  Type: uint8   Shape: (21504, 19712, 3)\n",
      "RGB                  | Time: 0:00:09.334555  Type: uint8   Shape: (21504, 19712, 3)\n",
      "RGB                  | Time: 0:00:09.793194  Type: uint8   Shape: (16128, 25088, 3)\n"
     ]
    },
    {
     "name": "stderr",
     "output_type": "stream",
     "text": [
      "/opt/conda/lib/python3.7/site-packages/skimage/color/colorconv.py:265: RuntimeWarning: divide by zero encountered in true_divide\n",
      "  out_s = delta / out_v\n",
      "/opt/conda/lib/python3.7/site-packages/skimage/color/colorconv.py:271: RuntimeWarning: divide by zero encountered in true_divide\n",
      "  out[idx, 0] = (arr[idx, 1] - arr[idx, 2]) / delta[idx]\n",
      "/opt/conda/lib/python3.7/site-packages/skimage/color/colorconv.py:275: RuntimeWarning: divide by zero encountered in true_divide\n",
      "  out[idx, 0] = 2. + (arr[idx, 2] - arr[idx, 0]) / delta[idx]\n",
      "/opt/conda/lib/python3.7/site-packages/skimage/color/colorconv.py:279: RuntimeWarning: divide by zero encountered in true_divide\n",
      "  out[idx, 0] = 4. + (arr[idx, 0] - arr[idx, 1]) / delta[idx]\n",
      "/opt/conda/lib/python3.7/site-packages/skimage/color/colorconv.py:265: RuntimeWarning: divide by zero encountered in true_divide\n",
      "  out_s = delta / out_v\n",
      "/opt/conda/lib/python3.7/site-packages/skimage/color/colorconv.py:271: RuntimeWarning: divide by zero encountered in true_divide\n",
      "  out[idx, 0] = (arr[idx, 1] - arr[idx, 2]) / delta[idx]\n",
      "/opt/conda/lib/python3.7/site-packages/skimage/color/colorconv.py:275: RuntimeWarning: divide by zero encountered in true_divide\n",
      "  out[idx, 0] = 2. + (arr[idx, 2] - arr[idx, 0]) / delta[idx]\n",
      "/opt/conda/lib/python3.7/site-packages/skimage/color/colorconv.py:279: RuntimeWarning: divide by zero encountered in true_divide\n",
      "  out[idx, 0] = 4. + (arr[idx, 0] - arr[idx, 1]) / delta[idx]\n"
     ]
    },
    {
     "name": "stdout",
     "output_type": "stream",
     "text": [
      "RGB                  | Time: 0:01:13.182576  Type: uint8   Shape: (56448, 53760, 3)\n"
     ]
    },
    {
     "name": "stderr",
     "output_type": "stream",
     "text": [
      "/opt/conda/lib/python3.7/site-packages/skimage/color/colorconv.py:265: RuntimeWarning: divide by zero encountered in true_divide\n",
      "  out_s = delta / out_v\n",
      "/opt/conda/lib/python3.7/site-packages/skimage/color/colorconv.py:271: RuntimeWarning: divide by zero encountered in true_divide\n",
      "  out[idx, 0] = (arr[idx, 1] - arr[idx, 2]) / delta[idx]\n",
      "/opt/conda/lib/python3.7/site-packages/skimage/color/colorconv.py:275: RuntimeWarning: divide by zero encountered in true_divide\n",
      "  out[idx, 0] = 2. + (arr[idx, 2] - arr[idx, 0]) / delta[idx]\n",
      "/opt/conda/lib/python3.7/site-packages/skimage/color/colorconv.py:279: RuntimeWarning: divide by zero encountered in true_divide\n",
      "  out[idx, 0] = 4. + (arr[idx, 0] - arr[idx, 1]) / delta[idx]\n"
     ]
    },
    {
     "name": "stdout",
     "output_type": "stream",
     "text": [
      "RGB                  | Time: 0:03:08.793364  Type: uint8   Shape: (21504, 26880, 3)\n",
      "RGB                  | Time: 0:03:21.060543  Type: uint8   Shape: (26880, 21504, 3)\n",
      "RGB                  | Time: 0:00:15.316968  Type: uint8   Shape: (21504, 26880, 3)\n"
     ]
    },
    {
     "name": "stderr",
     "output_type": "stream",
     "text": [
      "/opt/conda/lib/python3.7/site-packages/skimage/color/colorconv.py:265: RuntimeWarning: divide by zero encountered in true_divide\n",
      "  out_s = delta / out_v\n",
      "/opt/conda/lib/python3.7/site-packages/skimage/color/colorconv.py:271: RuntimeWarning: divide by zero encountered in true_divide\n",
      "  out[idx, 0] = (arr[idx, 1] - arr[idx, 2]) / delta[idx]\n",
      "/opt/conda/lib/python3.7/site-packages/skimage/color/colorconv.py:275: RuntimeWarning: divide by zero encountered in true_divide\n",
      "  out[idx, 0] = 2. + (arr[idx, 2] - arr[idx, 0]) / delta[idx]\n",
      "/opt/conda/lib/python3.7/site-packages/skimage/color/colorconv.py:279: RuntimeWarning: divide by zero encountered in true_divide\n",
      "  out[idx, 0] = 4. + (arr[idx, 0] - arr[idx, 1]) / delta[idx]\n"
     ]
    },
    {
     "name": "stdout",
     "output_type": "stream",
     "text": [
      "RGB                  | Time: 0:03:33.515560  Type: uint8   Shape: (26880, 28672, 3)\n",
      "RGB                  | Time: 0:00:16.764980  Type: uint8   Shape: (26880, 21504, 3)\n",
      "RGB                  | Time: 0:03:40.269183  Type: uint8   Shape: (29568, 26880, 3)\n"
     ]
    },
    {
     "name": "stderr",
     "output_type": "stream",
     "text": [
      "/opt/conda/lib/python3.7/site-packages/skimage/color/colorconv.py:265: RuntimeWarning: divide by zero encountered in true_divide\n",
      "  out_s = delta / out_v\n",
      "/opt/conda/lib/python3.7/site-packages/skimage/color/colorconv.py:271: RuntimeWarning: divide by zero encountered in true_divide\n",
      "  out[idx, 0] = (arr[idx, 1] - arr[idx, 2]) / delta[idx]\n",
      "/opt/conda/lib/python3.7/site-packages/skimage/color/colorconv.py:275: RuntimeWarning: divide by zero encountered in true_divide\n",
      "  out[idx, 0] = 2. + (arr[idx, 2] - arr[idx, 0]) / delta[idx]\n",
      "/opt/conda/lib/python3.7/site-packages/skimage/color/colorconv.py:279: RuntimeWarning: divide by zero encountered in true_divide\n",
      "  out[idx, 0] = 4. + (arr[idx, 0] - arr[idx, 1]) / delta[idx]\n"
     ]
    },
    {
     "name": "stdout",
     "output_type": "stream",
     "text": [
      "RGB                  | Time: 0:00:17.054415  Type: uint8   Shape: (26880, 28672, 3)\n"
     ]
    },
    {
     "name": "stderr",
     "output_type": "stream",
     "text": [
      "/opt/conda/lib/python3.7/site-packages/skimage/color/colorconv.py:265: RuntimeWarning: divide by zero encountered in true_divide\n",
      "  out_s = delta / out_v\n",
      "/opt/conda/lib/python3.7/site-packages/skimage/color/colorconv.py:271: RuntimeWarning: divide by zero encountered in true_divide\n",
      "  out[idx, 0] = (arr[idx, 1] - arr[idx, 2]) / delta[idx]\n",
      "/opt/conda/lib/python3.7/site-packages/skimage/color/colorconv.py:275: RuntimeWarning: divide by zero encountered in true_divide\n",
      "  out[idx, 0] = 2. + (arr[idx, 2] - arr[idx, 0]) / delta[idx]\n",
      "/opt/conda/lib/python3.7/site-packages/skimage/color/colorconv.py:279: RuntimeWarning: divide by zero encountered in true_divide\n",
      "  out[idx, 0] = 4. + (arr[idx, 0] - arr[idx, 1]) / delta[idx]\n"
     ]
    },
    {
     "name": "stdout",
     "output_type": "stream",
     "text": [
      "RGB                  | Time: 0:00:16.864855  Type: uint8   Shape: (29568, 26880, 3)\n"
     ]
    },
    {
     "name": "stderr",
     "output_type": "stream",
     "text": [
      "/opt/conda/lib/python3.7/site-packages/skimage/color/colorconv.py:265: RuntimeWarning: divide by zero encountered in true_divide\n",
      "  out_s = delta / out_v\n",
      "/opt/conda/lib/python3.7/site-packages/skimage/color/colorconv.py:271: RuntimeWarning: divide by zero encountered in true_divide\n",
      "  out[idx, 0] = (arr[idx, 1] - arr[idx, 2]) / delta[idx]\n",
      "/opt/conda/lib/python3.7/site-packages/skimage/color/colorconv.py:275: RuntimeWarning: divide by zero encountered in true_divide\n",
      "  out[idx, 0] = 2. + (arr[idx, 2] - arr[idx, 0]) / delta[idx]\n",
      "/opt/conda/lib/python3.7/site-packages/skimage/color/colorconv.py:279: RuntimeWarning: divide by zero encountered in true_divide\n",
      "  out[idx, 0] = 4. + (arr[idx, 0] - arr[idx, 1]) / delta[idx]\n"
     ]
    },
    {
     "name": "stdout",
     "output_type": "stream",
     "text": [
      "RGB                  | Time: 0:04:01.885292  Type: uint8   Shape: (24192, 21504, 3)\n",
      "RGB                  | Time: 0:04:13.440900  Type: uint8   Shape: (16128, 51968, 3)\n",
      "RGB                  | Time: 0:00:16.039186  Type: uint8   Shape: (24192, 21504, 3)\n"
     ]
    },
    {
     "name": "stderr",
     "output_type": "stream",
     "text": [
      "/opt/conda/lib/python3.7/site-packages/skimage/color/colorconv.py:265: RuntimeWarning: divide by zero encountered in true_divide\n",
      "  out_s = delta / out_v\n",
      "/opt/conda/lib/python3.7/site-packages/skimage/color/colorconv.py:271: RuntimeWarning: divide by zero encountered in true_divide\n",
      "  out[idx, 0] = (arr[idx, 1] - arr[idx, 2]) / delta[idx]\n",
      "/opt/conda/lib/python3.7/site-packages/skimage/color/colorconv.py:275: RuntimeWarning: divide by zero encountered in true_divide\n",
      "  out[idx, 0] = 2. + (arr[idx, 2] - arr[idx, 0]) / delta[idx]\n",
      "/opt/conda/lib/python3.7/site-packages/skimage/color/colorconv.py:279: RuntimeWarning: divide by zero encountered in true_divide\n",
      "  out[idx, 0] = 4. + (arr[idx, 0] - arr[idx, 1]) / delta[idx]\n"
     ]
    },
    {
     "name": "stdout",
     "output_type": "stream",
     "text": [
      "RGB                  | Time: 0:00:19.564684  Type: uint8   Shape: (16128, 51968, 3)\n",
      "RGB                  | Time: 0:04:37.776445  Type: uint8   Shape: (24192, 59136, 3)\n",
      "RGB                  | Time: 0:04:48.308662  Type: uint8   Shape: (32256, 37632, 3)\n",
      "RGB                  | Time: 0:04:54.962542  Type: uint8   Shape: (26880, 111104, 3)\n"
     ]
    },
    {
     "name": "stderr",
     "output_type": "stream",
     "text": [
      "Process ForkPoolWorker-16:\n",
      "Process ForkPoolWorker-27:\n",
      "Process ForkPoolWorker-32:\n",
      "Process ForkPoolWorker-25:\n",
      "Process ForkPoolWorker-12:\n",
      "Process ForkPoolWorker-22:\n",
      "Process ForkPoolWorker-10:\n",
      "Process ForkPoolWorker-9:\n",
      "Process ForkPoolWorker-1:\n",
      "Process ForkPoolWorker-4:\n"
     ]
    },
    {
     "name": "stdout",
     "output_type": "stream",
     "text": [
      "RGB                  | Time: 0:00:17.957233  Type: object  Shape: ()\n"
     ]
    },
    {
     "name": "stderr",
     "output_type": "stream",
     "text": [
      "Process ForkPoolWorker-5:\n",
      "Process ForkPoolWorker-20:\n"
     ]
    },
    {
     "name": "stdout",
     "output_type": "stream",
     "text": [
      "RGB                  | Time: 0:00:07.284591  Type: object  Shape: ()\n",
      "RGB                  | Time: 0:04:56.444374  Type: object  Shape: ()\n"
     ]
    },
    {
     "name": "stderr",
     "output_type": "stream",
     "text": [
      "Process ForkPoolWorker-2:\n"
     ]
    },
    {
     "name": "stdout",
     "output_type": "stream",
     "text": [
      "RGB                  | Time: 0:04:56.195530  Type: object  Shape: ()\n"
     ]
    },
    {
     "name": "stderr",
     "output_type": "stream",
     "text": [
      "Process ForkPoolWorker-14:\n",
      "Traceback (most recent call last):\n"
     ]
    },
    {
     "name": "stdout",
     "output_type": "stream",
     "text": [
      "RGB                  | Time: 0:04:56.203935  Type: object  Shape: ()\n"
     ]
    },
    {
     "name": "stderr",
     "output_type": "stream",
     "text": [
      "Traceback (most recent call last):\n",
      "Traceback (most recent call last):\n",
      "Process ForkPoolWorker-21:\n",
      "Process ForkPoolWorker-29:\n"
     ]
    },
    {
     "name": "stdout",
     "output_type": "stream",
     "text": [
      "RGB                  | Time: 0:04:56.114558  Type: object  Shape: ()\n"
     ]
    },
    {
     "name": "stderr",
     "output_type": "stream",
     "text": [
      "Traceback (most recent call last):\n",
      "Traceback (most recent call last):\n"
     ]
    },
    {
     "name": "stdout",
     "output_type": "stream",
     "text": [
      "RGB                  | Time: 0:04:56.250067  Type: object  Shape: ()\n"
     ]
    },
    {
     "name": "stderr",
     "output_type": "stream",
     "text": [
      "Traceback (most recent call last):\n",
      "Traceback (most recent call last):\n",
      "Traceback (most recent call last):\n",
      "Traceback (most recent call last):\n",
      "Traceback (most recent call last):\n",
      "Traceback (most recent call last):\n",
      "Traceback (most recent call last):\n",
      "Traceback (most recent call last):\n",
      "Traceback (most recent call last):\n",
      "  File \"/opt/conda/lib/python3.7/multiprocessing/process.py\", line 297, in _bootstrap\n",
      "    self.run()\n",
      "  File \"/opt/conda/lib/python3.7/multiprocessing/process.py\", line 297, in _bootstrap\n",
      "    self.run()\n",
      "Traceback (most recent call last):\n",
      "Traceback (most recent call last):\n",
      "  File \"/opt/conda/lib/python3.7/multiprocessing/process.py\", line 297, in _bootstrap\n",
      "    self.run()\n",
      "  File \"/opt/conda/lib/python3.7/multiprocessing/process.py\", line 297, in _bootstrap\n",
      "    self.run()\n",
      "  File \"/opt/conda/lib/python3.7/multiprocessing/process.py\", line 297, in _bootstrap\n",
      "    self.run()\n",
      "  File \"/opt/conda/lib/python3.7/multiprocessing/process.py\", line 297, in _bootstrap\n",
      "    self.run()\n",
      "  File \"/opt/conda/lib/python3.7/multiprocessing/process.py\", line 297, in _bootstrap\n",
      "    self.run()\n",
      "  File \"/opt/conda/lib/python3.7/multiprocessing/process.py\", line 297, in _bootstrap\n",
      "    self.run()\n",
      "  File \"/opt/conda/lib/python3.7/multiprocessing/process.py\", line 297, in _bootstrap\n",
      "    self.run()\n"
     ]
    },
    {
     "name": "stdout",
     "output_type": "stream",
     "text": [
      "RGB                  | Time: 0:00:00.399161  Type: object  Shape: ()\n"
     ]
    },
    {
     "name": "stderr",
     "output_type": "stream",
     "text": [
      "  File \"/opt/conda/lib/python3.7/multiprocessing/process.py\", line 297, in _bootstrap\n",
      "    self.run()\n",
      "  File \"/opt/conda/lib/python3.7/multiprocessing/process.py\", line 297, in _bootstrap\n",
      "    self.run()\n",
      "  File \"/opt/conda/lib/python3.7/multiprocessing/process.py\", line 99, in run\n",
      "    self._target(*self._args, **self._kwargs)\n",
      "  File \"/opt/conda/lib/python3.7/multiprocessing/process.py\", line 297, in _bootstrap\n",
      "    self.run()\n",
      "  File \"/opt/conda/lib/python3.7/multiprocessing/process.py\", line 297, in _bootstrap\n",
      "    self.run()\n",
      "  File \"/opt/conda/lib/python3.7/multiprocessing/process.py\", line 99, in run\n",
      "    self._target(*self._args, **self._kwargs)\n",
      "  File \"/opt/conda/lib/python3.7/multiprocessing/process.py\", line 99, in run\n",
      "    self._target(*self._args, **self._kwargs)\n",
      "  File \"/opt/conda/lib/python3.7/multiprocessing/process.py\", line 99, in run\n",
      "    self._target(*self._args, **self._kwargs)\n",
      "  File \"/opt/conda/lib/python3.7/multiprocessing/pool.py\", line 110, in worker\n",
      "    task = get()\n",
      "  File \"/opt/conda/lib/python3.7/multiprocessing/pool.py\", line 110, in worker\n",
      "    task = get()\n",
      "  File \"/opt/conda/lib/python3.7/multiprocessing/process.py\", line 297, in _bootstrap\n",
      "    self.run()\n",
      "  File \"/opt/conda/lib/python3.7/multiprocessing/process.py\", line 99, in run\n",
      "    self._target(*self._args, **self._kwargs)\n",
      "  File \"/opt/conda/lib/python3.7/multiprocessing/process.py\", line 99, in run\n",
      "    self._target(*self._args, **self._kwargs)\n",
      "  File \"/opt/conda/lib/python3.7/multiprocessing/process.py\", line 297, in _bootstrap\n",
      "    self.run()\n",
      "  File \"/opt/conda/lib/python3.7/multiprocessing/pool.py\", line 110, in worker\n",
      "    task = get()\n",
      "  File \"/opt/conda/lib/python3.7/multiprocessing/process.py\", line 99, in run\n",
      "    self._target(*self._args, **self._kwargs)\n",
      "  File \"/opt/conda/lib/python3.7/multiprocessing/pool.py\", line 110, in worker\n",
      "    task = get()\n",
      "  File \"/opt/conda/lib/python3.7/multiprocessing/process.py\", line 99, in run\n",
      "    self._target(*self._args, **self._kwargs)\n",
      "  File \"/opt/conda/lib/python3.7/multiprocessing/process.py\", line 99, in run\n",
      "    self._target(*self._args, **self._kwargs)\n",
      "  File \"/opt/conda/lib/python3.7/multiprocessing/queues.py\", line 351, in get\n",
      "    with self._rlock:\n",
      "  File \"/opt/conda/lib/python3.7/multiprocessing/process.py\", line 99, in run\n",
      "    self._target(*self._args, **self._kwargs)\n",
      "  File \"/opt/conda/lib/python3.7/multiprocessing/process.py\", line 99, in run\n",
      "    self._target(*self._args, **self._kwargs)\n",
      "  File \"/opt/conda/lib/python3.7/multiprocessing/queues.py\", line 351, in get\n",
      "    with self._rlock:\n",
      "  File \"/opt/conda/lib/python3.7/multiprocessing/queues.py\", line 351, in get\n",
      "    with self._rlock:\n",
      "  File \"/opt/conda/lib/python3.7/multiprocessing/process.py\", line 99, in run\n",
      "    self._target(*self._args, **self._kwargs)\n",
      "  File \"/opt/conda/lib/python3.7/multiprocessing/pool.py\", line 110, in worker\n",
      "    task = get()\n",
      "  File \"/opt/conda/lib/python3.7/multiprocessing/queues.py\", line 351, in get\n",
      "    with self._rlock:\n",
      "  File \"/opt/conda/lib/python3.7/multiprocessing/process.py\", line 99, in run\n",
      "    self._target(*self._args, **self._kwargs)\n",
      "  File \"/opt/conda/lib/python3.7/multiprocessing/synchronize.py\", line 95, in __enter__\n",
      "    return self._semlock.__enter__()\n",
      "  File \"/opt/conda/lib/python3.7/multiprocessing/synchronize.py\", line 95, in __enter__\n",
      "    return self._semlock.__enter__()\n",
      "  File \"/opt/conda/lib/python3.7/multiprocessing/pool.py\", line 110, in worker\n",
      "    task = get()\n",
      "  File \"/opt/conda/lib/python3.7/multiprocessing/synchronize.py\", line 95, in __enter__\n",
      "    return self._semlock.__enter__()\n",
      "KeyboardInterrupt\n",
      "  File \"/opt/conda/lib/python3.7/multiprocessing/pool.py\", line 110, in worker\n",
      "    task = get()\n",
      "  File \"/opt/conda/lib/python3.7/multiprocessing/process.py\", line 99, in run\n",
      "    self._target(*self._args, **self._kwargs)\n",
      "  File \"/opt/conda/lib/python3.7/multiprocessing/queues.py\", line 351, in get\n",
      "    with self._rlock:\n",
      "  File \"/opt/conda/lib/python3.7/multiprocessing/pool.py\", line 110, in worker\n",
      "    task = get()\n",
      "  File \"/opt/conda/lib/python3.7/multiprocessing/pool.py\", line 110, in worker\n",
      "    task = get()\n",
      "  File \"/opt/conda/lib/python3.7/multiprocessing/pool.py\", line 110, in worker\n",
      "    task = get()\n",
      "  File \"/opt/conda/lib/python3.7/multiprocessing/process.py\", line 297, in _bootstrap\n",
      "    self.run()\n",
      "  File \"/opt/conda/lib/python3.7/multiprocessing/pool.py\", line 110, in worker\n",
      "    task = get()\n",
      "  File \"/opt/conda/lib/python3.7/multiprocessing/pool.py\", line 110, in worker\n",
      "    task = get()\n",
      "  File \"/opt/conda/lib/python3.7/multiprocessing/pool.py\", line 110, in worker\n",
      "    task = get()\n",
      "  File \"/opt/conda/lib/python3.7/multiprocessing/synchronize.py\", line 95, in __enter__\n",
      "    return self._semlock.__enter__()\n",
      "  File \"/opt/conda/lib/python3.7/multiprocessing/queues.py\", line 351, in get\n",
      "    with self._rlock:\n",
      "  File \"/opt/conda/lib/python3.7/multiprocessing/queues.py\", line 351, in get\n",
      "    with self._rlock:\n",
      "  File \"/opt/conda/lib/python3.7/multiprocessing/synchronize.py\", line 95, in __enter__\n",
      "    return self._semlock.__enter__()\n",
      "  File \"/opt/conda/lib/python3.7/multiprocessing/queues.py\", line 351, in get\n",
      "    with self._rlock:\n",
      "KeyboardInterrupt\n",
      "  File \"/opt/conda/lib/python3.7/multiprocessing/queues.py\", line 351, in get\n",
      "    with self._rlock:\n",
      "  File \"/opt/conda/lib/python3.7/multiprocessing/queues.py\", line 351, in get\n",
      "    with self._rlock:\n",
      "  File \"/opt/conda/lib/python3.7/multiprocessing/synchronize.py\", line 95, in __enter__\n",
      "    return self._semlock.__enter__()\n",
      "  File \"/opt/conda/lib/python3.7/multiprocessing/queues.py\", line 351, in get\n",
      "    with self._rlock:\n",
      "  File \"/opt/conda/lib/python3.7/multiprocessing/synchronize.py\", line 95, in __enter__\n",
      "    return self._semlock.__enter__()\n",
      "  File \"/opt/conda/lib/python3.7/multiprocessing/synchronize.py\", line 95, in __enter__\n",
      "    return self._semlock.__enter__()\n",
      "  File \"/opt/conda/lib/python3.7/multiprocessing/process.py\", line 99, in run\n",
      "    self._target(*self._args, **self._kwargs)\n",
      "  File \"/opt/conda/lib/python3.7/multiprocessing/synchronize.py\", line 95, in __enter__\n",
      "    return self._semlock.__enter__()\n",
      "  File \"/opt/conda/lib/python3.7/multiprocessing/synchronize.py\", line 95, in __enter__\n",
      "    return self._semlock.__enter__()\n",
      "  File \"/opt/conda/lib/python3.7/multiprocessing/process.py\", line 99, in run\n",
      "    self._target(*self._args, **self._kwargs)\n",
      "  File \"/opt/conda/lib/python3.7/multiprocessing/queues.py\", line 351, in get\n",
      "    with self._rlock:\n",
      "KeyboardInterrupt\n",
      "KeyboardInterrupt\n",
      "KeyboardInterrupt\n",
      "  File \"/opt/conda/lib/python3.7/multiprocessing/queues.py\", line 351, in get\n",
      "    with self._rlock:\n",
      "  File \"/opt/conda/lib/python3.7/multiprocessing/pool.py\", line 110, in worker\n",
      "    task = get()\n",
      "KeyboardInterrupt\n",
      "KeyboardInterrupt\n",
      "KeyboardInterrupt\n",
      "  File \"/opt/conda/lib/python3.7/multiprocessing/synchronize.py\", line 95, in __enter__\n",
      "    return self._semlock.__enter__()\n",
      "  File \"/opt/conda/lib/python3.7/multiprocessing/pool.py\", line 110, in worker\n",
      "    task = get()\n",
      "KeyboardInterrupt\n",
      "  File \"/opt/conda/lib/python3.7/multiprocessing/queues.py\", line 352, in get\n",
      "    res = self._reader.recv_bytes()\n",
      "  File \"/opt/conda/lib/python3.7/multiprocessing/pool.py\", line 110, in worker\n",
      "    task = get()\n",
      "  File \"/opt/conda/lib/python3.7/multiprocessing/synchronize.py\", line 95, in __enter__\n",
      "    return self._semlock.__enter__()\n",
      "  File \"/opt/conda/lib/python3.7/multiprocessing/synchronize.py\", line 95, in __enter__\n",
      "    return self._semlock.__enter__()\n",
      "KeyboardInterrupt\n",
      "KeyboardInterrupt\n",
      "KeyboardInterrupt\n",
      "  File \"/opt/conda/lib/python3.7/multiprocessing/queues.py\", line 351, in get\n",
      "    with self._rlock:\n",
      "  File \"/opt/conda/lib/python3.7/multiprocessing/connection.py\", line 216, in recv_bytes\n",
      "    buf = self._recv_bytes(maxlength)\n",
      "  File \"/opt/conda/lib/python3.7/multiprocessing/connection.py\", line 407, in _recv_bytes\n",
      "    buf = self._recv(4)\n"
     ]
    },
    {
     "name": "stdout",
     "output_type": "stream",
     "text": [
      "RGB                  | Time: 0:04:56.253255  Type: object  Shape: ()\n"
     ]
    },
    {
     "name": "stderr",
     "output_type": "stream",
     "text": [
      "  File \"/opt/conda/lib/python3.7/multiprocessing/synchronize.py\", line 95, in __enter__\n",
      "    return self._semlock.__enter__()\n",
      "  File \"/opt/conda/lib/python3.7/multiprocessing/connection.py\", line 379, in _recv\n",
      "    chunk = read(handle, remaining)\n",
      "KeyboardInterrupt\n",
      "KeyboardInterrupt\n",
      "  File \"/opt/conda/lib/python3.7/multiprocessing/queues.py\", line 351, in get\n",
      "    with self._rlock:\n",
      "  File \"/opt/conda/lib/python3.7/multiprocessing/synchronize.py\", line 95, in __enter__\n",
      "    return self._semlock.__enter__()\n",
      "KeyboardInterrupt\n"
     ]
    },
    {
     "name": "stdout",
     "output_type": "stream",
     "text": [
      "RGB                  | Time: 0:04:55.939364  Type: object  Shape: ()\n"
     ]
    },
    {
     "name": "stderr",
     "output_type": "stream",
     "text": [
      "KeyboardInterrupt\n"
     ]
    },
    {
     "name": "stdout",
     "output_type": "stream",
     "text": [
      "RGB                  | Time: 0:04:56.652564  Type: object  Shape: ()\n",
      "RGB                  | Time: 0:04:56.460918  Type: object  Shape: ()\n",
      "RGB                  | Time: 0:04:56.648903  Type: object  Shape: ()\n",
      "RGB                  | Time: 0:04:56.597306  Type: object  Shape: ()\n",
      "RGB                  | Time: 0:04:56.306666  Type: object  Shape: ()\n",
      "RGB                  | Time: 0:04:56.236913  Type: object  Shape: ()\n",
      "RGB                  | Time: 0:00:00.499091  Type: object  Shape: ()\n",
      "RGB                  | Time: 0:00:00.552063  Type: object  Shape: ()\n"
     ]
    },
    {
     "name": "stderr",
     "output_type": "stream",
     "text": [
      "Process ForkPoolWorker-28:\n"
     ]
    },
    {
     "name": "stdout",
     "output_type": "stream",
     "text": [
      "RGB                  | Time: 0:00:00.536933  Type: object  Shape: ()\n",
      "RGB                  | Time: 0:00:00.471201  Type: object  Shape: ()\n",
      "RGB                  | Time: 0:00:00.676805  Type: object  Shape: ()\n",
      "RGB                  | Time: 0:00:00.378648  Type: object  Shape: ()\n",
      "RGB                  | Time: 0:00:00.789018  Type: object  Shape: ()\n",
      "RGB                  | Time: 0:00:00.777242  Type: object  Shape: ()\n",
      "RGB                  | Time: 0:00:00.786852  Type: object  Shape: ()\n",
      "RGB                  | Time: 0:00:00.690888  Type: object  Shape: ()\n",
      "RGB                  | Time: 0:00:00.576182  Type: object  Shape: ()\n",
      "RGB                  | Time: 0:00:00.802792  Type: object  Shape: ()\n",
      "RGB                  | Time: 0:00:00.788450  Type: object  Shape: ()\n"
     ]
    },
    {
     "name": "stderr",
     "output_type": "stream",
     "text": [
      "Traceback (most recent call last):\n",
      "  File \"/opt/conda/lib/python3.7/multiprocessing/process.py\", line 297, in _bootstrap\n",
      "    self.run()\n",
      "  File \"/opt/conda/lib/python3.7/multiprocessing/process.py\", line 99, in run\n",
      "    self._target(*self._args, **self._kwargs)\n",
      "  File \"/opt/conda/lib/python3.7/multiprocessing/pool.py\", line 135, in worker\n",
      "    completed += 1\n",
      "KeyboardInterrupt\n",
      "Process ForkPoolWorker-19:\n",
      "Traceback (most recent call last):\n",
      "  File \"/opt/conda/lib/python3.7/multiprocessing/process.py\", line 297, in _bootstrap\n",
      "    self.run()\n",
      "  File \"/opt/conda/lib/python3.7/multiprocessing/process.py\", line 99, in run\n",
      "    self._target(*self._args, **self._kwargs)\n",
      "  File \"/opt/conda/lib/python3.7/multiprocessing/pool.py\", line 135, in worker\n",
      "    completed += 1\n",
      "KeyboardInterrupt\n",
      "Process ForkPoolWorker-17:\n",
      "Traceback (most recent call last):\n",
      "  File \"/opt/conda/lib/python3.7/multiprocessing/process.py\", line 297, in _bootstrap\n",
      "    self.run()\n",
      "  File \"/opt/conda/lib/python3.7/multiprocessing/process.py\", line 99, in run\n",
      "    self._target(*self._args, **self._kwargs)\n",
      "  File \"/opt/conda/lib/python3.7/multiprocessing/pool.py\", line 135, in worker\n",
      "    completed += 1\n",
      "KeyboardInterrupt\n",
      "Process ForkPoolWorker-15:\n",
      "Traceback (most recent call last):\n",
      "  File \"/opt/conda/lib/python3.7/multiprocessing/process.py\", line 297, in _bootstrap\n",
      "    self.run()\n",
      "  File \"/opt/conda/lib/python3.7/multiprocessing/process.py\", line 99, in run\n",
      "    self._target(*self._args, **self._kwargs)\n",
      "  File \"/opt/conda/lib/python3.7/multiprocessing/pool.py\", line 135, in worker\n",
      "    completed += 1\n",
      "KeyboardInterrupt\n",
      "Process ForkPoolWorker-18:\n",
      "Traceback (most recent call last):\n",
      "  File \"/opt/conda/lib/python3.7/multiprocessing/process.py\", line 297, in _bootstrap\n",
      "    self.run()\n",
      "  File \"/opt/conda/lib/python3.7/multiprocessing/process.py\", line 99, in run\n",
      "    self._target(*self._args, **self._kwargs)\n",
      "  File \"/opt/conda/lib/python3.7/multiprocessing/pool.py\", line 135, in worker\n",
      "    completed += 1\n",
      "Process ForkPoolWorker-30:\n",
      "Process ForkPoolWorker-23:\n",
      "KeyboardInterrupt\n",
      "Traceback (most recent call last):\n",
      "  File \"/opt/conda/lib/python3.7/multiprocessing/process.py\", line 297, in _bootstrap\n",
      "    self.run()\n",
      "Traceback (most recent call last):\n",
      "Process ForkPoolWorker-26:\n",
      "  File \"/opt/conda/lib/python3.7/multiprocessing/process.py\", line 297, in _bootstrap\n",
      "    self.run()\n",
      "  File \"/opt/conda/lib/python3.7/multiprocessing/process.py\", line 99, in run\n",
      "    self._target(*self._args, **self._kwargs)\n",
      "Process ForkPoolWorker-8:\n",
      "Traceback (most recent call last):\n",
      "  File \"/opt/conda/lib/python3.7/multiprocessing/process.py\", line 99, in run\n",
      "    self._target(*self._args, **self._kwargs)\n",
      "Traceback (most recent call last):\n",
      "  File \"/opt/conda/lib/python3.7/multiprocessing/pool.py\", line 135, in worker\n",
      "    completed += 1\n",
      "  File \"/opt/conda/lib/python3.7/multiprocessing/process.py\", line 297, in _bootstrap\n",
      "    self.run()\n",
      "KeyboardInterrupt\n",
      "Process ForkPoolWorker-13:\n",
      "  File \"/opt/conda/lib/python3.7/multiprocessing/pool.py\", line 135, in worker\n",
      "    completed += 1\n",
      "  File \"/opt/conda/lib/python3.7/multiprocessing/process.py\", line 297, in _bootstrap\n",
      "    self.run()\n",
      "Traceback (most recent call last):\n",
      "  File \"/opt/conda/lib/python3.7/multiprocessing/process.py\", line 99, in run\n",
      "    self._target(*self._args, **self._kwargs)\n",
      "  File \"/opt/conda/lib/python3.7/multiprocessing/process.py\", line 297, in _bootstrap\n",
      "    self.run()\n",
      "  File \"/opt/conda/lib/python3.7/multiprocessing/process.py\", line 99, in run\n",
      "    self._target(*self._args, **self._kwargs)\n",
      "  File \"/opt/conda/lib/python3.7/multiprocessing/pool.py\", line 135, in worker\n",
      "    completed += 1\n",
      "KeyboardInterrupt\n",
      "  File \"/opt/conda/lib/python3.7/multiprocessing/process.py\", line 99, in run\n",
      "    self._target(*self._args, **self._kwargs)\n",
      "  File \"/opt/conda/lib/python3.7/multiprocessing/pool.py\", line 135, in worker\n",
      "    completed += 1\n",
      "KeyboardInterrupt\n",
      "  File \"/opt/conda/lib/python3.7/multiprocessing/pool.py\", line 135, in worker\n",
      "    completed += 1\n",
      "KeyboardInterrupt\n",
      "KeyboardInterrupt\n",
      "Process ForkPoolWorker-24:\n",
      "Traceback (most recent call last):\n",
      "  File \"/opt/conda/lib/python3.7/multiprocessing/process.py\", line 297, in _bootstrap\n",
      "    self.run()\n",
      "  File \"/opt/conda/lib/python3.7/multiprocessing/process.py\", line 99, in run\n",
      "    self._target(*self._args, **self._kwargs)\n",
      "  File \"/opt/conda/lib/python3.7/multiprocessing/pool.py\", line 135, in worker\n",
      "    completed += 1\n",
      "KeyboardInterrupt\n",
      "Process ForkPoolWorker-3:\n",
      "Traceback (most recent call last):\n",
      "  File \"/opt/conda/lib/python3.7/multiprocessing/process.py\", line 297, in _bootstrap\n",
      "    self.run()\n",
      "Process ForkPoolWorker-31:\n",
      "  File \"/opt/conda/lib/python3.7/multiprocessing/process.py\", line 99, in run\n",
      "    self._target(*self._args, **self._kwargs)\n",
      "  File \"/opt/conda/lib/python3.7/multiprocessing/pool.py\", line 135, in worker\n",
      "    completed += 1\n",
      "Traceback (most recent call last):\n",
      "KeyboardInterrupt\n",
      "  File \"/opt/conda/lib/python3.7/multiprocessing/process.py\", line 297, in _bootstrap\n",
      "    self.run()\n",
      "  File \"/opt/conda/lib/python3.7/multiprocessing/process.py\", line 99, in run\n",
      "    self._target(*self._args, **self._kwargs)\n",
      "  File \"/opt/conda/lib/python3.7/multiprocessing/pool.py\", line 135, in worker\n",
      "    completed += 1\n",
      "KeyboardInterrupt\n",
      "Process ForkPoolWorker-6:\n",
      "Traceback (most recent call last):\n",
      "  File \"/opt/conda/lib/python3.7/multiprocessing/process.py\", line 297, in _bootstrap\n",
      "    self.run()\n",
      "  File \"/opt/conda/lib/python3.7/multiprocessing/process.py\", line 99, in run\n",
      "    self._target(*self._args, **self._kwargs)\n",
      "  File \"/opt/conda/lib/python3.7/multiprocessing/pool.py\", line 135, in worker\n",
      "    completed += 1\n",
      "KeyboardInterrupt\n",
      "Process ForkPoolWorker-7:\n",
      "Traceback (most recent call last):\n",
      "  File \"/opt/conda/lib/python3.7/multiprocessing/process.py\", line 297, in _bootstrap\n",
      "    self.run()\n",
      "  File \"/opt/conda/lib/python3.7/multiprocessing/process.py\", line 99, in run\n",
      "    self._target(*self._args, **self._kwargs)\n",
      "  File \"/opt/conda/lib/python3.7/multiprocessing/pool.py\", line 135, in worker\n",
      "    completed += 1\n",
      "KeyboardInterrupt\n"
     ]
    }
   ],
   "source": [
    "tiles.multiprocess_filtered_images_to_tiles(display=False, \n",
    "                                            save_summary=False, \n",
    "                                            save_data=False, \n",
    "                                            save_top_tiles=True,\n",
    "                                            html=False, \n",
    "                                            image_num_list=list(range(0, len(rois_filtered_path.ls()))))"
   ]
  },
  {
   "cell_type": "code",
   "execution_count": null,
   "metadata": {},
   "outputs": [],
   "source": [
    "print(len(tiles_path.ls()))\n",
    "\n",
    "def get_wsi_name_from_path(path):\n",
    "    split = path.stem.split('-')\n",
    "    return f'{split[0]}-{split[1]}-{split[2]}-{split[3]}'\n",
    "\n",
    "l = []\n",
    "for p in tqdm(tiles_path.ls()):\n",
    "    l.append(get_wsi_name_from_path(p))\n",
    "\n",
    "print(len(set(l)))\n",
    "print(set(l))"
   ]
  },
  {
   "cell_type": "code",
   "execution_count": null,
   "metadata": {},
   "outputs": [],
   "source": [
    "show_multiple_images_big(tiles_path)"
   ]
  },
  {
   "cell_type": "code",
   "execution_count": null,
   "metadata": {},
   "outputs": [],
   "source": [
    "#!rm -r {rois_filtered_path/'*'}\n",
    "#!rm -r {tiles_path/'*'}"
   ]
  },
  {
   "cell_type": "markdown",
   "metadata": {},
   "source": [
    "## single process"
   ]
  },
  {
   "cell_type": "code",
   "execution_count": null,
   "metadata": {},
   "outputs": [],
   "source": [
    "#!rm -r {tiles_path/'*'}"
   ]
  },
  {
   "cell_type": "code",
   "execution_count": null,
   "metadata": {
    "scrolled": true
   },
   "outputs": [],
   "source": [
    "failed = []\n",
    "for n, p in tqdm(enumerate(rois_filtered_path.ls()), total=len(rois_filtered_path.ls())):\n",
    "    if p.suffix == '.png':\n",
    "        try:\n",
    "            print(p)\n",
    "            tiles.summary_and_tiles(n, display=False, save_summary=False, save_data=False, save_top_tiles=True)\n",
    "        except:\n",
    "            failed.append(p)\n",
    "            \n",
    "print(failed)"
   ]
  },
  {
   "cell_type": "code",
   "execution_count": 14,
   "metadata": {},
   "outputs": [
    {
     "data": {
      "application/vnd.jupyter.widget-view+json": {
       "model_id": "7b6d9fe619a14ad3956764dbea065182",
       "version_major": 2,
       "version_minor": 0
      },
      "text/plain": [
       "HBox(children=(IntProgress(value=0, max=39), HTML(value='')))"
      ]
     },
     "metadata": {},
     "output_type": "display_data"
    },
    {
     "name": "stdout",
     "output_type": "stream",
     "text": [
      "2\n",
      "\n"
     ]
    }
   ],
   "source": [
    "for n, p in tqdm(enumerate(rois_filtered_path.ls()), total=len(rois_filtered_path.ls())):\n",
    "    if p.name == '1314-12-Z-HE-scale_factor_2.png':\n",
    "        print(n)"
   ]
  },
  {
   "cell_type": "code",
   "execution_count": 12,
   "metadata": {},
   "outputs": [
    {
     "data": {
      "text/plain": [
       "PosixPath('/home/Deep_Learner/private/network/datasets/Hypophysenadenome-Rezidive/imgs_filtered_non_relapse/1314-12-Z-HE-scale_factor_2.png')"
      ]
     },
     "execution_count": 12,
     "metadata": {},
     "output_type": "execute_result"
    }
   ],
   "source": [
    "pa = rois_filtered_path/'1314-12-Z-HE-scale_factor_2.png';pa"
   ]
  },
  {
   "cell_type": "code",
   "execution_count": 13,
   "metadata": {},
   "outputs": [
    {
     "data": {
      "text/plain": [
       "'1314-12-Z-HE-scale_factor_2.png'"
      ]
     },
     "execution_count": 13,
     "metadata": {},
     "output_type": "execute_result"
    }
   ],
   "source": [
    "pa.name"
   ]
  },
  {
   "cell_type": "code",
   "execution_count": null,
   "metadata": {
    "scrolled": true
   },
   "outputs": [],
   "source": [
    "tiles.summary_and_tiles(2, display=False, save_summary=False, save_data=False, save_top_tiles=True)"
   ]
  },
  {
   "cell_type": "markdown",
   "metadata": {
    "heading_collapsed": true
   },
   "source": [
    "# exp"
   ]
  },
  {
   "cell_type": "code",
   "execution_count": null,
   "metadata": {
    "hidden": true
   },
   "outputs": [],
   "source": [
    "import PIL\n",
    "p = '/home/Deep_Learner/work/network/datasets/Hypophysenadenome/rois_corticotrop/1000-13-III-HE-ROI_1-ACTH.png'\n",
    "\n",
    "img_pil = slide.open_image(p)\n",
    "img_np = util.pil_to_np_rgb(img_pil)\n",
    "grayscale_np = filter.filter_rgb_to_grayscale(img_np)\n",
    "complement_np = filter.filter_complement(grayscale_np)\n",
    "otsu_np = filter.filter_otsu_threshold(complement_np).astype(np.bool)\n",
    "filtered_img_np = util.mask_rgb(img_np, otsu_np)\n",
    "\n",
    "plt.imshow(filtered_img_np)\n",
    "\n",
    "tiles = []\n",
    "sz = 512\n",
    "for i in range(int(filtered_img_np.shape[0]/sz)):\n",
    "    for j in range(int(filtered_img_np.shape[1]/sz)):\n",
    "         tiles.append(filtered_img_np[i*sz:(i+1)*sz,j*sz:(j+1)*sz])\n",
    "        \n",
    "\n",
    "for t in tiles:\n",
    "    print(t.shape)\n",
    "    nz = np.count_nonzero(t)// 3\n",
    "    print(f'tissue percentage:{(nz/(t.shape[0]*t.shape[1]))*100}')\n",
    "    plt.imshow(t)\n",
    "    plt.show()"
   ]
  },
  {
   "cell_type": "code",
   "execution_count": null,
   "metadata": {
    "hidden": true
   },
   "outputs": [],
   "source": []
  }
 ],
 "metadata": {
  "kernelspec": {
   "display_name": "DLM Py3",
   "language": "python",
   "name": "python3"
  },
  "language_info": {
   "codemirror_mode": {
    "name": "ipython",
    "version": 3
   },
   "file_extension": ".py",
   "mimetype": "text/x-python",
   "name": "python",
   "nbconvert_exporter": "python",
   "pygments_lexer": "ipython3",
   "version": "3.7.3"
  },
  "toc": {
   "base_numbering": 1,
   "nav_menu": {},
   "number_sections": true,
   "sideBar": true,
   "skip_h1_title": false,
   "title_cell": "Table of Contents",
   "title_sidebar": "Contents",
   "toc_cell": false,
   "toc_position": {
    "height": "calc(100% - 180px)",
    "left": "10px",
    "top": "150px",
    "width": "300px"
   },
   "toc_section_display": true,
   "toc_window_display": true
  }
 },
 "nbformat": 4,
 "nbformat_minor": 2
}

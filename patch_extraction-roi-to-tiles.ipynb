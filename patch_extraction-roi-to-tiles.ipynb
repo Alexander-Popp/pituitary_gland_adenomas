{
 "cells": [
  {
   "cell_type": "markdown",
   "metadata": {},
   "source": [
    "# Imports"
   ]
  },
  {
   "cell_type": "code",
   "execution_count": null,
   "metadata": {},
   "outputs": [],
   "source": [
    "%reload_ext autoreload\n",
    "%autoreload 2\n",
    "%matplotlib inline\n",
    "import sys\n",
    "###\n",
    "#!pip install openslide-python\n",
    "#https://github.com/deroneriksson/python-wsi-preprocessing/\n",
    "###\n",
    "sys.path.append('../python-wsi-preprocessing/')\n",
    "from deephistopath.wsi import slide, filter, tiles, util\n",
    "\n",
    "import sys\n",
    "sys.path.append('../fastai/') #fastai version 1.0\n",
    "from fastai.vision import *\n",
    "from fastai.core import parallel\n",
    "\n",
    "import pandas as pd\n",
    "import numpy as np\n",
    "import os\n",
    "from pathlib import Path\n",
    "from functools import partial, update_wrapper\n",
    "from tqdm import tqdm_notebook as tqdm\n",
    "from enum import Enum\n",
    "import matplotlib.pyplot as plt\n",
    "import matplotlib.image as mpimg\n",
    "from PIL import Image\n",
    "Image.MAX_IMAGE_PIXELS = 1000000000\n",
    "\n",
    "PATH = Path('/home/Deep_Learner/work/network/datasets/Hypophysenadenome/')\n",
    "FONT_PATH=PATH/'1984-Happines-Regular.ttf'\n",
    "ROIS_CORTICOTROP = PATH/'rois_corticotrop'\n",
    "ROIS_CORTICOTROP_FILTERED = PATH/'rois_corticotrop_filtered'\n",
    "ROIS_GONADOTROP = PATH/'rois_gonadotrop'\n",
    "ROIS_GONADOTROP_FILTERED = PATH/'rois_gonadotrop_filtered'\n",
    "TILES_CORTICOTROP = PATH/'tiles_corticotrop'\n",
    "TILES_GONADOTROP = PATH/'tiles_gonadotrop'\n",
    "\n",
    "ROIS_EXPERIMENTING = PATH/'rois_experimenting'\n",
    "ROIS_EXPERIMENTING_FILTERED = PATH/'rois_experimenting_filtered'\n",
    "TILES_EXPERIMENTING = PATH/'tiles_experimenting'\n",
    "\n",
    "slide.BASE_DIR = PATH\n",
    "#slide.TRAIN_PREFIX = 'hypophysen'\n",
    "#slide.SRC_TRAIN_DIR = ROIS_CORTICOTROP\n",
    "slide.SRC_TRAIN_DIR = ROIS_GONADOTROP\n",
    "\n",
    "def show(np):\n",
    "    return util.np_to_pil(np)\n",
    "\n",
    "Path.ls = lambda x: [p for p in list(x.iterdir()) if '.ipynb_checkpoints' not in p.name]\n",
    "\n",
    "def show_multiple_images(path, rows = 3, figsize=(128, 64)):\n",
    "    imgs = [open_image(p) for p in path.ls()]\n",
    "    show_all(imgs=imgs, r=rows, figsize=figsize)\n",
    "    \n",
    "def show_multiple_images_big(path:pathlib.Path):\n",
    "    for p in path.ls():\n",
    "        plt.imshow(mpimg.imread(str(p)))\n",
    "        plt.show()\n",
    "        \n",
    "class AdenomaType(Enum):\n",
    "    experimenting = 0\n",
    "    corticotrop = 1\n",
    "    gonadotrop = 2"
   ]
  },
  {
   "cell_type": "code",
   "execution_count": null,
   "metadata": {},
   "outputs": [],
   "source": [
    "adenomaType = AdenomaType.experimenting\n",
    "\n",
    "if adenomaType == AdenomaType.gonadotrop:\n",
    "    rois_filtered_path = ROIS_GONADOTROP_FILTERED\n",
    "    rois_path = ROIS_GONADOTROP\n",
    "    tiles_path = TILES_GONADOTROP\n",
    "    \n",
    "if adenomaType == AdenomaType.corticotrop:\n",
    "    rois_filtered_path = ROIS_CORTICOTROP_FILTERED\n",
    "    rois_path = ROIS_CORTICOTROP\n",
    "    tiles_path = TILES_CORTICOTROP\n",
    "    \n",
    "if adenomaType == AdenomaType.experimenting:\n",
    "    rois_filtered_path = ROIS_EXPERIMENTING_FILTERED\n",
    "    rois_path = ROIS_EXPERIMENTING\n",
    "    tiles_path = TILES_EXPERIMENTING"
   ]
  },
  {
   "cell_type": "markdown",
   "metadata": {},
   "source": [
    "# Filter images"
   ]
  },
  {
   "cell_type": "code",
   "execution_count": null,
   "metadata": {},
   "outputs": [],
   "source": [
    "def filter_roi(img_path:pathlib.Path, index:int):\n",
    "    if img_path.suffix == '.png':\n",
    "        try:\n",
    "            img_pil = slide.open_image(img_path)\n",
    "            img_np = util.pil_to_np_rgb(img_pil)\n",
    "            grayscale_np = filter.filter_rgb_to_grayscale(img_np)\n",
    "            complement_np = filter.filter_complement(grayscale_np)\n",
    "            otsu_np = filter.filter_otsu_threshold(complement_np).astype(np.bool)\n",
    "            filtered_img_np = util.mask_rgb(img_np, otsu_np)\n",
    "            filtered_img_pil = util.np_to_pil(filtered_img_np)\n",
    "            #filtered_path = rois_filtered_path/f'{img_path.stem}-filtered{img_path.suffix}'\n",
    "            filtered_path = rois_filtered_path/f'{img_path.stem}{img_path.suffix}'\n",
    "            filtered_img_pil.save(filtered_path)\n",
    "        except:\n",
    "            print(img_path)\n",
    "            \n",
    "failed = []\n",
    "try:\n",
    "    parallel(filter_roi, rois_path.ls(), max_workers=25)\n",
    "except:\n",
    "    failed.append(img_path)\n",
    "    \n",
    "print(failed)"
   ]
  },
  {
   "cell_type": "code",
   "execution_count": null,
   "metadata": {},
   "outputs": [],
   "source": [
    "show_multiple_images_big(rois_filtered_path)"
   ]
  },
  {
   "cell_type": "markdown",
   "metadata": {},
   "source": [
    "# Create tiles"
   ]
  },
  {
   "cell_type": "markdown",
   "metadata": {},
   "source": [
    "## multi process"
   ]
  },
  {
   "cell_type": "code",
   "execution_count": null,
   "metadata": {},
   "outputs": [],
   "source": [
    "tiles.multiprocess_filtered_images_to_tiles(display=False, \n",
    "                                            save_summary=False, \n",
    "                                            save_data=False, \n",
    "                                            save_top_tiles=True,\n",
    "                                            html=False, \n",
    "                                            image_num_list=list(range(0, len(rois_filtered_path.ls()))))"
   ]
  },
  {
   "cell_type": "code",
   "execution_count": null,
   "metadata": {},
   "outputs": [],
   "source": [
    "len(tiles_path.ls())"
   ]
  },
  {
   "cell_type": "code",
   "execution_count": null,
   "metadata": {},
   "outputs": [],
   "source": [
    "show_multiple_images_big(tiles_path)"
   ]
  },
  {
   "cell_type": "code",
   "execution_count": null,
   "metadata": {},
   "outputs": [],
   "source": [
    "#!rm -r {rois_filtered_path/'*'}\n",
    "#!rm -r {tiles_path/'*'}"
   ]
  },
  {
   "cell_type": "markdown",
   "metadata": {},
   "source": [
    "## single process"
   ]
  },
  {
   "cell_type": "code",
   "execution_count": null,
   "metadata": {},
   "outputs": [],
   "source": [
    "#!rm -r {tiles_path/'*'}"
   ]
  },
  {
   "cell_type": "code",
   "execution_count": null,
   "metadata": {},
   "outputs": [],
   "source": [
    "failed = []\n",
    "for n, p in tqdm(enumerate(rois_filtered_path.ls()[:1]), total=len(rois_filtered_path.ls())-1):\n",
    "    if p.suffix == '.png':\n",
    "        try:\n",
    "            print(p)\n",
    "            tiles.summary_and_tiles(n, display=False, save_summary=False, save_data=False, save_top_tiles=True)\n",
    "        except:\n",
    "            failed.append(p)\n",
    "            \n",
    "print(failed)"
   ]
  },
  {
   "cell_type": "markdown",
   "metadata": {},
   "source": [
    "# exp"
   ]
  },
  {
   "cell_type": "code",
   "execution_count": null,
   "metadata": {},
   "outputs": [],
   "source": [
    "import PIL\n",
    "p = '/home/Deep_Learner/work/network/datasets/Hypophysenadenome/rois_corticotrop/1000-13-III-HE-ROI_1-ACTH.png'\n",
    "\n",
    "img_pil = slide.open_image(p)\n",
    "img_np = util.pil_to_np_rgb(img_pil)\n",
    "grayscale_np = filter.filter_rgb_to_grayscale(img_np)\n",
    "complement_np = filter.filter_complement(grayscale_np)\n",
    "otsu_np = filter.filter_otsu_threshold(complement_np).astype(np.bool)\n",
    "filtered_img_np = util.mask_rgb(img_np, otsu_np)\n",
    "\n",
    "plt.imshow(filtered_img_np)\n",
    "\n",
    "tiles = []\n",
    "sz = 512\n",
    "for i in range(int(filtered_img_np.shape[0]/sz)):\n",
    "    for j in range(int(filtered_img_np.shape[1]/sz)):\n",
    "         tiles.append(filtered_img_np[i*sz:(i+1)*sz,j*sz:(j+1)*sz])\n",
    "        \n",
    "\n",
    "for t in tiles:\n",
    "    print(t.shape)\n",
    "    nz = np.count_nonzero(t)// 3\n",
    "    print(f'tissue percentage:{(nz/(t.shape[0]*t.shape[1]))*100}')\n",
    "    plt.imshow(t)\n",
    "    plt.show()"
   ]
  },
  {
   "cell_type": "code",
   "execution_count": null,
   "metadata": {},
   "outputs": [],
   "source": []
  }
 ],
 "metadata": {
  "kernelspec": {
   "display_name": "Python 3",
   "language": "python",
   "name": "python3"
  },
  "language_info": {
   "codemirror_mode": {
    "name": "ipython",
    "version": 3
   },
   "file_extension": ".py",
   "mimetype": "text/x-python",
   "name": "python",
   "nbconvert_exporter": "python",
   "pygments_lexer": "ipython3",
   "version": "3.6.7"
  },
  "toc": {
   "base_numbering": 1,
   "nav_menu": {},
   "number_sections": true,
   "sideBar": true,
   "skip_h1_title": false,
   "title_cell": "Table of Contents",
   "title_sidebar": "Contents",
   "toc_cell": false,
   "toc_position": {},
   "toc_section_display": true,
   "toc_window_display": true
  }
 },
 "nbformat": 4,
 "nbformat_minor": 2
}
